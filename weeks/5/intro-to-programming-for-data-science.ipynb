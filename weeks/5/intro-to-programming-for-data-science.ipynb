{
  "cells": [
    {
      "cell_type": "markdown",
      "metadata": {},
      "source": [
        "# Intro to Programming for Data Science\n",
        "\n",
        "geshun\n",
        "\n",
        "##### Import pandas\n",
        "\n",
        "##### Open and read files using vanilla python\n",
        "\n",
        "> File name is `alpha-12-Sep-2022 21-28-50.csv`\n",
        "\n",
        "##### Read file using Pandas\n",
        "\n",
        "``` python\n",
        "# downloaded file\n",
        "```\n",
        "\n",
        "``` python\n",
        "# directly from github\n",
        "```\n",
        "\n",
        "##### Get Info and summary about the data\n",
        "\n",
        "The knowledge gained should be useful for processing the data for later\n",
        "analysis.\n",
        "\n",
        "##### Create analytical dataset\n",
        "\n",
        "##### Compare your result with this: If after transforming your data, you get something similar, then things are getting interesting."
      ],
      "id": "481fbe56-0ca9-43fe-b5af-64921626a2fb"
    },
    {
      "cell_type": "code",
      "execution_count": 3,
      "metadata": {},
      "outputs": [
        {
          "output_type": "stream",
          "name": "stdout",
          "text": [
            "<class 'pandas.core.frame.DataFrame'>\n",
            "RangeIndex: 33 entries, 0 to 32\n",
            "Data columns (total 11 columns):\n",
            " #   Column                    Non-Null Count  Dtype         \n",
            "---  ------                    --------------  -----         \n",
            " 0   transaction_id            18 non-null     object        \n",
            " 1   transaction_date          18 non-null     datetime64[ns]\n",
            " 2   transaction_type          18 non-null     category      \n",
            " 3   transaction_category      18 non-null     category      \n",
            " 4   transaction_item          18 non-null     object        \n",
            " 5   transaction_total_cost    18 non-null     float64       \n",
            " 6   transaction_quantity      10 non-null     float64       \n",
            " 7   transaction_unit_price    9 non-null      float64       \n",
            " 8   transaction_source        18 non-null     object        \n",
            " 9   transaction_measure_unit  10 non-null     object        \n",
            " 10  transaction_remark        2 non-null      object        \n",
            "dtypes: category(2), datetime64[ns](1), float64(3), object(5)\n",
            "memory usage: 3.1+ KB"
          ]
        }
      ],
      "source": [
        "from pandas import read_csv\n",
        "from numpy import nan\n",
        "\n",
        "url = \"https://raw.githubusercontent.com/geshun/analytics-group/main/weeks/5/alpha-12-Sep-2022%2021-28-50.csv\"\n",
        "\n",
        "dt = read_csv(\n",
        "  url,\n",
        "  skip_blank_lines=True,\n",
        "  dtype={\n",
        "    \"transaction_type\": \"category\",\n",
        "    \"transaction_category\": \"category\"\n",
        "  },\n",
        "  converters={\n",
        "    \"transaction_unit_price\": lambda x: float(x) if len(x.strip()) != 0 else nan,\n",
        "    \"transaction_total_cost\": lambda x: float(x.replace(\",\", \"\")) if len(x.strip()) != 0 else nan\n",
        "  },\n",
        "  parse_dates=[\"transaction_date\"]\n",
        ")\n",
        "\n",
        "dt.info()"
      ],
      "id": "78d2151b-d956-44e7-9c30-cb5d75085ca4"
    },
    {
      "cell_type": "markdown",
      "metadata": {},
      "source": [
        "##### Save dataset\n",
        "\n",
        "##### Gaining insight from data\n",
        "\n",
        "##### Import matplotlib"
      ],
      "id": "27708542-4eb7-4c2b-bfae-fd8ee5ba16ea"
    }
  ],
  "nbformat": 4,
  "nbformat_minor": 5,
  "metadata": {
    "kernelspec": {
      "name": "python3",
      "display_name": "Python 3",
      "language": "python"
    },
    "language_info": {
      "name": "python",
      "codemirror_mode": {
        "name": "ipython",
        "version": "3"
      },
      "file_extension": ".py",
      "mimetype": "text/x-python",
      "nbconvert_exporter": "python",
      "pygments_lexer": "ipython3",
      "version": "3.8.8"
    }
  }
}