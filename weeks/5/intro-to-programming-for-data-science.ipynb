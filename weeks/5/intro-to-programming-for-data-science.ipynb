{
  "cells": [
    {
      "cell_type": "markdown",
      "metadata": {},
      "source": [
        "# Intro to Programming for Data Science\n",
        "\n",
        "geshun\n",
        "\n",
        "##### Import pandas\n",
        "\n",
        "##### Open and read files using vanilla python\n",
        "\n",
        "> File name is `alpha 12-Sep-2022 21-28-50.csv`\n",
        "\n",
        "##### Read file using Pandas\n",
        "\n",
        "##### Get Info and summary about the data\n",
        "\n",
        "The knowledge gained should be useful for processing the data for later\n",
        "analysis.\n",
        "\n",
        "##### Create analytical dataset\n",
        "\n",
        "##### Save dataset\n",
        "\n",
        "##### Gaining insight from data\n",
        "\n",
        "##### Import matplotlib"
      ],
      "id": "f6b69acd-f03a-4999-a93f-88dd063407be"
    }
  ],
  "nbformat": 4,
  "nbformat_minor": 5,
  "metadata": {
    "kernelspec": {
      "name": "python3",
      "display_name": "Python 3",
      "language": "python"
    },
    "language_info": {
      "name": "python",
      "codemirror_mode": {
        "name": "ipython",
        "version": "3"
      },
      "file_extension": ".py",
      "mimetype": "text/x-python",
      "nbconvert_exporter": "python",
      "pygments_lexer": "ipython3",
      "version": "3.8.8"
    }
  }
}