{
  "cells": [
    {
      "cell_type": "markdown",
      "metadata": {},
      "source": [
        "# Intro to Programming for Data Science\n",
        "\n",
        "geshun"
      ],
      "id": "528434fc-dd4a-4e96-885c-b698b3770110"
    },
    {
      "cell_type": "code",
      "execution_count": null,
      "metadata": {},
      "outputs": [],
      "source": [
        "reticulate::use_condaenv(\"base\")"
      ],
      "id": "06edc0a2-de12-49c4-b3df-6cf11514e034"
    },
    {
      "cell_type": "markdown",
      "metadata": {},
      "source": [
        "##### Import pandas\n",
        "\n",
        "Include `numpy` and `matplotlib`, we may use them down the line."
      ],
      "id": "3bca90e3-ba0d-46b8-8d59-e9aeed7da9ed"
    },
    {
      "cell_type": "code",
      "execution_count": null,
      "metadata": {},
      "outputs": [],
      "source": [
        "import numpy as np\n",
        "import matplotlib.pyplot as plt\n",
        "import pandas as pd"
      ],
      "id": "dbdb1fb3-8f17-44d4-95ba-8da9d7b5e3c6"
    },
    {
      "cell_type": "markdown",
      "metadata": {},
      "source": [
        "##### Open and read files using vanilla python\n",
        "\n",
        "> File name is `alpha-12-Sep-2022 21-28-50.csv`"
      ],
      "id": "12734f4a-e545-459c-aad4-5aa08196cfea"
    },
    {
      "cell_type": "code",
      "execution_count": null,
      "metadata": {},
      "outputs": [
        {
          "output_type": "stream",
          "name": "stdout",
          "text": [
            "'transaction_id,transaction_date,transaction_type,transaction_category,transaction_item,transaction_total_cost,transaction_quantity,transaction_unit_price,transaction_source,transaction_measure_unit,transaction_remark\\n0000018.2020410.SS.Gen.120,2020-04-10,Sell Services,Equipment (or Tool),Generator, 120 ,6, 20 ,Other,Hourly,\\n0000017.2020225.BG.Gra.120,2020-02-25,Buy Goods,Herbicide (or Weedicide),Gramoxone, 120 ,1, 120 ,uuni0004v   Unity Agro Chemicals,Bottle,\\n0000016.2020525.SG.Oth.500,2020-05-25,Sell Goods,Inserticide (or Pesticide),Other, 500 ,5, 100 ,Other,Bottle,\\n0000015.2020525.BG.cchChiPep.300,2020-05-25,Buy Goods,Seedling (or Plant Material),cchi0004p   Chili Pepper, 300 ,3, 100 ,aalp0001v   Alpha Ventures,Sachet,\\n0000014.2020525.BG.Pet.200,2020-05-25,Buy Goods,Fuel (or Oil),Petro, 200 ,10, 20 ,Other,Gallon,Getting expensive\\n0000013.2020524.BS.Goo.200,2020-05-24,Buy Services,Other,Goodwill, 200 ,1, 200 ,Other,Other,Goodwill (gift) to a friend of the farm\\n0000012.2020316.BG.bbeBelPepGre.220,2020-03-16,Buy Goods,Seedling (or Plant Material),bbel0002p   Bell Pepper Green, 220 ,1, 220 ,ggre0002v   Green Farms,Tin,\\n0000010.2020515.BS.kstKofStoSmi.600,2020-05-15,Buy Services,Employee,ksto0001e   Kofi Stone Smith, 600 ,,  ,Truthii,Monthly,\\n0000009.2020524.BG.Ban.50,2020-05-24,Buy Goods,Other,Banana, 50 ,,  ,aalp0001v   Alpha Ventures,,\\n0000008.2020515.SG.ccaCabGre.400,2020-05-15,Sell Goods,Seedling (or Plant Material),ccab0001p   Cabbage Green, 400 ,,  ,vveg000002c   Veggie Center,,\\n0000007.2020515.SG.Oth.1000,2020-05-15,Sell Goods,Herbicide (or Weedicide),Other,\" 1,000 \",,  ,ffoo000001c   Food House,,\\n0000006.2020515.SS.Oth.200,2020-05-15,Sell Services,Equipment (or Tool),Other, 200 ,,  ,ffoo000001c   Food House,,\\n0000005.2020515.SG.Oth.500,2020-05-15,Sell Goods,Crop (or Harvest),Other, 500 ,10,  ,vveg000002c   Veggie Center,Bag,\\n0000005.2020115.BG.Oth.1000,2020-01-15,Buy Goods,Equipment (or Tool),Other,\" 1,000 \",,  ,aalp0001v   Alpha Ventures,,\\n0000004.2020515.BS.Oth.600,2020-05-15,Buy Services,Labour,Other, 600 ,,  ,aalp0001v   Alpha Ventures,,\\n0000003.2020415.BG.Oth.200,2020-04-15,Buy Goods,Fertilizer (or Manure),Other, 200 ,2, 100 ,Other,,\\n0000002.2020515.BG.Pet.100,2020-05-15,Buy Goods,Fuel (or Oil),Petro, 100 ,,  ,aalp0001v   Alpha Ventures,,\\n0000001.2020426.SG.bbeBelPepGre.500,2020-04-26,Sell Goods,Crop (or Harvest),bbel0002p   Bell Pepper Green, 500 ,1, 500 ,ssis000003c   Sister Ama Joint,Bag,\\n,,,,,,,,,,\\n,,,,,,,,,,\\n,,,,,,,,,,\\n,,,,,,,,,,\\n,,,,,,,,,,\\n,,,,,,,,,,\\n,,,,,,,,,,\\n,,,,,,,,,,\\n,,,,,,,,,,\\n,,,,,,,,,,\\n,,,,,,,,,,\\n,,,,,,,,,,\\n,,,,,,,,,,\\n,,,,,,,,,,\\n,,,,,,,,,,\\n'"
          ]
        }
      ],
      "source": [
        "with open(\"alpha-12-Sep-2022 21-28-50.csv\", \"r\") as f:\n",
        "  transaction = f.read()\n",
        "\n",
        "transaction"
      ],
      "id": "99aa734f-8f2a-48e7-8273-0ceec867643b"
    },
    {
      "cell_type": "markdown",
      "metadata": {},
      "source": [
        "We see that a lot of work needs to be done on `transaction` string\n",
        "object if we want to get it into tabular/rectangular form or preprocess\n",
        "so that numeric fields are actually numeric.\n",
        "\n",
        "> We can attempt to read the `.csv` file using the `csv` package which\n",
        "> comes with standard python."
      ],
      "id": "9944a8cf-5c4d-45ed-8dc6-f3a3d21ae05d"
    },
    {
      "cell_type": "code",
      "execution_count": null,
      "metadata": {},
      "outputs": [
        {
          "output_type": "stream",
          "name": "stdout",
          "text": [
            "['transaction_id', 'transaction_date', 'transaction_type', 'transaction_category', 'transaction_item', 'transaction_total_cost', 'transaction_quantity', 'transaction_unit_price', 'transaction_source', 'transaction_measure_unit', 'transaction_remark']\n",
            "['0000018.2020410.SS.Gen.120', '2020-04-10', 'Sell Services', 'Equipment (or Tool)', 'Generator', ' 120 ', '6', ' 20 ', 'Other', 'Hourly', '']\n",
            "['0000017.2020225.BG.Gra.120', '2020-02-25', 'Buy Goods', 'Herbicide (or Weedicide)', 'Gramoxone', ' 120 ', '1', ' 120 ', 'uuni0004v   Unity Agro Chemicals', 'Bottle', '']\n",
            "['0000016.2020525.SG.Oth.500', '2020-05-25', 'Sell Goods', 'Inserticide (or Pesticide)', 'Other', ' 500 ', '5', ' 100 ', 'Other', 'Bottle', '']\n",
            "['0000015.2020525.BG.cchChiPep.300', '2020-05-25', 'Buy Goods', 'Seedling (or Plant Material)', 'cchi0004p   Chili Pepper', ' 300 ', '3', ' 100 ', 'aalp0001v   Alpha Ventures', 'Sachet', '']\n",
            "['0000014.2020525.BG.Pet.200', '2020-05-25', 'Buy Goods', 'Fuel (or Oil)', 'Petro', ' 200 ', '10', ' 20 ', 'Other', 'Gallon', 'Getting expensive']\n",
            "['0000013.2020524.BS.Goo.200', '2020-05-24', 'Buy Services', 'Other', 'Goodwill', ' 200 ', '1', ' 200 ', 'Other', 'Other', 'Goodwill (gift) to a friend of the farm']\n",
            "['0000012.2020316.BG.bbeBelPepGre.220', '2020-03-16', 'Buy Goods', 'Seedling (or Plant Material)', 'bbel0002p   Bell Pepper Green', ' 220 ', '1', ' 220 ', 'ggre0002v   Green Farms', 'Tin', '']\n",
            "['0000010.2020515.BS.kstKofStoSmi.600', '2020-05-15', 'Buy Services', 'Employee', 'ksto0001e   Kofi Stone Smith', ' 600 ', '', '  ', 'Truthii', 'Monthly', '']\n",
            "['0000009.2020524.BG.Ban.50', '2020-05-24', 'Buy Goods', 'Other', 'Banana', ' 50 ', '', '  ', 'aalp0001v   Alpha Ventures', '', '']\n",
            "['0000008.2020515.SG.ccaCabGre.400', '2020-05-15', 'Sell Goods', 'Seedling (or Plant Material)', 'ccab0001p   Cabbage Green', ' 400 ', '', '  ', 'vveg000002c   Veggie Center', '', '']\n",
            "['0000007.2020515.SG.Oth.1000', '2020-05-15', 'Sell Goods', 'Herbicide (or Weedicide)', 'Other', ' 1,000 ', '', '  ', 'ffoo000001c   Food House', '', '']\n",
            "['0000006.2020515.SS.Oth.200', '2020-05-15', 'Sell Services', 'Equipment (or Tool)', 'Other', ' 200 ', '', '  ', 'ffoo000001c   Food House', '', '']\n",
            "['0000005.2020515.SG.Oth.500', '2020-05-15', 'Sell Goods', 'Crop (or Harvest)', 'Other', ' 500 ', '10', '  ', 'vveg000002c   Veggie Center', 'Bag', '']\n",
            "['0000005.2020115.BG.Oth.1000', '2020-01-15', 'Buy Goods', 'Equipment (or Tool)', 'Other', ' 1,000 ', '', '  ', 'aalp0001v   Alpha Ventures', '', '']\n",
            "['0000004.2020515.BS.Oth.600', '2020-05-15', 'Buy Services', 'Labour', 'Other', ' 600 ', '', '  ', 'aalp0001v   Alpha Ventures', '', '']\n",
            "['0000003.2020415.BG.Oth.200', '2020-04-15', 'Buy Goods', 'Fertilizer (or Manure)', 'Other', ' 200 ', '2', ' 100 ', 'Other', '', '']\n",
            "['0000002.2020515.BG.Pet.100', '2020-05-15', 'Buy Goods', 'Fuel (or Oil)', 'Petro', ' 100 ', '', '  ', 'aalp0001v   Alpha Ventures', '', '']\n",
            "['0000001.2020426.SG.bbeBelPepGre.500', '2020-04-26', 'Sell Goods', 'Crop (or Harvest)', 'bbel0002p   Bell Pepper Green', ' 500 ', '1', ' 500 ', 'ssis000003c   Sister Ama Joint', 'Bag', '']\n",
            "['', '', '', '', '', '', '', '', '', '', '']\n",
            "['', '', '', '', '', '', '', '', '', '', '']\n",
            "['', '', '', '', '', '', '', '', '', '', '']\n",
            "['', '', '', '', '', '', '', '', '', '', '']\n",
            "['', '', '', '', '', '', '', '', '', '', '']\n",
            "['', '', '', '', '', '', '', '', '', '', '']\n",
            "['', '', '', '', '', '', '', '', '', '', '']\n",
            "['', '', '', '', '', '', '', '', '', '', '']\n",
            "['', '', '', '', '', '', '', '', '', '', '']\n",
            "['', '', '', '', '', '', '', '', '', '', '']\n",
            "['', '', '', '', '', '', '', '', '', '', '']\n",
            "['', '', '', '', '', '', '', '', '', '', '']\n",
            "['', '', '', '', '', '', '', '', '', '', '']\n",
            "['', '', '', '', '', '', '', '', '', '', '']\n",
            "['', '', '', '', '', '', '', '', '', '', '']"
          ]
        }
      ],
      "source": [
        "import csv\n",
        "with open(\"alpha-12-Sep-2022 21-28-50.csv\", \"r\") as file:\n",
        "  trans = csv.reader(file)\n",
        "  for line in trans:\n",
        "    print(line)"
      ],
      "id": "f8ab4aa5-5731-4663-b995-c30dc28bf512"
    },
    {
      "cell_type": "markdown",
      "metadata": {},
      "source": [
        "> This will be great if the idea is to process the file line (row) by\n",
        "> line.\n",
        "\n",
        "##### Read file using Pandas"
      ],
      "id": "ae79de5c-913a-4333-a800-36d127f61f98"
    },
    {
      "cell_type": "code",
      "execution_count": null,
      "metadata": {},
      "outputs": [],
      "source": [
        "df = pd.read_csv(\"alpha-12-Sep-2022 21-28-50.csv\")"
      ],
      "id": "6b5ce0fa-d4d5-45f1-95cf-b5c4c8aec743"
    },
    {
      "cell_type": "markdown",
      "metadata": {},
      "source": [
        "File can be read directly from github."
      ],
      "id": "cc626bab-7c95-4700-83c2-6b6fd9554429"
    },
    {
      "cell_type": "code",
      "execution_count": null,
      "metadata": {},
      "outputs": [],
      "source": [
        "df = pd.read_csv(\"https://raw.githubusercontent.com/geshun/analytics-group/main/weeks/5/alpha-12-Sep-2022%2021-28-50.csv\")"
      ],
      "id": "18193a26-cbea-4a31-8d84-f3c7fc84ceb6"
    },
    {
      "cell_type": "markdown",
      "metadata": {},
      "source": [
        "##### Get Info and summary about the data\n",
        "\n",
        "The knowledge gained should be useful for processing the data for later\n",
        "analysis."
      ],
      "id": "7a0e4642-1dc1-4dfb-87bf-6f9a12b558e4"
    },
    {
      "cell_type": "code",
      "execution_count": null,
      "metadata": {},
      "outputs": [
        {
          "output_type": "stream",
          "name": "stdout",
          "text": [
            "(33, 11)"
          ]
        }
      ],
      "source": [
        "df.shape"
      ],
      "id": "8474acb3-0f77-4181-8eb7-d7c74106c7ee"
    },
    {
      "cell_type": "markdown",
      "metadata": {},
      "source": [
        "> `df.shape` Gives a sense of how many records (rows) or fields\n",
        "> (columns) we are dealing with. Some data pre-processing can increase\n",
        "> (or decrease) the number of fields or decrease the number of records\n",
        "> (rows) - like dropping records with missing values."
      ],
      "id": "6454dd7a-2069-4fbd-8c28-a9f622d3479d"
    },
    {
      "cell_type": "code",
      "execution_count": null,
      "metadata": {},
      "outputs": [
        {
          "output_type": "stream",
          "name": "stdout",
          "text": [
            "<class 'pandas.core.frame.DataFrame'>\n",
            "RangeIndex: 33 entries, 0 to 32\n",
            "Data columns (total 11 columns):\n",
            " #   Column                    Non-Null Count  Dtype  \n",
            "---  ------                    --------------  -----  \n",
            " 0   transaction_id            18 non-null     object \n",
            " 1   transaction_date          18 non-null     object \n",
            " 2   transaction_type          18 non-null     object \n",
            " 3   transaction_category      18 non-null     object \n",
            " 4   transaction_item          18 non-null     object \n",
            " 5   transaction_total_cost    18 non-null     object \n",
            " 6   transaction_quantity      10 non-null     float64\n",
            " 7   transaction_unit_price    18 non-null     object \n",
            " 8   transaction_source        18 non-null     object \n",
            " 9   transaction_measure_unit  10 non-null     object \n",
            " 10  transaction_remark        2 non-null      object \n",
            "dtypes: float64(1), object(10)\n",
            "memory usage: 3.0+ KB"
          ]
        }
      ],
      "source": [
        "df.info()"
      ],
      "id": "504f8fd1-b034-42df-bd13-a8635cb1861e"
    },
    {
      "cell_type": "markdown",
      "metadata": {},
      "source": [
        "> `df.info()` Makes us aware of the data types of our columns. Here, you\n",
        "> should begin to find out if the data types produced by your\n",
        "> `pd.read_csv()` are what you intend to work with as they are or change\n",
        "> them. When the non-null count is not the same as the number of\n",
        "> entries, we conceive the idea that `pd.read_csv()` read in some\n",
        "> entries as `null`.\n",
        "\n",
        "The information provided by `df.info()` method, can also be established\n",
        "via the following:"
      ],
      "id": "cab97adc-faf5-4b8f-a537-9e296dc15640"
    },
    {
      "cell_type": "code",
      "execution_count": null,
      "metadata": {},
      "outputs": [
        {
          "output_type": "stream",
          "name": "stdout",
          "text": [
            "transaction_id               object\n",
            "transaction_date             object\n",
            "transaction_type             object\n",
            "transaction_category         object\n",
            "transaction_item             object\n",
            "transaction_total_cost       object\n",
            "transaction_quantity        float64\n",
            "transaction_unit_price       object\n",
            "transaction_source           object\n",
            "transaction_measure_unit     object\n",
            "transaction_remark           object\n",
            "dtype: object"
          ]
        }
      ],
      "source": [
        "df.dtypes"
      ],
      "id": "df2f55d4-b3ab-43a5-aba4-7f8748e6bcf0"
    },
    {
      "cell_type": "code",
      "execution_count": null,
      "metadata": {},
      "outputs": [
        {
          "output_type": "stream",
          "name": "stdout",
          "text": [
            "transaction_id              15\n",
            "transaction_date            15\n",
            "transaction_type            15\n",
            "transaction_category        15\n",
            "transaction_item            15\n",
            "transaction_total_cost      15\n",
            "transaction_quantity        23\n",
            "transaction_unit_price      15\n",
            "transaction_source          15\n",
            "transaction_measure_unit    23\n",
            "transaction_remark          31\n",
            "dtype: int64"
          ]
        }
      ],
      "source": [
        "df.isnull().sum()"
      ],
      "id": "dc3341c1-daa3-435f-b750-70bff5b0339e"
    },
    {
      "cell_type": "markdown",
      "metadata": {},
      "source": [
        "Another piece of check is duplicates and it can be done using\n",
        "`duplicated()` method of a `DataFrame`. Can you try understanding what\n",
        "caused the duplicates in the data?"
      ],
      "id": "70188703-4ae6-45c5-a2f0-e7c196a967f7"
    },
    {
      "cell_type": "code",
      "execution_count": null,
      "metadata": {},
      "outputs": [
        {
          "output_type": "stream",
          "name": "stdout",
          "text": [
            "14"
          ]
        }
      ],
      "source": [
        "df.duplicated().sum()"
      ],
      "id": "fb91db00-17a7-4df3-8f7d-83a54b0b2b7d"
    },
    {
      "cell_type": "markdown",
      "metadata": {},
      "source": [
        "> Before you drop duplicates (de-duplicate) or remove missing values,\n",
        "> there is an important question one needs to address. What set of\n",
        "> fields identify a unique record in your data? This is the idea of\n",
        "> primary key in database terminology. In our case, only the\n",
        "> `transaction_id` field is the unique record identifier. This field\n",
        "> should always have a value (hence, can’t be null), however,\n",
        "> `df.isnull().sum()` shows that it has null entries."
      ],
      "id": "395ddab6-f91e-448a-84de-fd8d1d681614"
    },
    {
      "cell_type": "code",
      "execution_count": null,
      "metadata": {},
      "outputs": [],
      "source": [
        "df.dropna(subset=[\"transaction_id\"], inplace=True)"
      ],
      "id": "d9d86630-ef62-4535-add7-0c08697c06e1"
    },
    {
      "cell_type": "markdown",
      "metadata": {},
      "source": [
        "*Can you explain why we did not just do `df.dropna()`? Also, what is the\n",
        "significant of using `inplace=True`?*\n",
        "\n",
        "If we had wanted to check whether an entire row in our `DataFrame` has\n",
        "missing value, we could have done `df[df.isnull().all(axis=1)]`\n",
        "\n",
        "Go ahead and check that we have less records (`18`) than we started with\n",
        "(`33`). However, there are still missing values in our data."
      ],
      "id": "a73415e0-14b2-4270-8786-e319f068a21a"
    },
    {
      "cell_type": "code",
      "execution_count": null,
      "metadata": {},
      "outputs": [
        {
          "output_type": "stream",
          "name": "stdout",
          "text": [
            "transaction_id              18\n",
            "transaction_date             9\n",
            "transaction_type             4\n",
            "transaction_category        10\n",
            "transaction_item            10\n",
            "transaction_total_cost      10\n",
            "transaction_quantity         6\n",
            "transaction_unit_price       7\n",
            "transaction_source           8\n",
            "transaction_measure_unit     8\n",
            "transaction_remark           2\n",
            "dtype: int64"
          ]
        }
      ],
      "source": [
        "df.nunique()"
      ],
      "id": "d21d3d4a-828b-4175-9756-21186075c0e5"
    },
    {
      "cell_type": "markdown",
      "metadata": {},
      "source": [
        "> `df.nunique()` counts the number of unique entries in each column. One\n",
        "> application of this information is to establish if some fields can be\n",
        "> stored as `Category`. We normally convert an object field into a\n",
        "> category if there are fixed entries. The `transaction_type` field for\n",
        "> instance has no missing values and only `4` unique entries. You can\n",
        "> know the entries by doing `df.transaction_type.unique()`\n",
        "\n",
        "##### Create analytical dataset\n",
        "\n",
        "We shall take a column and ask if it is in the form we want to work\n",
        "with. Apart from the `transaction_quantity` column, all other was read\n",
        "in as `object` type (`Pandas`’ (specifically `numpy`’s) way of saying\n",
        "mixed data type and thus string."
      ],
      "id": "d9384c33-af9f-45f0-8a0f-89f6419030ed"
    },
    {
      "cell_type": "code",
      "execution_count": null,
      "metadata": {},
      "outputs": [],
      "source": [
        "df[\"transaction_type\"] = df[\"transaction_type\"].astype(\"category\")\n",
        "df[\"transaction_type\"] = pd.Categorical(df[\"transaction_type\"])\n",
        "df = df.astype({\"transaction_type\": \"category\"})"
      ],
      "id": "5ec6392b-daed-4536-841d-9a5b157a577c"
    },
    {
      "cell_type": "markdown",
      "metadata": {},
      "source": [
        "> Run any of the code above to cast the `transaction_type` column to\n",
        "> categorical.\n",
        "\n",
        "*In case we also wanted to cast the `transaction_category` column to\n",
        "categorical, how would we have done that together with\n",
        "`transaction_type`?*"
      ],
      "id": "d7712bb1-03ca-4e1d-98de-b72c35754214"
    },
    {
      "cell_type": "code",
      "execution_count": null,
      "metadata": {},
      "outputs": [],
      "source": [
        "df[\"transaction_total_cost\"].astype(\"float\")"
      ],
      "id": "f39767af-fd47-40e8-94db-3c190e86b8ac"
    },
    {
      "cell_type": "markdown",
      "metadata": {},
      "source": [
        "*The above code unsuccessfully attempts to cast the\n",
        "`transaction_total_cost` as float. Do you understand the error message\n",
        "produced? How will you deal with it?*"
      ],
      "id": "18137e3a-7de2-4c34-9a3a-c135196469e7"
    },
    {
      "cell_type": "code",
      "execution_count": null,
      "metadata": {},
      "outputs": [],
      "source": [
        "df[\"transaction_total_cost\"] = pd.to_numeric(df.transaction_total_cost.str.replace(\",\", \"\"))\n",
        "# df[\"transaction_total_cost\"] = df[\"transaction_total_cost\"].str.replace(\",\", \"\").astype(float)"
      ],
      "id": "af5554f2-15f9-4b69-a708-e836469f1526"
    },
    {
      "cell_type": "markdown",
      "metadata": {},
      "source": [
        "> Run any of the above code to cast `transaction_total_cost` as numeric.\n",
        "> Realize that, I had to remove the comma in the text prior to casting.\n",
        "> In `Pandas`, the `str` method grants us access to methods applicable\n",
        "> to strings, and from there we can use the `replace()` method. Here, we\n",
        "> are replacing comma `\",\"` with empty string - nothing `\"\"` when we do\n",
        "> `replace(\",\", \"\")`.\n",
        "\n",
        "If you want to look too exotic (which perhaps is unnecessary in this\n",
        "case), you can consider this:\n",
        "`df[\"transaction_total_cost\"] = df[\"transaction_total_cost\"].apply(lambda x: float(x.replace(\",\", \"\")))`.\n",
        "It uses `lambda` or anonymous function via the `apply` method of a\n",
        "`Series`."
      ],
      "id": "d1e48820-6d99-4b92-a947-300dec9a4c38"
    },
    {
      "cell_type": "code",
      "execution_count": null,
      "metadata": {},
      "outputs": [],
      "source": [
        "df[\"transaction_date\"] = df[\"transaction_date\"].astype(\"datetime64[ns]\")\n",
        "df[\"transaction_date\"] = pd.to_datetime(df[\"transaction_date\"])"
      ],
      "id": "2e5d73d4-376b-4335-80e3-9628adb67003"
    },
    {
      "cell_type": "markdown",
      "metadata": {},
      "source": [
        "> Run any of the above code to get the `transaction_date` field as\n",
        "> datetime type.\n",
        "\n",
        "*We could have converted the `transaction_date` field together with\n",
        "`transaction_type`, can you work that out?*\n",
        "\n",
        "There is something interesting about the `transaction_unit_price`\n",
        "column. Try doing this and see if you will understand the error\n",
        "produced: `pd.to_numeric(df.transaction_unit_price)` or\n",
        "`df[\"transaction_unit_price\"].astype(float)`"
      ],
      "id": "6e1ea59a-5c81-42a0-b297-dbc59ee016c4"
    },
    {
      "cell_type": "code",
      "execution_count": null,
      "metadata": {},
      "outputs": [],
      "source": [
        "df[\"transaction_unit_price\"] = df[\"transaction_unit_price\"].str.strip().apply(lambda x: float(x) if len(x) != 0 else np.nan)\n",
        "df[\"transaction_unit_price\"] = pd.to_numeric(df.transaction_unit_price, errors='coerce')"
      ],
      "id": "c6a1ca63-a2ea-4078-ada5-a960f4f08fff"
    },
    {
      "cell_type": "markdown",
      "metadata": {},
      "source": [
        "> Run any of the above code to convert `transaction_unit_price` to\n",
        "> numeric."
      ],
      "id": "233cbad0-1ce5-42bf-a328-c84af5c25729"
    },
    {
      "cell_type": "code",
      "execution_count": null,
      "metadata": {},
      "outputs": [],
      "source": [
        "def to_float(x):\n",
        "  try:\n",
        "    return float(x)\n",
        "  except ValueError:\n",
        "    return np.nan"
      ],
      "id": "39d1076a-3c88-44b5-9f64-21f18cfeeb31"
    },
    {
      "cell_type": "code",
      "execution_count": null,
      "metadata": {},
      "outputs": [
        {
          "output_type": "stream",
          "name": "stdout",
          "text": [
            "0      20.0\n",
            "1     120.0\n",
            "2     100.0\n",
            "3     100.0\n",
            "4      20.0\n",
            "5     200.0\n",
            "6     220.0\n",
            "7       NaN\n",
            "8       NaN\n",
            "9       NaN\n",
            "10      NaN\n",
            "11      NaN\n",
            "12      NaN\n",
            "13      NaN\n",
            "14      NaN\n",
            "15    100.0\n",
            "16      NaN\n",
            "17    500.0\n",
            "Name: transaction_unit_price, dtype: float64"
          ]
        }
      ],
      "source": [
        "df[\"transaction_unit_price\"].apply(to_float)"
      ],
      "id": "72058d02-d0aa-4f30-8d77-c20a98be63f3"
    },
    {
      "cell_type": "markdown",
      "metadata": {},
      "source": [
        "We can also decided to write a function and apply it. We wrote a\n",
        "`to_float()` function and applied it. If you care about the list\n",
        "comprehension we talked about during the early days of our meetups see\n",
        "the immediate code below:"
      ],
      "id": "e1f3371d-56ae-4589-b32e-666939e0a058"
    },
    {
      "cell_type": "code",
      "execution_count": null,
      "metadata": {},
      "outputs": [],
      "source": [
        "[float(x.strip()) if x.strip().isnumeric() else np.nan for x in df.transaction_unit_price]"
      ],
      "id": "6f6af070-b2ba-498a-83cb-b9e3001bfdbe"
    },
    {
      "cell_type": "markdown",
      "metadata": {},
      "source": [
        "##### Compare your result with this: If after transforming your data, you get something similar, then things are getting interesting."
      ],
      "id": "76edd484-9f9a-4ed2-803b-83f42234d25e"
    },
    {
      "cell_type": "code",
      "execution_count": null,
      "metadata": {},
      "outputs": [
        {
          "output_type": "stream",
          "name": "stdout",
          "text": [
            "<class 'pandas.core.frame.DataFrame'>\n",
            "RangeIndex: 18 entries, 0 to 17\n",
            "Data columns (total 11 columns):\n",
            " #   Column                    Non-Null Count  Dtype         \n",
            "---  ------                    --------------  -----         \n",
            " 0   transaction_id            18 non-null     object        \n",
            " 1   transaction_date          18 non-null     datetime64[ns]\n",
            " 2   transaction_type          18 non-null     category      \n",
            " 3   transaction_category      18 non-null     category      \n",
            " 4   transaction_item          18 non-null     object        \n",
            " 5   transaction_total_cost    18 non-null     float64       \n",
            " 6   transaction_quantity      10 non-null     float64       \n",
            " 7   transaction_unit_price    9 non-null      float64       \n",
            " 8   transaction_source        18 non-null     object        \n",
            " 9   transaction_measure_unit  10 non-null     object        \n",
            " 10  transaction_remark        2 non-null      object        \n",
            "dtypes: category(2), datetime64[ns](1), float64(3), object(5)\n",
            "memory usage: 2.0+ KB"
          ]
        }
      ],
      "source": [
        "from pandas import read_csv\n",
        "from numpy import nan\n",
        "\n",
        "url = \"https://raw.githubusercontent.com/geshun/analytics-group/main/weeks/5/alpha-12-Sep-2022%2021-28-50.csv\"\n",
        "\n",
        "dt = read_csv(\n",
        "  url,\n",
        "  skipfooter=15,\n",
        "  engine=\"python\",\n",
        "  dtype={\n",
        "    \"transaction_type\": \"category\",\n",
        "    \"transaction_category\": \"category\"\n",
        "  },\n",
        "  converters={\n",
        "    \"transaction_unit_price\": lambda x: float(x) if len(x.strip()) != 0 else nan,\n",
        "    \"transaction_total_cost\": lambda x: float(x.replace(\",\", \"\")) if len(x.strip()) != 0 else nan\n",
        "  },\n",
        "  parse_dates=[\"transaction_date\"]\n",
        ")\n",
        "\n",
        "dt.info()"
      ],
      "id": "0623cd45-6b8e-483e-bd28-d4a3827af1cf"
    },
    {
      "cell_type": "markdown",
      "metadata": {},
      "source": [
        "##### Save dataset"
      ],
      "id": "a6b484ed-4606-4824-a095-7a12760bd2fc"
    },
    {
      "cell_type": "code",
      "execution_count": null,
      "metadata": {},
      "outputs": [],
      "source": [
        "# df.to_csv(\"weeks/5/alpha.csv\", index=False)"
      ],
      "id": "fabbd8bc-43b2-4160-a980-7f173165209e"
    },
    {
      "cell_type": "markdown",
      "metadata": {},
      "source": [
        "##### Gaining insight from data\n",
        "\n",
        "First let’s keep the columns simple and remove the redundant prefix name\n",
        "`transaction_`. We will also drop the last three columns\n",
        "(`source, measure_unit, remark`) we will not need them."
      ],
      "id": "d7d43c1c-75a8-4480-97d2-c6e5aa94dfbe"
    },
    {
      "cell_type": "code",
      "execution_count": null,
      "metadata": {},
      "outputs": [
        {
          "output_type": "stream",
          "name": "stdout",
          "text": [
            "Index(['transaction_id', 'transaction_date', 'transaction_type',\n",
            "       'transaction_category', 'transaction_item', 'transaction_total_cost',\n",
            "       'transaction_quantity', 'transaction_unit_price', 'transaction_source',\n",
            "       'transaction_measure_unit', 'transaction_remark'],\n",
            "      dtype='object')"
          ]
        }
      ],
      "source": [
        "df.columns"
      ],
      "id": "85966f54-ec50-4da3-93cc-835d2ce18531"
    },
    {
      "cell_type": "code",
      "execution_count": null,
      "metadata": {},
      "outputs": [],
      "source": [
        "pd.set_option(\"display.max_columns\", 6)\n",
        "pd.set_option(\"display.width\", 150)"
      ],
      "id": "b66dd962-3e32-4b7a-9d9a-2d6bb00e2741"
    },
    {
      "cell_type": "markdown",
      "metadata": {},
      "source": [
        "*How many Purchases and Sales have we made according to the dataset?*\n",
        "\n",
        "-   This is a segmentation question (dealing with groups) - transactions\n",
        "    that are related to purchases and those related to sales.\n",
        "\n",
        "-   A classic split-apply-combine approach to problem solving\n",
        "\n",
        "-   Basic count of elements belonging to each group\n",
        "\n",
        "We ask the following data specific questions:\n",
        "\n",
        "1.  What field captures information about purchases and sales?"
      ],
      "id": "9e218ff4-db37-418a-b741-94d4ff0f4162"
    },
    {
      "cell_type": "code",
      "execution_count": null,
      "metadata": {},
      "outputs": [
        {
          "output_type": "stream",
          "name": "stdout",
          "text": [
            "Buy Goods        8\n",
            "Sell Goods       5\n",
            "Buy Services     3\n",
            "Sell Services    2\n",
            "Name: type, dtype: int64"
          ]
        },
        {
          "output_type": "stream",
          "name": "stdout",
          "text": [
            "Buy Goods        44.444444\n",
            "Sell Goods       27.777778\n",
            "Buy Services     16.666667\n",
            "Sell Services    11.111111\n",
            "Name: type, dtype: float64"
          ]
        }
      ],
      "source": [
        "df[\"type\"].value_counts()"
      ],
      "id": "ee5333b3-8638-40d5-805e-f386036cfa16"
    },
    {
      "cell_type": "code",
      "execution_count": null,
      "metadata": {},
      "outputs": [
        {
          "output_type": "display_data",
          "metadata": {},
          "data": {
            "image/png": "[encoded data removed]"
          }
        }
      ],
      "source": [
        "df[\"type\"].value_counts().plot.barh()"
      ],
      "id": "07eb182a-150d-49b0-b9bc-0c7d55ef6eaf"
    },
    {
      "cell_type": "markdown",
      "metadata": {},
      "source": [
        "*What if we want the count for just goods and services regardless of\n",
        "whether bought or sold?*"
      ],
      "id": "e65ac5dc-c81b-471e-8917-a55513707567"
    },
    {
      "cell_type": "code",
      "execution_count": null,
      "metadata": {},
      "outputs": [
        {
          "output_type": "stream",
          "name": "stdout",
          "text": [
            "Buy     11\n",
            "Sell     7\n",
            "Name: 0, dtype: int64"
          ]
        }
      ],
      "source": [
        "df[\"type\"].str.split(expand=True)[0].value_counts()"
      ],
      "id": "96ff99c7-9331-4b63-85bd-0842925a381f"
    },
    {
      "cell_type": "markdown",
      "metadata": {},
      "source": [
        "*How do we address the above question using `groupby` (which is a more\n",
        "general way of answering segmentation related questions)?*"
      ],
      "id": "0674198a-1f5c-48dd-ab42-4b6946b13cf2"
    },
    {
      "cell_type": "code",
      "execution_count": null,
      "metadata": {},
      "outputs": [
        {
          "output_type": "stream",
          "name": "stdout",
          "text": [
            "type\n",
            "Buy Goods        8\n",
            "Buy Services     3\n",
            "Sell Goods       5\n",
            "Sell Services    2\n",
            "dtype: int64"
          ]
        }
      ],
      "source": [
        "df.groupby([\"type\"]).size()"
      ],
      "id": "00e52127-059d-43f1-be6c-9ab98f3cc081"
    },
    {
      "cell_type": "markdown",
      "metadata": {},
      "source": [
        "Exploring `DataFrameGroupBy` object"
      ],
      "id": "e2b9dbd8-665c-434a-8950-487ef57ca76d"
    },
    {
      "cell_type": "code",
      "execution_count": null,
      "metadata": {},
      "outputs": [
        {
          "output_type": "stream",
          "name": "stdout",
          "text": [
            "4"
          ]
        },
        {
          "output_type": "stream",
          "name": "stdout",
          "text": [
            "{'Buy Goods': [1, 3, 4, 6, 8, 13, 15, 16], 'Buy Services': [5, 7, 14], 'Sell Goods': [2, 9, 10, 12, 17], 'Sell Services': [0, 11]}"
          ]
        },
        {
          "output_type": "stream",
          "name": "stdout",
          "text": [
            "[('Buy Goods',                                      id       date       type  ... total_cost quantity  unit_price\n",
            "1            0000017.2020225.BG.Gra.120 2020-02-25  Buy Goods  ...        120      1.0       120.0\n",
            "3      0000015.2020525.BG.cchChiPep.300 2020-05-25  Buy Goods  ...        300      3.0       100.0\n",
            "4            0000014.2020525.BG.Pet.200 2020-05-25  Buy Goods  ...        200     10.0        20.0\n",
            "6   0000012.2020316.BG.bbeBelPepGre.220 2020-03-16  Buy Goods  ...        220      1.0       220.0\n",
            "8             0000009.2020524.BG.Ban.50 2020-05-24  Buy Goods  ...         50      NaN         NaN\n",
            "13          0000005.2020115.BG.Oth.1000 2020-01-15  Buy Goods  ...       1000      NaN         NaN\n",
            "15           0000003.2020415.BG.Oth.200 2020-04-15  Buy Goods  ...        200      2.0       100.0\n",
            "16           0000002.2020515.BG.Pet.100 2020-05-15  Buy Goods  ...        100      NaN         NaN\n",
            "\n",
            "[8 rows x 8 columns]), ('Buy Services',                                      id       date          type  ... total_cost quantity  unit_price\n",
            "5            0000013.2020524.BS.Goo.200 2020-05-24  Buy Services  ...        200      1.0       200.0\n",
            "7   0000010.2020515.BS.kstKofStoSmi.600 2020-05-15  Buy Services  ...        600      NaN         NaN\n",
            "14           0000004.2020515.BS.Oth.600 2020-05-15  Buy Services  ...        600      NaN         NaN\n",
            "\n",
            "[3 rows x 8 columns]), ('Sell Goods',                                      id       date        type  ... total_cost quantity  unit_price\n",
            "2            0000016.2020525.SG.Oth.500 2020-05-25  Sell Goods  ...        500      5.0       100.0\n",
            "9      0000008.2020515.SG.ccaCabGre.400 2020-05-15  Sell Goods  ...        400      NaN         NaN\n",
            "10          0000007.2020515.SG.Oth.1000 2020-05-15  Sell Goods  ...       1000      NaN         NaN\n",
            "12           0000005.2020515.SG.Oth.500 2020-05-15  Sell Goods  ...        500     10.0         NaN\n",
            "17  0000001.2020426.SG.bbeBelPepGre.500 2020-04-26  Sell Goods  ...        500      1.0       500.0\n",
            "\n",
            "[5 rows x 8 columns]), ('Sell Services',                             id       date           type  ... total_cost quantity  unit_price\n",
            "0   0000018.2020410.SS.Gen.120 2020-04-10  Sell Services  ...        120      6.0        20.0\n",
            "11  0000006.2020515.SS.Oth.200 2020-05-15  Sell Services  ...        200      NaN         NaN\n",
            "\n",
            "[2 rows x 8 columns])]"
          ]
        }
      ],
      "source": [
        "m = df.groupby([\"type\"])\n",
        "m.ngroups # how many groups"
      ],
      "id": "41aa746a-a4cc-4364-b233-6ffbb6e3603a"
    },
    {
      "cell_type": "markdown",
      "metadata": {},
      "source": [
        "Essentially a `groupby` is having filtered data for each of the groups.\n",
        "`Groupby` just splits the data, however, we can apply some\n",
        "aggregation/summarization or function to the grouped data. Consider the\n",
        "question below:\n",
        "\n",
        "*What is the total cost related to each transaction type?*"
      ],
      "id": "68fa63c1-d153-4469-b12a-c6d113ee5e93"
    },
    {
      "cell_type": "code",
      "execution_count": null,
      "metadata": {},
      "outputs": [
        {
          "output_type": "stream",
          "name": "stdout",
          "text": [
            "type\n",
            "Buy Goods        2190\n",
            "Buy Services     1400\n",
            "Sell Goods       2900\n",
            "Sell Services     320\n",
            "Name: total_cost, dtype: int64"
          ]
        }
      ],
      "source": [
        "df.groupby([\"type\"])[\"total_cost\"].sum()"
      ],
      "id": "d027aade-4123-4663-b6b9-e45ce51af3f9"
    },
    {
      "cell_type": "markdown",
      "metadata": {},
      "source": [
        "*Using the immediate result, establish if there is revenue gain or\n",
        "loss.*"
      ],
      "id": "9817f175-ebda-44d0-b3cc-4c0c24d87ba5"
    },
    {
      "cell_type": "code",
      "execution_count": null,
      "metadata": {},
      "outputs": [
        {
          "output_type": "stream",
          "name": "stdout",
          "text": [
            "-370"
          ]
        }
      ],
      "source": [
        "type_cost = df.groupby([\"type\"])[\"total_cost\"].sum()\n",
        "goods = type_cost[\"Sell Goods\"] - type_cost[\"Buy Goods\"]\n",
        "services = type_cost[\"Sell Services\"] - type_cost[\"Buy Services\"]\n",
        "goods + services"
      ],
      "id": "5ea591a0-18c9-4e2a-9f4d-b66e2984ac2e"
    },
    {
      "cell_type": "markdown",
      "metadata": {},
      "source": [
        "The result above is same as below. We have a loss since the cost is more\n",
        "than amount generated from the farm (thus negative revenue)."
      ],
      "id": "6e843120-8df7-40b1-9dfc-4a3584656b6f"
    },
    {
      "cell_type": "code",
      "execution_count": null,
      "metadata": {},
      "outputs": [
        {
          "output_type": "stream",
          "name": "stdout",
          "text": [
            "-370"
          ]
        }
      ],
      "source": [
        "type_cost.filter(like=\"Sell\").sum() - type_cost.filter(like=\"Buy\").sum()"
      ],
      "id": "f7c002ee-0094-48c5-8ab3-8ed35057d410"
    },
    {
      "cell_type": "markdown",
      "metadata": {},
      "source": [
        "If we want to use multiple summary function on a `groupby` object, we\n",
        "can do so via `agg()` method. The two code lines below produce the same\n",
        "result."
      ],
      "id": "d2c66fd5-2236-4788-9215-13c1234ddad9"
    },
    {
      "cell_type": "code",
      "execution_count": null,
      "metadata": {},
      "outputs": [
        {
          "output_type": "stream",
          "name": "stdout",
          "text": [
            "               total_cost      \n",
            "                     mean   sum\n",
            "type                           \n",
            "Buy Goods      273.750000  2190\n",
            "Buy Services   466.666667  1400\n",
            "Sell Goods     580.000000  2900\n",
            "Sell Services  160.000000   320"
          ]
        },
        {
          "output_type": "stream",
          "name": "stdout",
          "text": [
            "                     mean   sum\n",
            "type                           \n",
            "Buy Goods      273.750000  2190\n",
            "Buy Services   466.666667  1400\n",
            "Sell Goods     580.000000  2900\n",
            "Sell Services  160.000000   320"
          ]
        }
      ],
      "source": [
        "df.groupby([\"type\"]).agg({\"total_cost\": [\"mean\", \"sum\"]})"
      ],
      "id": "f1dd1f8c-35ac-41bd-a225-ee22273e2dc5"
    },
    {
      "cell_type": "markdown",
      "metadata": {},
      "source": [
        "*Find the record(s) related to most expensive transaction.*"
      ],
      "id": "14ee5d71-084e-4b32-a9f1-ef762a65fcce"
    },
    {
      "cell_type": "code",
      "execution_count": null,
      "metadata": {},
      "outputs": [
        {
          "output_type": "stream",
          "name": "stdout",
          "text": [
            "                             id       date        type  ... total_cost quantity  unit_price\n",
            "10  0000007.2020515.SG.Oth.1000 2020-05-15  Sell Goods  ...       1000      NaN         NaN\n",
            "13  0000005.2020115.BG.Oth.1000 2020-01-15   Buy Goods  ...       1000      NaN         NaN\n",
            "\n",
            "[2 rows x 8 columns]"
          ]
        },
        {
          "output_type": "stream",
          "name": "stdout",
          "text": [
            "         date   item                  category  total_cost\n",
            "10 2020-05-15  Other  Herbicide (or Weedicide)        1000\n",
            "13 2020-01-15  Other       Equipment (or Tool)        1000"
          ]
        }
      ],
      "source": [
        "df[df.total_cost == df.total_cost.max()]"
      ],
      "id": "16b0febe-bdcc-435a-bc20-d32b003c6286"
    }
  ],
  "nbformat": 4,
  "nbformat_minor": 5,
  "metadata": {
    "kernelspec": {
      "display_name": "Python 3",
      "language": "python",
      "name": "python3"
    }
  }
}