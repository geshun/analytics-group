{
  "cells": [
    {
      "cell_type": "markdown",
      "metadata": {},
      "source": [
        "# Intro to Programming for Data Science\n",
        "\n",
        "geshun"
      ],
      "id": "335b6d25-5c1b-417d-831f-e1a37663e995"
    },
    {
      "cell_type": "code",
      "execution_count": null,
      "metadata": {},
      "outputs": [],
      "source": [
        "reticulate::use_condaenv(\"base\")"
      ],
      "id": "a2ec4152-083b-4969-b9f7-b9e8d9f057cb"
    },
    {
      "cell_type": "markdown",
      "metadata": {},
      "source": [
        "##### Import pandas\n",
        "\n",
        "Include `numpy` and `matplotlib`, we may use them down the line."
      ],
      "id": "da3925ed-ad85-4b7f-8094-4c98b86d418c"
    },
    {
      "cell_type": "code",
      "execution_count": null,
      "metadata": {},
      "outputs": [],
      "source": [
        "import numpy as np\n",
        "import matplotlib.pyplot as plt\n",
        "import pandas as pd"
      ],
      "id": "5ed8b21b-072b-4edd-a0a8-6938f5be62be"
    },
    {
      "cell_type": "markdown",
      "metadata": {},
      "source": [
        "##### Open and read files using vanilla python\n",
        "\n",
        "> File name is `alpha-12-Sep-2022 21-28-50.csv`"
      ],
      "id": "d7fdc505-8166-4e65-b782-79ba40e871db"
    },
    {
      "cell_type": "code",
      "execution_count": null,
      "metadata": {},
      "outputs": [
        {
          "output_type": "stream",
          "name": "stdout",
          "text": [
            "'transaction_id,transaction_date,transaction_type,transaction_category,transaction_item,transaction_total_cost,transaction_quantity,transaction_unit_price,transaction_source,transaction_measure_unit,transaction_remark\\n0000018.2020410.SS.Gen.120,2020-04-10,Sell Services,Equipment (or Tool),Generator, 120 ,6, 20 ,Other,Hourly,\\n0000017.2020225.BG.Gra.120,2020-02-25,Buy Goods,Herbicide (or Weedicide),Gramoxone, 120 ,1, 120 ,uuni0004v   Unity Agro Chemicals,Bottle,\\n0000016.2020525.SG.Oth.500,2020-05-25,Sell Goods,Inserticide (or Pesticide),Other, 500 ,5, 100 ,Other,Bottle,\\n0000015.2020525.BG.cchChiPep.300,2020-05-25,Buy Goods,Seedling (or Plant Material),cchi0004p   Chili Pepper, 300 ,3, 100 ,aalp0001v   Alpha Ventures,Sachet,\\n0000014.2020525.BG.Pet.200,2020-05-25,Buy Goods,Fuel (or Oil),Petro, 200 ,10, 20 ,Other,Gallon,Getting expensive\\n0000013.2020524.BS.Goo.200,2020-05-24,Buy Services,Other,Goodwill, 200 ,1, 200 ,Other,Other,Goodwill (gift) to a friend of the farm\\n0000012.2020316.BG.bbeBelPepGre.220,2020-03-16,Buy Goods,Seedling (or Plant Material),bbel0002p   Bell Pepper Green, 220 ,1, 220 ,ggre0002v   Green Farms,Tin,\\n0000010.2020515.BS.kstKofStoSmi.600,2020-05-15,Buy Services,Employee,ksto0001e   Kofi Stone Smith, 600 ,,  ,Truthii,Monthly,\\n0000009.2020524.BG.Ban.50,2020-05-24,Buy Goods,Other,Banana, 50 ,,  ,aalp0001v   Alpha Ventures,,\\n0000008.2020515.SG.ccaCabGre.400,2020-05-15,Sell Goods,Seedling (or Plant Material),ccab0001p   Cabbage Green, 400 ,,  ,vveg000002c   Veggie Center,,\\n0000007.2020515.SG.Oth.1000,2020-05-15,Sell Goods,Herbicide (or Weedicide),Other,\" 1,000 \",,  ,ffoo000001c   Food House,,\\n0000006.2020515.SS.Oth.200,2020-05-15,Sell Services,Equipment (or Tool),Other, 200 ,,  ,ffoo000001c   Food House,,\\n0000005.2020515.SG.Oth.500,2020-05-15,Sell Goods,Crop (or Harvest),Other, 500 ,10,  ,vveg000002c   Veggie Center,Bag,\\n0000005.2020115.BG.Oth.1000,2020-01-15,Buy Goods,Equipment (or Tool),Other,\" 1,000 \",,  ,aalp0001v   Alpha Ventures,,\\n0000004.2020515.BS.Oth.600,2020-05-15,Buy Services,Labour,Other, 600 ,,  ,aalp0001v   Alpha Ventures,,\\n0000003.2020415.BG.Oth.200,2020-04-15,Buy Goods,Fertilizer (or Manure),Other, 200 ,2, 100 ,Other,,\\n0000002.2020515.BG.Pet.100,2020-05-15,Buy Goods,Fuel (or Oil),Petro, 100 ,,  ,aalp0001v   Alpha Ventures,,\\n0000001.2020426.SG.bbeBelPepGre.500,2020-04-26,Sell Goods,Crop (or Harvest),bbel0002p   Bell Pepper Green, 500 ,1, 500 ,ssis000003c   Sister Ama Joint,Bag,\\n,,,,,,,,,,\\n,,,,,,,,,,\\n,,,,,,,,,,\\n,,,,,,,,,,\\n,,,,,,,,,,\\n,,,,,,,,,,\\n,,,,,,,,,,\\n,,,,,,,,,,\\n,,,,,,,,,,\\n,,,,,,,,,,\\n,,,,,,,,,,\\n,,,,,,,,,,\\n,,,,,,,,,,\\n,,,,,,,,,,\\n,,,,,,,,,,\\n'"
          ]
        }
      ],
      "source": [
        "with open(\"alpha-12-Sep-2022 21-28-50.csv\", \"r\") as f:\n",
        "  transaction = f.read()\n",
        "\n",
        "transaction"
      ],
      "id": "6c0ffeb7-141f-4991-a809-15022d4f68db"
    },
    {
      "cell_type": "markdown",
      "metadata": {},
      "source": [
        "We see that a lot of work needs to be done on `transaction` string\n",
        "object if we want to get it into tabular/rectangular form or preprocess\n",
        "so that numeric fields are actually numeric.\n",
        "\n",
        "> We can attempt to read the `.csv` file using the `csv` package which\n",
        "> comes with standard python."
      ],
      "id": "406425c9-e6d9-4385-84c0-898d16458c6b"
    },
    {
      "cell_type": "code",
      "execution_count": null,
      "metadata": {},
      "outputs": [
        {
          "output_type": "stream",
          "name": "stdout",
          "text": [
            "['transaction_id', 'transaction_date', 'transaction_type', 'transaction_category', 'transaction_item', 'transaction_total_cost', 'transaction_quantity', 'transaction_unit_price', 'transaction_source', 'transaction_measure_unit', 'transaction_remark']\n",
            "['0000018.2020410.SS.Gen.120', '2020-04-10', 'Sell Services', 'Equipment (or Tool)', 'Generator', ' 120 ', '6', ' 20 ', 'Other', 'Hourly', '']\n",
            "['0000017.2020225.BG.Gra.120', '2020-02-25', 'Buy Goods', 'Herbicide (or Weedicide)', 'Gramoxone', ' 120 ', '1', ' 120 ', 'uuni0004v   Unity Agro Chemicals', 'Bottle', '']\n",
            "['0000016.2020525.SG.Oth.500', '2020-05-25', 'Sell Goods', 'Inserticide (or Pesticide)', 'Other', ' 500 ', '5', ' 100 ', 'Other', 'Bottle', '']\n",
            "['0000015.2020525.BG.cchChiPep.300', '2020-05-25', 'Buy Goods', 'Seedling (or Plant Material)', 'cchi0004p   Chili Pepper', ' 300 ', '3', ' 100 ', 'aalp0001v   Alpha Ventures', 'Sachet', '']\n",
            "['0000014.2020525.BG.Pet.200', '2020-05-25', 'Buy Goods', 'Fuel (or Oil)', 'Petro', ' 200 ', '10', ' 20 ', 'Other', 'Gallon', 'Getting expensive']\n",
            "['0000013.2020524.BS.Goo.200', '2020-05-24', 'Buy Services', 'Other', 'Goodwill', ' 200 ', '1', ' 200 ', 'Other', 'Other', 'Goodwill (gift) to a friend of the farm']\n",
            "['0000012.2020316.BG.bbeBelPepGre.220', '2020-03-16', 'Buy Goods', 'Seedling (or Plant Material)', 'bbel0002p   Bell Pepper Green', ' 220 ', '1', ' 220 ', 'ggre0002v   Green Farms', 'Tin', '']\n",
            "['0000010.2020515.BS.kstKofStoSmi.600', '2020-05-15', 'Buy Services', 'Employee', 'ksto0001e   Kofi Stone Smith', ' 600 ', '', '  ', 'Truthii', 'Monthly', '']\n",
            "['0000009.2020524.BG.Ban.50', '2020-05-24', 'Buy Goods', 'Other', 'Banana', ' 50 ', '', '  ', 'aalp0001v   Alpha Ventures', '', '']\n",
            "['0000008.2020515.SG.ccaCabGre.400', '2020-05-15', 'Sell Goods', 'Seedling (or Plant Material)', 'ccab0001p   Cabbage Green', ' 400 ', '', '  ', 'vveg000002c   Veggie Center', '', '']\n",
            "['0000007.2020515.SG.Oth.1000', '2020-05-15', 'Sell Goods', 'Herbicide (or Weedicide)', 'Other', ' 1,000 ', '', '  ', 'ffoo000001c   Food House', '', '']\n",
            "['0000006.2020515.SS.Oth.200', '2020-05-15', 'Sell Services', 'Equipment (or Tool)', 'Other', ' 200 ', '', '  ', 'ffoo000001c   Food House', '', '']\n",
            "['0000005.2020515.SG.Oth.500', '2020-05-15', 'Sell Goods', 'Crop (or Harvest)', 'Other', ' 500 ', '10', '  ', 'vveg000002c   Veggie Center', 'Bag', '']\n",
            "['0000005.2020115.BG.Oth.1000', '2020-01-15', 'Buy Goods', 'Equipment (or Tool)', 'Other', ' 1,000 ', '', '  ', 'aalp0001v   Alpha Ventures', '', '']\n",
            "['0000004.2020515.BS.Oth.600', '2020-05-15', 'Buy Services', 'Labour', 'Other', ' 600 ', '', '  ', 'aalp0001v   Alpha Ventures', '', '']\n",
            "['0000003.2020415.BG.Oth.200', '2020-04-15', 'Buy Goods', 'Fertilizer (or Manure)', 'Other', ' 200 ', '2', ' 100 ', 'Other', '', '']\n",
            "['0000002.2020515.BG.Pet.100', '2020-05-15', 'Buy Goods', 'Fuel (or Oil)', 'Petro', ' 100 ', '', '  ', 'aalp0001v   Alpha Ventures', '', '']\n",
            "['0000001.2020426.SG.bbeBelPepGre.500', '2020-04-26', 'Sell Goods', 'Crop (or Harvest)', 'bbel0002p   Bell Pepper Green', ' 500 ', '1', ' 500 ', 'ssis000003c   Sister Ama Joint', 'Bag', '']\n",
            "['', '', '', '', '', '', '', '', '', '', '']\n",
            "['', '', '', '', '', '', '', '', '', '', '']\n",
            "['', '', '', '', '', '', '', '', '', '', '']\n",
            "['', '', '', '', '', '', '', '', '', '', '']\n",
            "['', '', '', '', '', '', '', '', '', '', '']\n",
            "['', '', '', '', '', '', '', '', '', '', '']\n",
            "['', '', '', '', '', '', '', '', '', '', '']\n",
            "['', '', '', '', '', '', '', '', '', '', '']\n",
            "['', '', '', '', '', '', '', '', '', '', '']\n",
            "['', '', '', '', '', '', '', '', '', '', '']\n",
            "['', '', '', '', '', '', '', '', '', '', '']\n",
            "['', '', '', '', '', '', '', '', '', '', '']\n",
            "['', '', '', '', '', '', '', '', '', '', '']\n",
            "['', '', '', '', '', '', '', '', '', '', '']\n",
            "['', '', '', '', '', '', '', '', '', '', '']"
          ]
        }
      ],
      "source": [
        "import csv\n",
        "with open(\"alpha-12-Sep-2022 21-28-50.csv\", \"r\") as file:\n",
        "  trans = csv.reader(file)\n",
        "  for line in trans:\n",
        "    print(line)"
      ],
      "id": "5fd160bc-db4a-4c59-83c1-03546639cac5"
    },
    {
      "cell_type": "markdown",
      "metadata": {},
      "source": [
        "> This will be great if the idea is to process the file line (row) by\n",
        "> line.\n",
        "\n",
        "##### Read file using Pandas"
      ],
      "id": "1225f141-79f4-435c-bbf8-d244652c04aa"
    },
    {
      "cell_type": "code",
      "execution_count": null,
      "metadata": {},
      "outputs": [],
      "source": [
        "df = pd.read_csv(\"alpha-12-Sep-2022 21-28-50.csv\")"
      ],
      "id": "bbee526e-e6c8-468c-aabb-787ff52e408c"
    },
    {
      "cell_type": "markdown",
      "metadata": {},
      "source": [
        "File can be read directly from github."
      ],
      "id": "325751f1-462c-458b-87f9-77be77881adc"
    },
    {
      "cell_type": "code",
      "execution_count": null,
      "metadata": {},
      "outputs": [],
      "source": [
        "df = pd.read_csv(\"https://raw.githubusercontent.com/geshun/analytics-group/main/weeks/5/alpha-12-Sep-2022%2021-28-50.csv\")"
      ],
      "id": "365ddb88-65af-4083-a595-d497442ded7e"
    },
    {
      "cell_type": "markdown",
      "metadata": {},
      "source": [
        "##### Get Info and summary about the data\n",
        "\n",
        "The knowledge gained should be useful for processing the data for later\n",
        "analysis."
      ],
      "id": "bb96a85b-0a7f-41a4-825a-4b1472542f40"
    },
    {
      "cell_type": "code",
      "execution_count": null,
      "metadata": {},
      "outputs": [
        {
          "output_type": "stream",
          "name": "stdout",
          "text": [
            "(33, 11)"
          ]
        }
      ],
      "source": [
        "df.shape"
      ],
      "id": "632d44f4-3f15-4967-9257-ca21a332c039"
    },
    {
      "cell_type": "markdown",
      "metadata": {},
      "source": [
        "> `df.shape` Gives a sense of how many records (rows) or fields\n",
        "> (columns) we are dealing with. Some data pre-processing can increase\n",
        "> (or decrease) the number of fields or decrease the number of records\n",
        "> (rows) - like dropping records with missing values."
      ],
      "id": "7a16a321-ff4c-4a62-bae8-ecb155ba9ea7"
    },
    {
      "cell_type": "code",
      "execution_count": null,
      "metadata": {},
      "outputs": [
        {
          "output_type": "stream",
          "name": "stdout",
          "text": [
            "<class 'pandas.core.frame.DataFrame'>\n",
            "RangeIndex: 33 entries, 0 to 32\n",
            "Data columns (total 11 columns):\n",
            " #   Column                    Non-Null Count  Dtype  \n",
            "---  ------                    --------------  -----  \n",
            " 0   transaction_id            18 non-null     object \n",
            " 1   transaction_date          18 non-null     object \n",
            " 2   transaction_type          18 non-null     object \n",
            " 3   transaction_category      18 non-null     object \n",
            " 4   transaction_item          18 non-null     object \n",
            " 5   transaction_total_cost    18 non-null     object \n",
            " 6   transaction_quantity      10 non-null     float64\n",
            " 7   transaction_unit_price    18 non-null     object \n",
            " 8   transaction_source        18 non-null     object \n",
            " 9   transaction_measure_unit  10 non-null     object \n",
            " 10  transaction_remark        2 non-null      object \n",
            "dtypes: float64(1), object(10)\n",
            "memory usage: 3.0+ KB"
          ]
        }
      ],
      "source": [
        "df.info()"
      ],
      "id": "2a4a66cd-6073-49db-8603-d36e661cb6d6"
    },
    {
      "cell_type": "markdown",
      "metadata": {},
      "source": [
        "> `df.info()` Makes us aware of the data types of our columns. Here, you\n",
        "> should begin to find out if the data types produced by your\n",
        "> `pd.read_csv()` are what you intend to work with as they are or change\n",
        "> them. When the non-null count is not the same as the number of\n",
        "> entries, we conceive the idea that `pd.read_csv()` read in some\n",
        "> entries as `null`.\n",
        "\n",
        "The information provided by `df.info()` method, can also be established\n",
        "via the following:"
      ],
      "id": "cd0adf09-2c37-4063-80d8-0db912ebafc7"
    },
    {
      "cell_type": "code",
      "execution_count": null,
      "metadata": {},
      "outputs": [
        {
          "output_type": "stream",
          "name": "stdout",
          "text": [
            "transaction_id               object\n",
            "transaction_date             object\n",
            "transaction_type             object\n",
            "transaction_category         object\n",
            "transaction_item             object\n",
            "transaction_total_cost       object\n",
            "transaction_quantity        float64\n",
            "transaction_unit_price       object\n",
            "transaction_source           object\n",
            "transaction_measure_unit     object\n",
            "transaction_remark           object\n",
            "dtype: object"
          ]
        }
      ],
      "source": [
        "df.dtypes"
      ],
      "id": "002101b2-9e64-4fdf-adca-0ac4a1b2b23f"
    },
    {
      "cell_type": "code",
      "execution_count": null,
      "metadata": {},
      "outputs": [
        {
          "output_type": "stream",
          "name": "stdout",
          "text": [
            "transaction_id              15\n",
            "transaction_date            15\n",
            "transaction_type            15\n",
            "transaction_category        15\n",
            "transaction_item            15\n",
            "transaction_total_cost      15\n",
            "transaction_quantity        23\n",
            "transaction_unit_price      15\n",
            "transaction_source          15\n",
            "transaction_measure_unit    23\n",
            "transaction_remark          31\n",
            "dtype: int64"
          ]
        }
      ],
      "source": [
        "df.isnull().sum()"
      ],
      "id": "445bd95d-f294-4904-88ad-4c4bd698120f"
    },
    {
      "cell_type": "markdown",
      "metadata": {},
      "source": [
        "Another piece of check is duplicates and it can be done using\n",
        "`duplicated()` method of a `DataFrame`. Can you try understanding what\n",
        "caused the duplicates in the data?"
      ],
      "id": "63bd6cb2-c466-4c7a-971b-db9bb2136f76"
    },
    {
      "cell_type": "code",
      "execution_count": null,
      "metadata": {},
      "outputs": [
        {
          "output_type": "stream",
          "name": "stdout",
          "text": [
            "14"
          ]
        }
      ],
      "source": [
        "df.duplicated().sum()"
      ],
      "id": "9075594b-0fd2-4654-a353-6fa52823d36e"
    },
    {
      "cell_type": "markdown",
      "metadata": {},
      "source": [
        "> Before you drop duplicates (de-duplicate) or remove missing values,\n",
        "> there is an important question one needs to address. What set of\n",
        "> fields identify a unique record in your data? This is the idea of\n",
        "> primary key in database terminology. In our case, only the\n",
        "> `transaction_id` field is the unique record identifier. This field\n",
        "> should always have a value (hence, can’t be null), however,\n",
        "> `df.isnull().sum()` shows that it has null entries."
      ],
      "id": "a3e00757-9be6-496a-ac34-56efbd1ff7ba"
    },
    {
      "cell_type": "code",
      "execution_count": null,
      "metadata": {},
      "outputs": [],
      "source": [
        "df.dropna(subset=[\"transaction_id\"], inplace=True)"
      ],
      "id": "4db13b9b-2d8a-49ca-be23-e4a6182cc744"
    },
    {
      "cell_type": "markdown",
      "metadata": {},
      "source": [
        "*Can you explain why we did not just do `df.dropna()`? Also, what is the\n",
        "significant of using `inplace=True`?*\n",
        "\n",
        "If we had wanted to check whether an entire row in our `DataFrame` has\n",
        "missing value, we could have done `df[df.isnull().all(axis=1)]`\n",
        "\n",
        "Go ahead and check that we have less records (`18`) than we started with\n",
        "(`33`). However, there are still missing values in our data."
      ],
      "id": "b356dc5e-b116-4cc7-99e6-136b9f578948"
    },
    {
      "cell_type": "code",
      "execution_count": null,
      "metadata": {},
      "outputs": [
        {
          "output_type": "stream",
          "name": "stdout",
          "text": [
            "transaction_id              18\n",
            "transaction_date             9\n",
            "transaction_type             4\n",
            "transaction_category        10\n",
            "transaction_item            10\n",
            "transaction_total_cost      10\n",
            "transaction_quantity         6\n",
            "transaction_unit_price       7\n",
            "transaction_source           8\n",
            "transaction_measure_unit     8\n",
            "transaction_remark           2\n",
            "dtype: int64"
          ]
        }
      ],
      "source": [
        "df.nunique()"
      ],
      "id": "b7c188d8-c0d1-4241-8223-41e776e07b2a"
    },
    {
      "cell_type": "markdown",
      "metadata": {},
      "source": [
        "> `df.nunique()` counts the number of unique entries in each column. One\n",
        "> application of this information is to establish if some fields can be\n",
        "> stored as `Category`. We normally convert an object field into a\n",
        "> category if there are fixed entries. The `transaction_type` field for\n",
        "> instance has no missing values and only `4` unique entries. You can\n",
        "> know the entries by doing `df.transaction_type.unique()`\n",
        "\n",
        "##### Create analytical dataset\n",
        "\n",
        "We shall take a column and ask if it is in the form we want to work\n",
        "with. Apart from the `transaction_quantity` column, all other was read\n",
        "in as `object` type (`Pandas`’ (specifically `numpy`’s) way of saying\n",
        "mixed data type and thus string."
      ],
      "id": "4b6171c4-2005-4f4e-82ea-e802663b7d2e"
    },
    {
      "cell_type": "code",
      "execution_count": null,
      "metadata": {},
      "outputs": [],
      "source": [
        "df[\"transaction_type\"] = df[\"transaction_type\"].astype(\"category\")\n",
        "df[\"transaction_type\"] = pd.Categorical(df[\"transaction_type\"])\n",
        "df = df.astype({\"transaction_type\": \"category\"})"
      ],
      "id": "eb09cf6f-551c-40eb-b73f-5b8f7bd53ef2"
    },
    {
      "cell_type": "markdown",
      "metadata": {},
      "source": [
        "> Run any of the code above to cast the `transaction_type` column to\n",
        "> categorical.\n",
        "\n",
        "*In case we also wanted to cast the `transaction_category` column to\n",
        "categorical, how would we have done that together with\n",
        "`transaction_type`?*"
      ],
      "id": "6264653a-c20a-4b72-b417-30bbe5dd0625"
    },
    {
      "cell_type": "code",
      "execution_count": null,
      "metadata": {},
      "outputs": [],
      "source": [
        "df[\"transaction_total_cost\"].astype(\"float\")"
      ],
      "id": "05a382cd-fca9-4cbf-9d26-e044bec72576"
    },
    {
      "cell_type": "markdown",
      "metadata": {},
      "source": [
        "*The above code unsuccessfully attempts to cast the\n",
        "`transaction_total_cost` as float. Do you understand the error message\n",
        "produced? How will you deal with it?*"
      ],
      "id": "79dd9c63-4648-46ac-970e-71fd90fccc53"
    },
    {
      "cell_type": "code",
      "execution_count": null,
      "metadata": {},
      "outputs": [],
      "source": [
        "df[\"transaction_total_cost\"] = pd.to_numeric(df.transaction_total_cost.str.replace(\",\", \"\"))\n",
        "df[\"transaction_total_cost\"] = df[\"transaction_total_cost\"].str.replace(\",\", \"\").astype(\"float\")"
      ],
      "id": "c425ab90-e90e-49b9-9c5e-a6d9031bc592"
    },
    {
      "cell_type": "markdown",
      "metadata": {},
      "source": [
        "> Run any of the above code to cast `transaction_total_cost` as numeric.\n",
        "> Realize that, I had to remove the comma in the text prior to casting.\n",
        "> In `Pandas`, the `str` method grants us access to methods applicable\n",
        "> to strings, and from there we can use the `replace()` method. Here, we\n",
        "> are replacing comma `\",\"` with empty string - nothing `\"\"` when we do\n",
        "> `replace(\",\", \"\")`.\n",
        "\n",
        "If you want to look too exotic (which perhaps is unnecessary in this\n",
        "case), you can consider this:\n",
        "`df[\"transaction_total_cost\"] = df[\"transaction_total_cost\"].apply(lambda x: float(x.replace(\",\", \"\")))`.\n",
        "It uses `lambda` or anonymous function via the `apply` method of a\n",
        "`Series`."
      ],
      "id": "ba4b0254-47fd-4959-8dd9-d88a416c56e8"
    },
    {
      "cell_type": "code",
      "execution_count": null,
      "metadata": {},
      "outputs": [],
      "source": [
        "df[\"transaction_date\"] = df[\"transaction_date\"].astype(\"datetime64[ns]\")\n",
        "df[\"transaction_date\"] = pd.to_datetime(df[\"transaction_date\"])"
      ],
      "id": "88aa673b-b44e-4e86-8213-11af05cb79b8"
    },
    {
      "cell_type": "markdown",
      "metadata": {},
      "source": [
        "> Run any of the above code to get the `transaction_date` field as\n",
        "> datetime type.\n",
        "\n",
        "*We could have converted the `transaction_date` field together with\n",
        "`transaction_type`, can you work that out?*\n",
        "\n",
        "There is something interesting about the `transaction_unit_price`\n",
        "column. Try doing this and see if you will understand the error\n",
        "produced: `pd.to_numeric(df.transaction_unit_price)` or\n",
        "`df[\"transaction_unit_price\"].astype(float)`"
      ],
      "id": "552e5a90-03f7-45a2-b197-66fc63ae4c63"
    },
    {
      "cell_type": "code",
      "execution_count": null,
      "metadata": {},
      "outputs": [],
      "source": [
        "df[\"transaction_unit_price\"] = df[\"transaction_unit_price\"].str.strip().apply(lambda x: float(x) if len(x) != 0 else np.nan)\n",
        "df[\"transaction_unit_price\"] = pd.to_numeric(df.transaction_unit_price, errors='coerce')"
      ],
      "id": "009cd121-29cb-4765-9478-7594dba5884d"
    },
    {
      "cell_type": "markdown",
      "metadata": {},
      "source": [
        "> Run any of the above code to convert `transaction_unit_price` to\n",
        "> numeric."
      ],
      "id": "145502b8-c8af-4a5e-8fd6-459f12a13e81"
    },
    {
      "cell_type": "code",
      "execution_count": null,
      "metadata": {},
      "outputs": [],
      "source": [
        "def to_float(x):\n",
        "  try:\n",
        "    return float(x)\n",
        "  except ValueError:\n",
        "    return np.nan"
      ],
      "id": "6a96d151-0c1b-482e-8997-41a69217809b"
    },
    {
      "cell_type": "code",
      "execution_count": null,
      "metadata": {},
      "outputs": [
        {
          "output_type": "stream",
          "name": "stdout",
          "text": [
            "0      20.0\n",
            "1     120.0\n",
            "2     100.0\n",
            "3     100.0\n",
            "4      20.0\n",
            "5     200.0\n",
            "6     220.0\n",
            "7       NaN\n",
            "8       NaN\n",
            "9       NaN\n",
            "10      NaN\n",
            "11      NaN\n",
            "12      NaN\n",
            "13      NaN\n",
            "14      NaN\n",
            "15    100.0\n",
            "16      NaN\n",
            "17    500.0\n",
            "Name: transaction_unit_price, dtype: float64"
          ]
        }
      ],
      "source": [
        "df[\"transaction_unit_price\"].apply(to_float)"
      ],
      "id": "bf309e07-bd53-4582-9d36-27e7a3d21b56"
    },
    {
      "cell_type": "markdown",
      "metadata": {},
      "source": [
        "We can also decided to write a function and apply it. We wrote a\n",
        "`to_float()` function and applied it. If you care about the list\n",
        "comprehension we talked about during the early days of our meetups see\n",
        "the immediate code below:"
      ],
      "id": "f23ef1b1-87e5-4a13-963b-87a03687883f"
    },
    {
      "cell_type": "code",
      "execution_count": null,
      "metadata": {},
      "outputs": [],
      "source": [
        "[float(x.strip()) if x.strip().isnumeric() else np.nan for x in df.transaction_unit_price]"
      ],
      "id": "fcb24710-a5c3-4c7f-b071-66618dc2b566"
    },
    {
      "cell_type": "markdown",
      "metadata": {},
      "source": [
        "##### Compare your result with this: If after transforming your data, you get something similar, then things are getting interesting."
      ],
      "id": "8af28226-8e02-4a57-8460-e319d11b4e80"
    },
    {
      "cell_type": "code",
      "execution_count": null,
      "metadata": {},
      "outputs": [
        {
          "output_type": "stream",
          "name": "stdout",
          "text": [
            "<class 'pandas.core.frame.DataFrame'>\n",
            "RangeIndex: 18 entries, 0 to 17\n",
            "Data columns (total 11 columns):\n",
            " #   Column                    Non-Null Count  Dtype         \n",
            "---  ------                    --------------  -----         \n",
            " 0   transaction_id            18 non-null     object        \n",
            " 1   transaction_date          18 non-null     datetime64[ns]\n",
            " 2   transaction_type          18 non-null     category      \n",
            " 3   transaction_category      18 non-null     category      \n",
            " 4   transaction_item          18 non-null     object        \n",
            " 5   transaction_total_cost    18 non-null     float64       \n",
            " 6   transaction_quantity      10 non-null     float64       \n",
            " 7   transaction_unit_price    9 non-null      float64       \n",
            " 8   transaction_source        18 non-null     object        \n",
            " 9   transaction_measure_unit  10 non-null     object        \n",
            " 10  transaction_remark        2 non-null      object        \n",
            "dtypes: category(2), datetime64[ns](1), float64(3), object(5)\n",
            "memory usage: 2.0+ KB"
          ]
        }
      ],
      "source": [
        "from pandas import read_csv\n",
        "from numpy import nan\n",
        "\n",
        "url = \"https://raw.githubusercontent.com/geshun/analytics-group/main/weeks/5/alpha-12-Sep-2022%2021-28-50.csv\"\n",
        "\n",
        "dt = read_csv(\n",
        "  url,\n",
        "  skipfooter=15,\n",
        "  engine=\"python\",\n",
        "  dtype={\n",
        "    \"transaction_type\": \"category\",\n",
        "    \"transaction_category\": \"category\"\n",
        "  },\n",
        "  converters={\n",
        "    \"transaction_unit_price\": lambda x: float(x) if len(x.strip()) != 0 else nan,\n",
        "    \"transaction_total_cost\": lambda x: float(x.replace(\",\", \"\")) if len(x.strip()) != 0 else nan\n",
        "  },\n",
        "  parse_dates=[\"transaction_date\"]\n",
        ")\n",
        "\n",
        "dt.info()"
      ],
      "id": "ed638544-1edc-4568-8d23-8015f65faea2"
    },
    {
      "cell_type": "markdown",
      "metadata": {},
      "source": [
        "##### Save dataset"
      ],
      "id": "84d32cb4-5e7a-44c2-87bf-9736bb21a9bd"
    },
    {
      "cell_type": "code",
      "execution_count": null,
      "metadata": {},
      "outputs": [],
      "source": [
        "# df.to_csv(\"weeks/5/alpha.csv\", index=False)"
      ],
      "id": "91db2896-33e3-4920-b388-dbecee213f17"
    },
    {
      "cell_type": "markdown",
      "metadata": {},
      "source": [
        "##### Gaining insight from data\n",
        "\n",
        "First let’s keep the columns simple and remove the redundant prefix name\n",
        "`transaction_`. We will also drop the last three columns\n",
        "(`source, measure_unit, remark`) we will not need them."
      ],
      "id": "6e446e78-54c3-4b49-ab89-69eb6d7318e5"
    },
    {
      "cell_type": "code",
      "execution_count": null,
      "metadata": {},
      "outputs": [
        {
          "output_type": "stream",
          "name": "stdout",
          "text": [
            "Index(['transaction_id', 'transaction_date', 'transaction_type',\n",
            "       'transaction_category', 'transaction_item', 'transaction_total_cost',\n",
            "       'transaction_quantity', 'transaction_unit_price', 'transaction_source',\n",
            "       'transaction_measure_unit', 'transaction_remark'],\n",
            "      dtype='object')"
          ]
        }
      ],
      "source": [
        "df.columns"
      ],
      "id": "7df31728-b721-4e72-bbd9-7a38c12f40b2"
    },
    {
      "cell_type": "code",
      "execution_count": null,
      "metadata": {},
      "outputs": [],
      "source": [
        "pd.set_option(\"display.max_columns\", 6)\n",
        "pd.set_option(\"display.width\", 150)"
      ],
      "id": "ce7e02f6-6a2e-4b72-afc0-46ecb49d5a5a"
    },
    {
      "cell_type": "markdown",
      "metadata": {},
      "source": [
        "*How many Purchases and Sales have we made according to the dataset?*\n",
        "\n",
        "-   This is a segmentation question (dealing with groups) - transactions\n",
        "    that are related to purchases and those related to sales.\n",
        "\n",
        "-   A classic split-apply-combine approach to problem solving\n",
        "\n",
        "-   Basic count of elements belonging to each group\n",
        "\n",
        "We ask the following data specific questions:\n",
        "\n",
        "1.  What field captures information about purchases and sales?"
      ],
      "id": "3a815aca-5180-40ec-865e-8dbb18667422"
    },
    {
      "cell_type": "code",
      "execution_count": null,
      "metadata": {},
      "outputs": [
        {
          "output_type": "stream",
          "name": "stdout",
          "text": [
            "Buy Goods        8\n",
            "Sell Goods       5\n",
            "Buy Services     3\n",
            "Sell Services    2\n",
            "Name: type, dtype: int64"
          ]
        },
        {
          "output_type": "stream",
          "name": "stdout",
          "text": [
            "Buy Goods        44.444444\n",
            "Sell Goods       27.777778\n",
            "Buy Services     16.666667\n",
            "Sell Services    11.111111\n",
            "Name: type, dtype: float64"
          ]
        }
      ],
      "source": [
        "df[\"type\"].value_counts()"
      ],
      "id": "907cc90b-b955-4a5e-830b-265ef18b01ff"
    },
    {
      "cell_type": "code",
      "execution_count": null,
      "metadata": {},
      "outputs": [
        {
          "output_type": "display_data",
          "metadata": {},
          "data": {
            "image/png": "[encoded data removed]"
          }
        }
      ],
      "source": [
        "df[\"type\"].value_counts().plot.barh()"
      ],
      "id": "249b05ae-9902-43e1-a0ae-8ecbc3f7cbbf"
    },
    {
      "cell_type": "markdown",
      "metadata": {},
      "source": [
        "*What if we want the count for just goods and services regardless of\n",
        "whether bought or sold?*"
      ],
      "id": "32196433-4fbd-4b80-8c40-5a86068efdd4"
    },
    {
      "cell_type": "code",
      "execution_count": null,
      "metadata": {},
      "outputs": [],
      "source": [],
      "id": "6ee083b0-44a4-42c4-90c1-768c2bfd9fa8"
    },
    {
      "cell_type": "markdown",
      "metadata": {},
      "source": [
        "*How do we address the above question using `groupby` (which is a more\n",
        "general way of answering segmentation related questions)?*"
      ],
      "id": "60b4f6cd-2c81-4d99-9269-5fdab2937581"
    },
    {
      "cell_type": "code",
      "execution_count": null,
      "metadata": {},
      "outputs": [],
      "source": [],
      "id": "dae6cd5c-254b-48d2-a353-36637027f4b5"
    }
  ],
  "nbformat": 4,
  "nbformat_minor": 5,
  "metadata": {
    "kernelspec": {
      "display_name": "Python 3",
      "language": "python",
      "name": "python3"
    }
  }
}