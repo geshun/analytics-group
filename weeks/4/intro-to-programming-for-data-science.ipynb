{
  "cells": [
    {
      "cell_type": "raw",
      "metadata": {},
      "source": [
        "---\n",
        "title: \"Intro to Programming for Data Science\"\n",
        "author: \"geshun\"\n",
        "format: ipynb\n",
        "editor: visual\n",
        "---"
      ],
      "id": "1944bee4"
    },
    {
      "cell_type": "code",
      "metadata": {},
      "source": [
        "import pandas as pd"
      ],
      "id": "69c9fe4d",
      "execution_count": null,
      "outputs": []
    },
    {
      "cell_type": "markdown",
      "metadata": {},
      "source": [
        "### Loading Data\n",
        "\n",
        "Open and read files using vanilla python\n"
      ],
      "id": "ae8b739f"
    },
    {
      "cell_type": "code",
      "metadata": {},
      "source": [
        "f = open('revenues.txt', 'r')\n",
        "rev = f.read()\n",
        "f.close()\n",
        "rev"
      ],
      "id": "e54475dc",
      "execution_count": null,
      "outputs": []
    },
    {
      "cell_type": "markdown",
      "metadata": {},
      "source": [
        "Clean the string output of the above operation and find the mean of the values\n"
      ],
      "id": "6ed74ffe"
    },
    {
      "cell_type": "markdown",
      "metadata": {},
      "source": [
        "Read files using Pandas\n"
      ],
      "id": "b2eec0ff"
    },
    {
      "cell_type": "code",
      "metadata": {},
      "source": [
        "df = pd.read_csv(\"revenues.txt\", sep=\"\\t\")"
      ],
      "id": "312a1f4c",
      "execution_count": null,
      "outputs": []
    },
    {
      "cell_type": "markdown",
      "metadata": {},
      "source": [
        "### Some R Datasets from Seaborn\n"
      ],
      "id": "f64f7c50"
    },
    {
      "cell_type": "code",
      "metadata": {},
      "source": [
        "import seaborn as sns\n",
        "sns.get_dataset_names()"
      ],
      "id": "f387d585",
      "execution_count": null,
      "outputs": []
    },
    {
      "cell_type": "markdown",
      "metadata": {},
      "source": [
        "Get iris dataset\n"
      ],
      "id": "fb9ce747"
    },
    {
      "cell_type": "code",
      "metadata": {},
      "source": [
        "iris = sns.load_dataset(\"iris\")\n",
        "iris"
      ],
      "id": "16dc5e7f",
      "execution_count": null,
      "outputs": []
    },
    {
      "cell_type": "markdown",
      "metadata": {},
      "source": [
        "### Basic Info and Summary\n"
      ],
      "id": "38a9b31b"
    },
    {
      "cell_type": "code",
      "metadata": {},
      "source": [
        "iris.shape\n",
        "iris.dtypes\n",
        "iris.columns # can also set: iris.columns = [some list]\n",
        "iris.index # can also set: iris.index = [some list]\n",
        "iris.info()\n",
        "iris.describe()\n",
        "iris.isna().sum()"
      ],
      "id": "f74650a5",
      "execution_count": null,
      "outputs": []
    },
    {
      "cell_type": "code",
      "metadata": {},
      "source": [
        "df.index = range(2016, 2021)"
      ],
      "id": "bc0d85ef",
      "execution_count": null,
      "outputs": []
    },
    {
      "cell_type": "markdown",
      "metadata": {},
      "source": [
        "### Filtering Records\n"
      ],
      "id": "6c9c0823"
    },
    {
      "cell_type": "code",
      "metadata": {},
      "source": [
        "iris.head()\n",
        "iris.tail()\n",
        "iris.loc[0] # advisable to use .loc for labeled index other than ints\n",
        "iris.iloc[:4]\n",
        "iris.iloc[[3]] # returns DataFrame\n",
        "iris.query(\"sepal_length < 5\")"
      ],
      "id": "3941cc52",
      "execution_count": null,
      "outputs": []
    },
    {
      "cell_type": "markdown",
      "metadata": {},
      "source": [
        "### Selecting Fields\n"
      ],
      "id": "7e7b9003"
    },
    {
      "cell_type": "code",
      "metadata": {},
      "source": [
        "iris['species'].unique()\n",
        "iris.drop('species', axis=1)"
      ],
      "id": "dda2cdcc",
      "execution_count": null,
      "outputs": []
    },
    {
      "cell_type": "markdown",
      "metadata": {},
      "source": [
        "## Mutating Columns\n"
      ],
      "id": "021b4fdb"
    },
    {
      "cell_type": "code",
      "metadata": {},
      "source": [
        "df['double_revenue'] = df['revenue'] * 2\n",
        "df.assign(triple_revenue = df['revenue'] * 3)"
      ],
      "id": "65e9c4f7",
      "execution_count": null,
      "outputs": []
    },
    {
      "cell_type": "markdown",
      "metadata": {},
      "source": [
        "## Aggregation\n"
      ],
      "id": "5b67269b"
    },
    {
      "cell_type": "code",
      "metadata": {},
      "source": [
        "iris.max()\n",
        "iris['species'].value_counts()\n",
        "iris.groupby(['species']).size()\n",
        "iris.groupby(['species'])['sepal_length'].min()"
      ],
      "id": "a9046dbb",
      "execution_count": null,
      "outputs": []
    },
    {
      "cell_type": "code",
      "metadata": {},
      "source": [
        "iris.groupby(['species']).agg({'sepal_length': ['min', 'max']})"
      ],
      "id": "74e8bcdc",
      "execution_count": null,
      "outputs": []
    },
    {
      "cell_type": "code",
      "metadata": {},
      "source": [
        "iris.groupby(['species']).agg(['min', 'max'])"
      ],
      "id": "f4fbf77d",
      "execution_count": null,
      "outputs": []
    },
    {
      "cell_type": "code",
      "metadata": {},
      "source": [
        "iris.corr()\n",
        "iris.drop('species', axis=1).cumsum()"
      ],
      "id": "e14930ef",
      "execution_count": null,
      "outputs": []
    },
    {
      "cell_type": "code",
      "metadata": {},
      "source": [
        "diamonds = sns.load_dataset(\"diamonds\")\n",
        "diamonds.groupby([\"cut\"])[\"price\"].mean()"
      ],
      "id": "5df658dd",
      "execution_count": null,
      "outputs": []
    },
    {
      "cell_type": "code",
      "metadata": {},
      "source": [
        "diamonds.groupby('cut').size().plot()"
      ],
      "id": "1adc9d92",
      "execution_count": null,
      "outputs": []
    }
  ],
  "metadata": {
    "kernelspec": {
      "display_name": "Python 3",
      "language": "python",
      "name": "python3"
    }
  },
  "nbformat": 4,
  "nbformat_minor": 5
}