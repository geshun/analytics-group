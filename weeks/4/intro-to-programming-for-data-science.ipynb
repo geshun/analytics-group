{
  "cells": [
    {
      "cell_type": "raw",
      "id": "aa4d7257",
      "metadata": {},
      "source": [
        "---\n",
        "title: Intro to Programming for Data Science\n",
        "author: geshun\n",
        "format: ipynb\n",
        "editor: visual\n",
        "---"
      ]
    },
    {
      "cell_type": "markdown",
      "id": "f47e43b4",
      "metadata": {},
      "source": [
        "### Ice Breaker\n",
        "\n",
        "How do copy the entire list without using the `.copy()` method?\n"
      ]
    },
    {
      "cell_type": "code",
      "execution_count": null,
      "id": "0104d696",
      "metadata": {},
      "outputs": [],
      "source": [
        "revenues = [12000, 23000, 15000, 10000, 18000]"
      ]
    },
    {
      "cell_type": "markdown",
      "id": "e6b1d54d",
      "metadata": {},
      "source": [
        "### Generator\n"
      ]
    },
    {
      "cell_type": "code",
      "execution_count": null,
      "id": "304f8fd0",
      "metadata": {},
      "outputs": [],
      "source": [
        "def double(x_list):\n",
        "  result = []\n",
        "  for val in x_list:\n",
        "    result.append(val * 2)\n",
        "  return result\n",
        "\n",
        "double(revenues)\n",
        "\n",
        "def double(x_list):\n",
        "  return [val * 2 for val in x_list]"
      ]
    },
    {
      "cell_type": "markdown",
      "id": "d4718770",
      "metadata": {},
      "source": [
        "Turn the `double()` function into a generator\n"
      ]
    },
    {
      "cell_type": "markdown",
      "id": "d211d6fa",
      "metadata": {},
      "source": [
        "### Recursion\n"
      ]
    },
    {
      "cell_type": "code",
      "execution_count": null,
      "id": "d3bd3436",
      "metadata": {},
      "outputs": [],
      "source": [
        "def product(x_list):\n",
        "  result = 1\n",
        "  for val in x_list:\n",
        "    result = result * val\n",
        "  return result\n",
        "\n",
        "product(revenues)"
      ]
    },
    {
      "cell_type": "markdown",
      "id": "084e8eaf",
      "metadata": {},
      "source": [
        "Write the above `product()` function as a recursion.\n"
      ]
    },
    {
      "cell_type": "markdown",
      "id": "89e8c34d",
      "metadata": {},
      "source": [
        "### Lambda Expression\n"
      ]
    },
    {
      "cell_type": "code",
      "execution_count": null,
      "id": "12727df7",
      "metadata": {},
      "outputs": [],
      "source": [
        "# with the help of len and sum find the arithmetic mean using lambda expression"
      ]
    },
    {
      "cell_type": "markdown",
      "id": "93da9631",
      "metadata": {},
      "source": [
        "## Store the revenue year\n",
        "\n",
        "We want to record the year of the revenue as part of the data. How do we do that? Try list of list!\n"
      ]
    },
    {
      "cell_type": "markdown",
      "id": "4ca3c415",
      "metadata": {},
      "source": [
        "## Dictionary\n",
        "\n",
        "Have multiple keys - one for each year\n"
      ]
    },
    {
      "cell_type": "markdown",
      "id": "0b4841ae",
      "metadata": {},
      "source": [
        "Have a single key\n"
      ]
    },
    {
      "cell_type": "markdown",
      "id": "137be884",
      "metadata": {},
      "source": [
        "### Quick Pandas\n",
        "\n",
        "Turn the dictionary into `pandas` `Series` and/or `DataFrame`\n"
      ]
    },
    {
      "cell_type": "code",
      "execution_count": null,
      "id": "4abd2786",
      "metadata": {},
      "outputs": [],
      "source": [
        "from pandas import DataFrame, Series"
      ]
    }
  ],
  "metadata": {
    "kernelspec": {
      "display_name": "Python 3.8.10 ('geo')",
      "language": "python",
      "name": "python3"
    },
    "language_info": {
      "name": "python",
      "version": "3.8.10"
    },
    "vscode": {
      "interpreter": {
        "hash": "caf071cfcc2474ea3371ce45158929ae6b8e360bffced7374fcc08f548f5e708"
      }
    }
  },
  "nbformat": 4,
  "nbformat_minor": 5
}
