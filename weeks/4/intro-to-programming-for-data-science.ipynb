{
  "cells": [
    {
      "cell_type": "markdown",
      "metadata": {},
      "source": [
        "# Intro to Programming for Data Science\n",
        "\n",
        "geshun"
      ],
      "id": "10b1ebbd-95db-4d62-a10e-0f609ef29b47"
    },
    {
      "cell_type": "code",
      "execution_count": null,
      "metadata": {},
      "outputs": [],
      "source": [
        "import pandas as pd"
      ],
      "id": "456c3685-6eec-4a4d-9530-46c4075aa66a"
    },
    {
      "cell_type": "markdown",
      "metadata": {},
      "source": [
        "### Loading Data\n",
        "\n",
        "Open and read files using vanilla python"
      ],
      "id": "c133fe53-907c-4bc3-9dee-6c71f2573cb3"
    },
    {
      "cell_type": "code",
      "execution_count": null,
      "metadata": {},
      "outputs": [
        {
          "output_type": "stream",
          "name": "stderr",
          "text": [
            "Warning in readLines(f): incomplete final line found on 'revenues.txt'"
          ]
        }
      ],
      "source": [
        "f <- file(\"revenues.txt\", 'r')\n",
        "x <- readLines(f)"
      ],
      "id": "7dcd3a3e-4aeb-4815-9f94-3467c3e68d5f"
    },
    {
      "cell_type": "code",
      "execution_count": null,
      "metadata": {},
      "outputs": [
        {
          "output_type": "stream",
          "name": "stdout",
          "text": [
            "'revenue\\n12000\\n23000\\n15000\\n10000\\n18000'"
          ]
        }
      ],
      "source": [
        "f = open('revenues.txt', 'r')\n",
        "rev = f.read()\n",
        "f.close()\n",
        "rev"
      ],
      "id": "d841fa1b-402b-4f99-8538-5d151510812d"
    },
    {
      "cell_type": "code",
      "execution_count": null,
      "metadata": {},
      "outputs": [],
      "source": [
        "with open('revenues.txt', 'r') as f:\n",
        "  rev = f.read()"
      ],
      "id": "e7620111-3d7a-491c-90b3-a07ae46d9d3b"
    },
    {
      "cell_type": "markdown",
      "metadata": {},
      "source": [
        "Clean the string output of the above operation and find the mean of the\n",
        "values"
      ],
      "id": "aa098514-47cf-48ad-b9d4-458d27afa798"
    },
    {
      "cell_type": "code",
      "execution_count": null,
      "metadata": {},
      "outputs": [],
      "source": [
        "revs = rev.split()"
      ],
      "id": "cee559d0-7e31-47fb-a201-4c0149338f3e"
    },
    {
      "cell_type": "code",
      "execution_count": null,
      "metadata": {},
      "outputs": [
        {
          "output_type": "stream",
          "name": "stdout",
          "text": [
            "[12000, 23000, 15000, 10000, 18000]"
          ]
        }
      ],
      "source": [
        "[int(val) for val in revs if val.isnumeric()]"
      ],
      "id": "9dd5c197-b08b-4c97-a76f-bdf28f72048b"
    },
    {
      "cell_type": "code",
      "execution_count": null,
      "metadata": {},
      "outputs": [
        {
          "output_type": "stream",
          "name": "stdout",
          "text": [
            "[12000, 23000, 15000, 10000, 18000]"
          ]
        }
      ],
      "source": [
        "revs = rev.split()\n",
        "del revs[0]\n",
        "[int(val) for val in revs]"
      ],
      "id": "08aeef94-1835-4222-b816-3831370f6b6d"
    },
    {
      "cell_type": "code",
      "execution_count": null,
      "metadata": {},
      "outputs": [],
      "source": [
        "revs = rev.split()\n",
        "revenues = []\n",
        "for val in revs:\n",
        "  try:\n",
        "    revenues.append(int(val))\n",
        "  except ValueError:\n",
        "    continue"
      ],
      "id": "afb0606d-9417-4e82-88d1-717d93d65f92"
    },
    {
      "cell_type": "markdown",
      "metadata": {},
      "source": [
        "Read files using Pandas"
      ],
      "id": "7ffba81a-3c88-4126-8578-82278bf4d6a2"
    },
    {
      "cell_type": "code",
      "execution_count": null,
      "metadata": {},
      "outputs": [],
      "source": [
        "df = pd.read_csv(\"revenues.txt\", sep=\"\\t\")"
      ],
      "id": "457d4c04-d724-49d7-98da-a42725801a9e"
    },
    {
      "cell_type": "code",
      "execution_count": null,
      "metadata": {},
      "outputs": [
        {
          "output_type": "stream",
          "name": "stdout",
          "text": [
            "revenue    15600.0\n",
            "dtype: float64"
          ]
        }
      ],
      "source": [
        "df.mean()"
      ],
      "id": "3a483f29-6bbe-4006-bdd4-5df7e81c8ff6"
    },
    {
      "cell_type": "markdown",
      "metadata": {},
      "source": [
        "### Some R Datasets from Seaborn"
      ],
      "id": "0744637b-818d-48a5-9b96-5064b0743be2"
    },
    {
      "cell_type": "code",
      "execution_count": null,
      "metadata": {},
      "outputs": [
        {
          "output_type": "stream",
          "name": "stdout",
          "text": [
            "['anagrams', 'anscombe', 'attention', 'brain_networks', 'car_crashes', 'diamonds', 'dots', 'exercise', 'flights', 'fmri', 'geyser', 'glue', 'healthexp', 'iris', 'mpg', 'penguins', 'planets', 'seaice', 'taxis', 'tips', 'titanic']"
          ]
        }
      ],
      "source": [
        "import seaborn as sns\n",
        "sns.get_dataset_names()"
      ],
      "id": "302413bf-7bf7-4f7d-aaee-d999b9c34cbf"
    },
    {
      "cell_type": "markdown",
      "metadata": {},
      "source": [
        "Get iris dataset"
      ],
      "id": "11b614bf-7d7a-42c3-a637-cc43f5346a71"
    },
    {
      "cell_type": "code",
      "execution_count": null,
      "metadata": {},
      "outputs": [
        {
          "output_type": "stream",
          "name": "stdout",
          "text": [
            "     sepal_length  sepal_width  petal_length  petal_width    species\n",
            "0             5.1          3.5           1.4          0.2     setosa\n",
            "1             4.9          3.0           1.4          0.2     setosa\n",
            "2             4.7          3.2           1.3          0.2     setosa\n",
            "3             4.6          3.1           1.5          0.2     setosa\n",
            "4             5.0          3.6           1.4          0.2     setosa\n",
            "..            ...          ...           ...          ...        ...\n",
            "145           6.7          3.0           5.2          2.3  virginica\n",
            "146           6.3          2.5           5.0          1.9  virginica\n",
            "147           6.5          3.0           5.2          2.0  virginica\n",
            "148           6.2          3.4           5.4          2.3  virginica\n",
            "149           5.9          3.0           5.1          1.8  virginica\n",
            "\n",
            "[150 rows x 5 columns]"
          ]
        }
      ],
      "source": [
        "iris = sns.load_dataset(\"iris\")\n",
        "iris"
      ],
      "id": "8a86a14a-cfd4-4f98-af45-0ac3aa58f9ba"
    },
    {
      "cell_type": "markdown",
      "metadata": {},
      "source": [
        "### Basic Info and Summary"
      ],
      "id": "d12f1eee-791c-4a1b-95d4-b5e9452dc1b2"
    },
    {
      "cell_type": "code",
      "execution_count": null,
      "metadata": {},
      "outputs": [
        {
          "output_type": "stream",
          "name": "stdout",
          "text": [
            "(150, 5)"
          ]
        },
        {
          "output_type": "stream",
          "name": "stdout",
          "text": [
            "sepal_length    float64\n",
            "sepal_width     float64\n",
            "petal_length    float64\n",
            "petal_width     float64\n",
            "species          object\n",
            "dtype: object"
          ]
        },
        {
          "output_type": "stream",
          "name": "stdout",
          "text": [
            "Index(['sepal_length', 'sepal_width', 'petal_length', 'petal_width',\n",
            "       'species'],\n",
            "      dtype='object')"
          ]
        },
        {
          "output_type": "stream",
          "name": "stdout",
          "text": [
            "RangeIndex(start=0, stop=150, step=1)"
          ]
        },
        {
          "output_type": "stream",
          "name": "stdout",
          "text": [
            "<class 'pandas.core.frame.DataFrame'>\n",
            "RangeIndex: 150 entries, 0 to 149\n",
            "Data columns (total 5 columns):\n",
            " #   Column        Non-Null Count  Dtype  \n",
            "---  ------        --------------  -----  \n",
            " 0   sepal_length  150 non-null    float64\n",
            " 1   sepal_width   150 non-null    float64\n",
            " 2   petal_length  150 non-null    float64\n",
            " 3   petal_width   150 non-null    float64\n",
            " 4   species       150 non-null    object \n",
            "dtypes: float64(4), object(1)\n",
            "memory usage: 6.0+ KB"
          ]
        },
        {
          "output_type": "stream",
          "name": "stdout",
          "text": [
            "       sepal_length  sepal_width  petal_length  petal_width\n",
            "count    150.000000   150.000000    150.000000   150.000000\n",
            "mean       5.843333     3.057333      3.758000     1.199333\n",
            "std        0.828066     0.435866      1.765298     0.762238\n",
            "min        4.300000     2.000000      1.000000     0.100000\n",
            "25%        5.100000     2.800000      1.600000     0.300000\n",
            "50%        5.800000     3.000000      4.350000     1.300000\n",
            "75%        6.400000     3.300000      5.100000     1.800000\n",
            "max        7.900000     4.400000      6.900000     2.500000"
          ]
        },
        {
          "output_type": "stream",
          "name": "stdout",
          "text": [
            "sepal_length    0\n",
            "sepal_width     0\n",
            "petal_length    0\n",
            "petal_width     0\n",
            "species         0\n",
            "dtype: int64"
          ]
        }
      ],
      "source": [
        "iris.shape"
      ],
      "id": "fa6130a1-f2da-4d53-a57f-87d87a06d573"
    },
    {
      "cell_type": "code",
      "execution_count": null,
      "metadata": {},
      "outputs": [],
      "source": [
        "df.index = range(2016, 2021)"
      ],
      "id": "3536f8dd-778b-43f4-b44a-a6ac82cfda4d"
    },
    {
      "cell_type": "markdown",
      "metadata": {},
      "source": [
        "### Filtering Records"
      ],
      "id": "c0b2285f-c7f0-447b-b103-a58dce0987d0"
    },
    {
      "cell_type": "code",
      "execution_count": null,
      "metadata": {},
      "outputs": [
        {
          "output_type": "stream",
          "name": "stdout",
          "text": [
            "   sepal_length  sepal_width  petal_length  petal_width species\n",
            "0           5.1          3.5           1.4          0.2  setosa\n",
            "1           4.9          3.0           1.4          0.2  setosa\n",
            "2           4.7          3.2           1.3          0.2  setosa\n",
            "3           4.6          3.1           1.5          0.2  setosa\n",
            "4           5.0          3.6           1.4          0.2  setosa"
          ]
        },
        {
          "output_type": "stream",
          "name": "stdout",
          "text": [
            "     sepal_length  sepal_width  petal_length  petal_width    species\n",
            "145           6.7          3.0           5.2          2.3  virginica\n",
            "146           6.3          2.5           5.0          1.9  virginica\n",
            "147           6.5          3.0           5.2          2.0  virginica\n",
            "148           6.2          3.4           5.4          2.3  virginica\n",
            "149           5.9          3.0           5.1          1.8  virginica"
          ]
        },
        {
          "output_type": "stream",
          "name": "stdout",
          "text": [
            "sepal_length       5.1\n",
            "sepal_width        3.5\n",
            "petal_length       1.4\n",
            "petal_width        0.2\n",
            "species         setosa\n",
            "Name: 0, dtype: object"
          ]
        },
        {
          "output_type": "stream",
          "name": "stdout",
          "text": [
            "   sepal_length  sepal_width  petal_length  petal_width species\n",
            "0           5.1          3.5           1.4          0.2  setosa\n",
            "1           4.9          3.0           1.4          0.2  setosa\n",
            "2           4.7          3.2           1.3          0.2  setosa\n",
            "3           4.6          3.1           1.5          0.2  setosa"
          ]
        },
        {
          "output_type": "stream",
          "name": "stdout",
          "text": [
            "   sepal_length  sepal_width  petal_length  petal_width species\n",
            "3           4.6          3.1           1.5          0.2  setosa"
          ]
        },
        {
          "output_type": "stream",
          "name": "stdout",
          "text": [
            "     sepal_length  sepal_width  petal_length  petal_width     species\n",
            "1             4.9          3.0           1.4          0.2      setosa\n",
            "2             4.7          3.2           1.3          0.2      setosa\n",
            "3             4.6          3.1           1.5          0.2      setosa\n",
            "6             4.6          3.4           1.4          0.3      setosa\n",
            "8             4.4          2.9           1.4          0.2      setosa\n",
            "9             4.9          3.1           1.5          0.1      setosa\n",
            "11            4.8          3.4           1.6          0.2      setosa\n",
            "12            4.8          3.0           1.4          0.1      setosa\n",
            "13            4.3          3.0           1.1          0.1      setosa\n",
            "22            4.6          3.6           1.0          0.2      setosa\n",
            "24            4.8          3.4           1.9          0.2      setosa\n",
            "29            4.7          3.2           1.6          0.2      setosa\n",
            "30            4.8          3.1           1.6          0.2      setosa\n",
            "34            4.9          3.1           1.5          0.2      setosa\n",
            "37            4.9          3.6           1.4          0.1      setosa\n",
            "38            4.4          3.0           1.3          0.2      setosa\n",
            "41            4.5          2.3           1.3          0.3      setosa\n",
            "42            4.4          3.2           1.3          0.2      setosa\n",
            "45            4.8          3.0           1.4          0.3      setosa\n",
            "47            4.6          3.2           1.4          0.2      setosa\n",
            "57            4.9          2.4           3.3          1.0  versicolor\n",
            "106           4.9          2.5           4.5          1.7   virginica"
          ]
        }
      ],
      "source": [
        "iris.head()"
      ],
      "id": "d1befa6e-f28a-4c41-b9a6-e8494968e3f4"
    },
    {
      "cell_type": "markdown",
      "metadata": {},
      "source": [
        "### Selecting Fields"
      ],
      "id": "deea8af6-6fcf-4a75-9ba0-b16b062f7cc9"
    },
    {
      "cell_type": "code",
      "execution_count": null,
      "metadata": {},
      "outputs": [
        {
          "output_type": "stream",
          "name": "stdout",
          "text": [
            "array(['setosa', 'versicolor', 'virginica'], dtype=object)"
          ]
        },
        {
          "output_type": "stream",
          "name": "stdout",
          "text": [
            "     sepal_length  sepal_width  petal_length  petal_width\n",
            "0             5.1          3.5           1.4          0.2\n",
            "1             4.9          3.0           1.4          0.2\n",
            "2             4.7          3.2           1.3          0.2\n",
            "3             4.6          3.1           1.5          0.2\n",
            "4             5.0          3.6           1.4          0.2\n",
            "..            ...          ...           ...          ...\n",
            "145           6.7          3.0           5.2          2.3\n",
            "146           6.3          2.5           5.0          1.9\n",
            "147           6.5          3.0           5.2          2.0\n",
            "148           6.2          3.4           5.4          2.3\n",
            "149           5.9          3.0           5.1          1.8\n",
            "\n",
            "[150 rows x 4 columns]"
          ]
        }
      ],
      "source": [
        "iris['species'].unique()"
      ],
      "id": "d2eaea0a-ee07-4b34-b800-accee49027e4"
    },
    {
      "cell_type": "markdown",
      "metadata": {},
      "source": [
        "## Mutating Columns"
      ],
      "id": "6829a647-b41a-4b4e-84e5-b1072769b994"
    },
    {
      "cell_type": "code",
      "execution_count": null,
      "metadata": {},
      "outputs": [
        {
          "output_type": "stream",
          "name": "stdout",
          "text": [
            "      revenue  double_revenue  triple_revenue\n",
            "2016    12000           24000           36000\n",
            "2017    23000           46000           69000\n",
            "2018    15000           30000           45000\n",
            "2019    10000           20000           30000\n",
            "2020    18000           36000           54000"
          ]
        }
      ],
      "source": [
        "df['double_revenue'] = df['revenue'] * 2\n",
        "df.assign(triple_revenue = df['revenue'] * 3)"
      ],
      "id": "d33ad7e2-3581-4c93-b4a4-c881631e48ae"
    },
    {
      "cell_type": "markdown",
      "metadata": {},
      "source": [
        "## Aggregation"
      ],
      "id": "2721fb75-2eee-4944-82a2-a23a8e8eb6f7"
    },
    {
      "cell_type": "code",
      "execution_count": null,
      "metadata": {},
      "outputs": [
        {
          "output_type": "stream",
          "name": "stdout",
          "text": [
            "sepal_length          7.9\n",
            "sepal_width           4.4\n",
            "petal_length          6.9\n",
            "petal_width           2.5\n",
            "species         virginica\n",
            "dtype: object"
          ]
        },
        {
          "output_type": "stream",
          "name": "stdout",
          "text": [
            "versicolor    50\n",
            "setosa        50\n",
            "virginica     50\n",
            "Name: species, dtype: int64"
          ]
        },
        {
          "output_type": "stream",
          "name": "stdout",
          "text": [
            "species\n",
            "setosa        50\n",
            "versicolor    50\n",
            "virginica     50\n",
            "dtype: int64"
          ]
        },
        {
          "output_type": "stream",
          "name": "stdout",
          "text": [
            "species\n",
            "setosa        4.3\n",
            "versicolor    4.9\n",
            "virginica     4.9\n",
            "Name: sepal_length, dtype: float64"
          ]
        }
      ],
      "source": [
        "iris.max()"
      ],
      "id": "83085420-a015-43fe-adf9-4ae9c3716733"
    },
    {
      "cell_type": "code",
      "execution_count": null,
      "metadata": {},
      "outputs": [
        {
          "output_type": "stream",
          "name": "stdout",
          "text": [
            "           sepal_length     \n",
            "                    min  max\n",
            "species                     \n",
            "setosa              4.3  5.8\n",
            "versicolor          4.9  7.0\n",
            "virginica           4.9  7.9"
          ]
        }
      ],
      "source": [
        "iris.groupby(['species']).agg({'sepal_length': ['min', 'max']})"
      ],
      "id": "9e2fc939-45d9-47b8-a31e-38678fcb5d94"
    },
    {
      "cell_type": "code",
      "execution_count": null,
      "metadata": {},
      "outputs": [
        {
          "output_type": "stream",
          "name": "stdout",
          "text": [
            "           sepal_length      sepal_width  ... petal_length petal_width     \n",
            "                    min  max         min  ...          max         min  max\n",
            "species                                   ...                              \n",
            "setosa              4.3  5.8         2.3  ...          1.9         0.1  0.6\n",
            "versicolor          4.9  7.0         2.0  ...          5.1         1.0  1.8\n",
            "virginica           4.9  7.9         2.2  ...          6.9         1.4  2.5\n",
            "\n",
            "[3 rows x 8 columns]"
          ]
        }
      ],
      "source": [
        "iris.groupby(['species']).agg(['min', 'max'])"
      ],
      "id": "8c9f10b9-1912-451f-8844-d7131a74f492"
    },
    {
      "cell_type": "code",
      "execution_count": null,
      "metadata": {},
      "outputs": [
        {
          "output_type": "stream",
          "name": "stdout",
          "text": [
            "              sepal_length  sepal_width  petal_length  petal_width\n",
            "sepal_length      1.000000    -0.117570      0.871754     0.817941\n",
            "sepal_width      -0.117570     1.000000     -0.428440    -0.366126\n",
            "petal_length      0.871754    -0.428440      1.000000     0.962865\n",
            "petal_width       0.817941    -0.366126      0.962865     1.000000"
          ]
        },
        {
          "output_type": "stream",
          "name": "stdout",
          "text": [
            "     sepal_length  sepal_width  petal_length  petal_width\n",
            "0             5.1          3.5           1.4          0.2\n",
            "1            10.0          6.5           2.8          0.4\n",
            "2            14.7          9.7           4.1          0.6\n",
            "3            19.3         12.8           5.6          0.8\n",
            "4            24.3         16.4           7.0          1.0\n",
            "..            ...          ...           ...          ...\n",
            "145         851.6        446.7         543.0        171.9\n",
            "146         857.9        449.2         548.0        173.8\n",
            "147         864.4        452.2         553.2        175.8\n",
            "148         870.6        455.6         558.6        178.1\n",
            "149         876.5        458.6         563.7        179.9\n",
            "\n",
            "[150 rows x 4 columns]"
          ]
        }
      ],
      "source": [
        "iris.corr()"
      ],
      "id": "b4d0f089-81b0-4845-9637-552f8d34f108"
    },
    {
      "cell_type": "code",
      "execution_count": null,
      "metadata": {},
      "outputs": [
        {
          "output_type": "stream",
          "name": "stdout",
          "text": [
            "cut\n",
            "Ideal        3457.541970\n",
            "Premium      4584.257704\n",
            "Very Good    3981.759891\n",
            "Good         3928.864452\n",
            "Fair         4358.757764\n",
            "Name: price, dtype: float64"
          ]
        }
      ],
      "source": [
        "diamonds = sns.load_dataset(\"diamonds\")\n",
        "diamonds.groupby([\"cut\"])[\"price\"].mean()"
      ],
      "id": "cea57d77-3602-40fc-8eb6-9f3f983118de"
    },
    {
      "cell_type": "code",
      "execution_count": null,
      "metadata": {},
      "outputs": [
        {
          "output_type": "display_data",
          "metadata": {},
          "data": {
            "image/png": "[encoded data removed]"
          }
        }
      ],
      "source": [
        "diamonds.groupby('cut').size().plot()"
      ],
      "id": "17c7b21c-23af-45bd-af0c-a45b86d679e6"
    }
  ],
  "nbformat": 4,
  "nbformat_minor": 5,
  "metadata": {
    "kernelspec": {
      "display_name": "Python 3",
      "language": "python",
      "name": "python3"
    }
  }
}