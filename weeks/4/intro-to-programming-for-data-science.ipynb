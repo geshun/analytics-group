{
  "cells": [
    {
      "cell_type": "raw",
      "id": "28dad199",
      "metadata": {},
      "source": [
        "---\n",
        "title: \"Intro to Programming for Data Science\"\n",
        "author: \"geshun\"\n",
        "format: ipynb\n",
        "editor: visual\n",
        "---"
      ]
    },
    {
      "cell_type": "code",
      "execution_count": null,
      "id": "f1a2d635",
      "metadata": {},
      "outputs": [],
      "source": [
        "import pandas as pd"
      ]
    },
    {
      "cell_type": "markdown",
      "id": "c239f3b5",
      "metadata": {},
      "source": [
        "### Loading Data\n",
        "\n",
        "Open and read files using vanilla python\n"
      ]
    },
    {
      "cell_type": "code",
      "execution_count": null,
      "id": "73f60640",
      "metadata": {},
      "outputs": [],
      "source": [
        "f = open('revenues.txt', 'r')\n",
        "rev = f.read()\n",
        "f.close()\n",
        "rev"
      ]
    },
    {
      "cell_type": "markdown",
      "id": "5e071cf5",
      "metadata": {},
      "source": [
        "Clean the string output of the above operation and find the mean of the values\n"
      ]
    },
    {
      "cell_type": "markdown",
      "id": "bfd3dabe",
      "metadata": {},
      "source": [
        "Read files using Pandas\n"
      ]
    },
    {
      "cell_type": "code",
      "execution_count": null,
      "id": "a386f8ef",
      "metadata": {},
      "outputs": [],
      "source": [
        "pd.read_csv(\"revenues.txt\", sep=\"\\t\")"
      ]
    },
    {
      "cell_type": "markdown",
      "id": "8afe4e8d",
      "metadata": {},
      "source": [
        "### Some R Datasets from Seaborn\n"
      ]
    },
    {
      "cell_type": "code",
      "execution_count": null,
      "id": "03813338",
      "metadata": {},
      "outputs": [],
      "source": [
        "import seaborn as sns\n",
        "sns.get_dataset_names()"
      ]
    },
    {
      "cell_type": "markdown",
      "id": "6ff3ea7d",
      "metadata": {},
      "source": [
        "### Basic Info and Summary\n"
      ]
    },
    {
      "cell_type": "markdown",
      "id": "6dc40c52",
      "metadata": {},
      "source": [
        "### Filtering Records\n"
      ]
    },
    {
      "cell_type": "markdown",
      "id": "25d0d528",
      "metadata": {},
      "source": [
        "### Selecting Fields\n"
      ]
    },
    {
      "cell_type": "markdown",
      "id": "2514b400",
      "metadata": {},
      "source": [
        "## Mutating Columns\n"
      ]
    },
    {
      "cell_type": "markdown",
      "id": "a043be53",
      "metadata": {},
      "source": [
        "## Aggregation\n"
      ]
    },
    {
      "cell_type": "markdown",
      "id": "0c4fe081",
      "metadata": {},
      "source": [
        "### "
      ]
    }
  ],
  "metadata": {
    "kernelspec": {
      "display_name": "Python 3.8.8 ('base')",
      "language": "python",
      "name": "python3"
    },
    "language_info": {
      "name": "python",
      "version": "3.8.8"
    },
    "vscode": {
      "interpreter": {
        "hash": "8602ab2c3388629891678afcd302d55cf8f09071ac181019a4e33980ecf48fe4"
      }
    }
  },
  "nbformat": 4,
  "nbformat_minor": 5
}
