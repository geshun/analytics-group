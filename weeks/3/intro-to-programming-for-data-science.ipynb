{
  "cells": [
    {
      "cell_type": "raw",
      "metadata": {},
      "source": [
        "---\n",
        "title: Intro to Programming for Data Science\n",
        "author: geshun\n",
        "format: ipynb\n",
        "editor: visual\n",
        "---"
      ],
      "id": "aa4d7257"
    },
    {
      "cell_type": "markdown",
      "metadata": {},
      "source": [
        "### Ice Breaker\n",
        "\n",
        "How do copy the entire list without using the `.copy()` method?\n"
      ],
      "id": "f47e43b4"
    },
    {
      "cell_type": "code",
      "metadata": {},
      "source": [
        "revenues = [12000, 23000, 15000, 10000, 18000]"
      ],
      "id": "0104d696",
      "execution_count": null,
      "outputs": []
    },
    {
      "cell_type": "markdown",
      "metadata": {},
      "source": [
        "### Generator\n"
      ],
      "id": "e6b1d54d"
    },
    {
      "cell_type": "code",
      "metadata": {},
      "source": [
        "def double(x_list):\n",
        "  result = []\n",
        "  for val in x_list:\n",
        "    result.append(val * 2)\n",
        "  return result\n",
        "\n",
        "double(revenues)\n",
        "\n",
        "def double(x_list):\n",
        "  return [val * 2 for val in x_list]"
      ],
      "id": "304f8fd0",
      "execution_count": null,
      "outputs": []
    },
    {
      "cell_type": "markdown",
      "metadata": {},
      "source": [
        "Turn the `double()` function into a generator\n"
      ],
      "id": "d4718770"
    },
    {
      "cell_type": "markdown",
      "metadata": {},
      "source": [
        "### Recursion\n"
      ],
      "id": "d211d6fa"
    },
    {
      "cell_type": "code",
      "metadata": {},
      "source": [
        "def product(x_list):\n",
        "  result = 1\n",
        "  for val in x_list:\n",
        "    result = result * val\n",
        "  return result\n",
        "\n",
        "product(revenues)"
      ],
      "id": "d3bd3436",
      "execution_count": null,
      "outputs": []
    },
    {
      "cell_type": "markdown",
      "metadata": {},
      "source": [
        "Write the above `product()` function as a recursion.\n"
      ],
      "id": "084e8eaf"
    },
    {
      "cell_type": "markdown",
      "metadata": {},
      "source": [
        "### Lambda Expression\n"
      ],
      "id": "89e8c34d"
    },
    {
      "cell_type": "code",
      "metadata": {},
      "source": [
        "# with the help of len and sum find the arithmetic mean using lambda expression"
      ],
      "id": "12727df7",
      "execution_count": null,
      "outputs": []
    },
    {
      "cell_type": "markdown",
      "metadata": {},
      "source": [
        "## Store the revenue year\n",
        "\n",
        "We want to record the year of the revenue as part of the data. How do we do that? Try list of list!\n"
      ],
      "id": "93da9631"
    },
    {
      "cell_type": "markdown",
      "metadata": {},
      "source": [
        "## Dictionary\n",
        "\n",
        "Have multiple keys - one for each year\n"
      ],
      "id": "4ca3c415"
    },
    {
      "cell_type": "markdown",
      "metadata": {},
      "source": [
        "Have a single key\n"
      ],
      "id": "0b4841ae"
    },
    {
      "cell_type": "markdown",
      "metadata": {},
      "source": [
        "### Quick Pandas\n",
        "\n",
        "Turn the dictionary into `pandas` `Series` and/or `DataFrame`\n"
      ],
      "id": "137be884"
    },
    {
      "cell_type": "code",
      "metadata": {},
      "source": [
        "from pandas import DataFrame, Series"
      ],
      "id": "4abd2786",
      "execution_count": null,
      "outputs": []
    }
  ],
  "metadata": {
    "kernelspec": {
      "display_name": "Python 3",
      "language": "python",
      "name": "python3"
    }
  },
  "nbformat": 4,
  "nbformat_minor": 5
}