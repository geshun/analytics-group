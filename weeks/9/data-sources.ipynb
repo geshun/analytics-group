{
  "cells": [
    {
      "cell_type": "markdown",
      "metadata": {},
      "source": [
        "# data-sources\n",
        "\n",
        "geshun"
      ],
      "id": "0b0d7bd5-8c07-4861-a41a-32e041911d98"
    },
    {
      "cell_type": "code",
      "execution_count": null,
      "metadata": {},
      "outputs": [],
      "source": [
        "reticulate::use_condaenv(\"base\")"
      ],
      "id": "efd3dd5c-89ef-414d-a268-d986c3dec6f3"
    },
    {
      "cell_type": "markdown",
      "metadata": {},
      "source": [
        "## Data Sources\n",
        "\n",
        "> Answers the question “where is the data and how do I connect to it”.\n",
        "\n",
        "### Forms of Data\n",
        "\n",
        "1.  Structured\n",
        "2.  Semi-structured - json, html, xml\n",
        "3.  Unstructured\n",
        "\n",
        "### Data Sources\n",
        "\n",
        "1.  Flat file\n",
        "2.  Online Services - AWS, Salesforce, Snowflake\n",
        "3.  In-house databases\n",
        "4.  Web - Wikipedia"
      ],
      "id": "82e48d14-af9b-4cbf-8e83-7aca5ece22ef"
    },
    {
      "cell_type": "code",
      "execution_count": null,
      "metadata": {},
      "outputs": [],
      "source": [
        "import pandas as pd\n",
        "from sqlalchemy import create_engine\n",
        "import sqlite3 as sq"
      ],
      "id": "6092ff82-82c3-47d8-ab5b-93ee610c6fc7"
    },
    {
      "cell_type": "code",
      "execution_count": null,
      "metadata": {},
      "outputs": [],
      "source": [
        "con = sq.connect(\"data/valuation.sqlite\")\n",
        "cur = con.cursor()"
      ],
      "id": "d4d32a1c-be71-4f07-bac4-8aae8c180f09"
    },
    {
      "cell_type": "code",
      "execution_count": null,
      "metadata": {},
      "outputs": [
        {
          "output_type": "stream",
          "name": "stdout",
          "text": [
            "<sqlite3.Cursor object at 0x0000000031C681F0>"
          ]
        },
        {
          "output_type": "stream",
          "name": "stdout",
          "text": [
            "[('valuation_raw',), ('valuation',), ('valuation_new',)]"
          ]
        }
      ],
      "source": [
        "sql = \"select name from sqlite_master where type='table'\"\n",
        "cur.execute(sql)"
      ],
      "id": "47d737d6-2e1b-4314-bbfc-e1bf4622d094"
    },
    {
      "cell_type": "code",
      "execution_count": null,
      "metadata": {},
      "outputs": [
        {
          "output_type": "stream",
          "name": "stdout",
          "text": [
            "['read_clipboard', 'read_csv', 'read_excel', 'read_feather', 'read_fwf', 'read_gbq', 'read_hdf', 'read_html', 'read_json', 'read_orc', 'read_parquet', 'read_pickle', 'read_sas', 'read_spss', 'read_sql', 'read_sql_query', 'read_sql_table', 'read_stata', 'read_table']"
          ]
        }
      ],
      "source": [
        "[s for s in dir(pd) if s.find(\"read\") == 0]"
      ],
      "id": "56338574-6180-4d92-a517-45472375b738"
    },
    {
      "cell_type": "code",
      "execution_count": null,
      "metadata": {},
      "outputs": [
        {
          "output_type": "stream",
          "name": "stdout",
          "text": [
            "     supply_date       supplying_company  ... expected_valuation actual_valuation\n",
            "0     2016-05-18         Delta Logistics  ...              42770            42770\n",
            "1     2018-08-04              Alpha Inc.  ...              64050            64050\n",
            "2     2017-12-27              Gamma Ltd.  ...             107230           111070\n",
            "3     2017-12-01  Beta Supplying Company  ...              99710            99710\n",
            "4     2016-03-02              Alpha Inc.  ...              79950            79950\n",
            "...          ...                     ...  ...                ...              ...\n",
            "1222  2017-11-02              Gamma Ltd.  ...              67310            61860\n",
            "1223  2020-02-07              Alpha Inc.  ...             112540           112540\n",
            "1224  2019-08-14  Beta Supplying Company  ...              47210            47210\n",
            "1225  2016-06-21              Alpha Inc.  ...              57240            57240\n",
            "1226  2019-05-23              Gamma Ltd.  ...             140920           133670\n",
            "\n",
            "[1227 rows x 6 columns]"
          ]
        }
      ],
      "source": [
        "eng = create_engine('sqlite:///data/valuation.sqlite')\n",
        "pd.read_sql_table(\"valuation_new\", eng)"
      ],
      "id": "25978661-d7ea-4599-8dc3-11074d778412"
    },
    {
      "cell_type": "code",
      "execution_count": null,
      "metadata": {},
      "outputs": [
        {
          "output_type": "stream",
          "name": "stdout",
          "text": [
            "              supply_date  ... actual_valuation\n",
            "0     2016-05-18 00:00:00  ...            42770\n",
            "1     2018-08-04 00:00:00  ...            64050\n",
            "2     2017-12-27 00:00:00  ...           111070\n",
            "3     2017-12-01 00:00:00  ...            99710\n",
            "4     2016-03-02 00:00:00  ...            79950\n",
            "...                   ...  ...              ...\n",
            "1222  2017-11-02 00:00:00  ...            61860\n",
            "1223  2020-02-07 00:00:00  ...           112540\n",
            "1224  2019-08-14 00:00:00  ...            47210\n",
            "1225  2016-06-21 00:00:00  ...            57240\n",
            "1226  2019-05-23 00:00:00  ...           133670\n",
            "\n",
            "[1227 rows x 6 columns]"
          ]
        }
      ],
      "source": [
        "sql = \"select * from valuation_new\"\n",
        "pd.read_sql(sql, con)"
      ],
      "id": "47ea7233-7e0d-4852-928a-93f1096d906e"
    },
    {
      "cell_type": "code",
      "execution_count": null,
      "metadata": {},
      "outputs": [
        {
          "output_type": "stream",
          "name": "stdout",
          "text": [
            "              supply_date  ... actual_valuation\n",
            "0     2016-05-18 00:00:00  ...            42770\n",
            "1     2018-08-04 00:00:00  ...            64050\n",
            "2     2017-12-27 00:00:00  ...           111070\n",
            "3     2017-12-01 00:00:00  ...            99710\n",
            "4     2016-03-02 00:00:00  ...            79950\n",
            "...                   ...  ...              ...\n",
            "1222  2017-11-02 00:00:00  ...            61860\n",
            "1223  2020-02-07 00:00:00  ...           112540\n",
            "1224  2019-08-14 00:00:00  ...            47210\n",
            "1225  2016-06-21 00:00:00  ...            57240\n",
            "1226  2019-05-23 00:00:00  ...           133670\n",
            "\n",
            "[1227 rows x 6 columns]"
          ]
        }
      ],
      "source": [
        "pd.read_sql(sql, eng)"
      ],
      "id": "1da3c9f6-177a-4d97-9b92-badfad064aa3"
    },
    {
      "cell_type": "code",
      "execution_count": null,
      "metadata": {},
      "outputs": [
        {
          "output_type": "stream",
          "name": "stdout",
          "text": [
            "  product_code  n_valuation\n",
            "0          ZUK          143\n",
            "1          YMD          155\n",
            "2          WWA          148\n",
            "3          FOX          146\n",
            "4          CTC          181\n",
            "5          BNO          138\n",
            "6          AMP          151\n",
            "7          AAD          165"
          ]
        }
      ],
      "source": [
        "s = \"\"\"\n",
        "  select \n",
        "    product_code, \n",
        "    count(product_code) as n_valuation\n",
        "  from valuation_new \n",
        "  group by product_code\n",
        "  order by product_code desc\n",
        "\"\"\"\n",
        "pd.read_sql(s, eng)"
      ],
      "id": "782b6652-a171-48c5-96b6-c789f9e14489"
    },
    {
      "cell_type": "code",
      "execution_count": null,
      "metadata": {},
      "outputs": [
        {
          "output_type": "stream",
          "name": "stdout",
          "text": [
            "CTC    181\n",
            "AAD    165\n",
            "YMD    155\n",
            "AMP    151\n",
            "WWA    148\n",
            "FOX    146\n",
            "ZUK    143\n",
            "BNO    138\n",
            "Name: product_code, dtype: int64"
          ]
        },
        {
          "output_type": "stream",
          "name": "stdout",
          "text": [
            "product_code\n",
            "AAD    165\n",
            "AMP    151\n",
            "BNO    138\n",
            "CTC    181\n",
            "FOX    146\n",
            "WWA    148\n",
            "YMD    155\n",
            "ZUK    143\n",
            "dtype: int64"
          ]
        }
      ],
      "source": [
        "valuation = pd.read_sql_table(\"valuation_new\", eng)\n",
        "valuation.product_code.value_counts()"
      ],
      "id": "b926d502-61df-4696-9d19-3c5d58affddf"
    },
    {
      "cell_type": "code",
      "execution_count": null,
      "metadata": {},
      "outputs": [],
      "source": [
        "cur.close()\n",
        "con.close()"
      ],
      "id": "8eca19c4-f1b7-4c4c-ab67-60dfaf33010e"
    }
  ],
  "nbformat": 4,
  "nbformat_minor": 5,
  "metadata": {
    "kernelspec": {
      "display_name": "Python 3",
      "language": "python",
      "name": "python3"
    }
  }
}