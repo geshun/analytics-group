{
  "cells": [
    {
      "cell_type": "markdown",
      "metadata": {},
      "source": [
        "# linear-models\n",
        "\n",
        "geshun"
      ],
      "id": "d26246c2-50f3-42ea-9c06-5154064cf1f7"
    },
    {
      "cell_type": "code",
      "execution_count": null,
      "metadata": {},
      "outputs": [],
      "source": [
        "reticulate::use_condaenv(\"base\")"
      ],
      "id": "d669fedc-fd93-4ea9-8c17-6f882eae9266"
    },
    {
      "cell_type": "markdown",
      "metadata": {},
      "source": [
        "## Linear Models\n",
        "\n",
        "A model is a representation of the real world. A company ($KN^3$)\n",
        "engages Facebook ad as a marketing strategy. The company wants to find a\n",
        "way to increase its revenue and control the cost of advertisement. If we\n",
        "can find an association between ad and revenue\n",
        "(i.e. $revenue = f(ad) + \\epsilon$) the company might be able to achieve\n",
        "its goals. The whole idea is determining what this $f$ is. Realize that\n",
        "our $f$ is just approximating (since it’s a model and not the real\n",
        "thing) so we add the error term \\$\\epsilon\\$. The form this function $f$\n",
        "takes defines if we have a linear model."
      ],
      "id": "ae73ab79-605e-4c3d-a205-91d9deb44445"
    },
    {
      "cell_type": "code",
      "execution_count": null,
      "metadata": {},
      "outputs": [],
      "source": [
        "import pandas as pd\n",
        "import statsmodels.api as sm\n",
        "from math import sqrt\n",
        "from sklearn.linear_model import LinearRegression\n",
        "from sklearn.metrics import mean_squared_error, r2_score, mean_absolute_error"
      ],
      "id": "8cb8b18f-1abd-44b2-98d9-23786fed3cf0"
    },
    {
      "cell_type": "code",
      "execution_count": null,
      "metadata": {},
      "outputs": [
        {
          "output_type": "stream",
          "name": "stdout",
          "text": [
            "          ad_cost   revenue\n",
            "ad_cost  1.000000  0.986055\n",
            "revenue  0.986055  1.000000"
          ]
        }
      ],
      "source": [
        "revenue = [12000, 23000, 15000, 10000, 18000]\n",
        "ad_cost = [300, 450, 360, 300, 400]\n",
        "df = pd.DataFrame({\"ad_cost\": ad_cost, \"revenue\": revenue})\n",
        "df.corr()"
      ],
      "id": "08c9a245-a8ff-4c1e-8a6d-b010b1e7bfdb"
    },
    {
      "cell_type": "code",
      "execution_count": null,
      "metadata": {},
      "outputs": [
        {
          "output_type": "stream",
          "name": "stdout",
          "text": [
            "LinearRegression()"
          ]
        },
        {
          "output_type": "stream",
          "name": "stdout",
          "text": [
            "0.9723050655037573"
          ]
        }
      ],
      "source": [
        "reg = LinearRegression()\n",
        "reg.fit(df[[\"ad_cost\"]], df.revenue)"
      ],
      "id": "280241ed-faf1-44f5-8270-a9bb20651a29"
    },
    {
      "cell_type": "code",
      "execution_count": null,
      "metadata": {},
      "outputs": [
        {
          "output_type": "stream",
          "name": "stdout",
          "text": [
            "0.9723050655037573"
          ]
        },
        {
          "output_type": "stream",
          "name": "stdout",
          "text": [
            "763.3488205276457"
          ]
        },
        {
          "output_type": "stream",
          "name": "stdout",
          "text": [
            "710.42654028436"
          ]
        }
      ],
      "source": [
        "y_pred = reg.predict(df.drop(['revenue'], axis=1))\n",
        "r2_score(df.revenue, y_pred)"
      ],
      "id": "45aaec19-1b8a-493b-a437-5d2e59b0522e"
    },
    {
      "cell_type": "code",
      "execution_count": null,
      "metadata": {},
      "outputs": [
        {
          "output_type": "stream",
          "name": "stdout",
          "text": [
            "<class 'statsmodels.iolib.summary.Summary'>\n",
            "\"\"\"\n",
            "                                 OLS Regression Results                                \n",
            "=======================================================================================\n",
            "Dep. Variable:                ad_cost   R-squared (uncentered):                   0.983\n",
            "Model:                            OLS   Adj. R-squared (uncentered):              0.978\n",
            "Method:                 Least Squares   F-statistic:                              228.1\n",
            "Date:                Sat, 12 Nov 2022   Prob (F-statistic):                    0.000112\n",
            "Time:                        09:16:18   Log-Likelihood:                         -26.464\n",
            "No. Observations:                   5   AIC:                                      54.93\n",
            "Df Residuals:                       4   BIC:                                      54.54\n",
            "Df Model:                           1                                                  \n",
            "Covariance Type:            nonrobust                                                  \n",
            "==============================================================================\n",
            "                 coef    std err          t      P>|t|      [0.025      0.975]\n",
            "------------------------------------------------------------------------------\n",
            "revenue        0.0224      0.001     15.102      0.000       0.018       0.026\n",
            "==============================================================================\n",
            "Omnibus:                          nan   Durbin-Watson:                   2.242\n",
            "Prob(Omnibus):                    nan   Jarque-Bera (JB):                0.257\n",
            "Skew:                          -0.420   Prob(JB):                        0.879\n",
            "Kurtosis:                       2.272   Cond. No.                         1.00\n",
            "==============================================================================\n",
            "\n",
            "Notes:\n",
            "[1] R² is computed without centering (uncentered) since the model does not contain a constant.\n",
            "[2] Standard Errors assume that the covariance matrix of the errors is correctly specified.\n",
            "\"\"\"\n",
            "\n",
            "C:\\Users\\gideo\\ANACON~1\\lib\\site-packages\\statsmodels\\stats\\stattools.py:74: ValueWarning: omni_normtest is not valid with less than 8 observations; 5 samples were given.\n",
            "  warn(\"omni_normtest is not valid with less than 8 observations; %i \""
          ]
        }
      ],
      "source": [
        "mod = sm.OLS(df[[\"ad_cost\"]], df.revenue)\n",
        "reg = mod.fit()\n",
        "reg.summary()"
      ],
      "id": "252b20e2-42f0-49a1-8329-e08f8e531b29"
    }
  ],
  "nbformat": 4,
  "nbformat_minor": 5,
  "metadata": {
    "kernelspec": {
      "display_name": "Python 3",
      "language": "python",
      "name": "python3"
    }
  }
}