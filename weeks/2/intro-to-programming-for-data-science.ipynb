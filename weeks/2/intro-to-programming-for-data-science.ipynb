{
  "cells": [
    {
      "cell_type": "markdown",
      "id": "f3db98a2-ae71-4c50-8a7d-91bf0aa5dd37",
      "metadata": {},
      "source": [
        "# Intro to Programming for Data Science\n",
        "\n",
        "geshun"
      ]
    },
    {
      "cell_type": "code",
      "execution_count": null,
      "id": "f37e7476-9dc3-4036-b2b1-3bd6c55a9807",
      "metadata": {},
      "outputs": [],
      "source": []
    },
    {
      "cell_type": "markdown",
      "id": "e80714a6-0f24-4b04-b593-06bed10da76b",
      "metadata": {},
      "source": [
        "## Analytic Problem\n",
        "\n",
        "> Between the years 2016 and 2020, $KN^3$ company recorded the following\n",
        "> revenue: `12000, 23000, 15000, 10000, 18000` respectively. How do you\n",
        "> help $KN^3$ understand if it’s 2021 revenue is in line with recent\n",
        "> revenues?\n",
        "\n",
        "## Python as calculator\n",
        "\n",
        "*Probably your first use of python programming language is as a\n",
        "calculator*."
      ]
    },
    {
      "cell_type": "code",
      "execution_count": null,
      "id": "04e70ed0-5ff4-4690-bba0-6d4ade3f86e9",
      "metadata": {},
      "outputs": [
        {
          "name": "stdout",
          "output_type": "stream",
          "text": [
            "15600.0"
          ]
        }
      ],
      "source": [
        "(12000 + 23000 + 15000 + 10000 + 18000) / 5"
      ]
    },
    {
      "cell_type": "markdown",
      "id": "23d77d03-9014-43aa-8dd4-f654ed61ffbe",
      "metadata": {},
      "source": [
        "## Mean as Linear Combination - Weighted"
      ]
    },
    {
      "cell_type": "code",
      "execution_count": null,
      "id": "fb9107c5-4123-42f0-9a88-b1638d6f20c0",
      "metadata": {},
      "outputs": [
        {
          "name": "stdout",
          "output_type": "stream",
          "text": [
            "15600.0"
          ]
        }
      ],
      "source": [
        "0.2*12000 + 0.2*23000 + 0.2*15000 + 0.2*10000 + 0.2*18000"
      ]
    },
    {
      "cell_type": "markdown",
      "id": "2fe67cf5-5819-47dd-9f35-4969f926582d",
      "metadata": {},
      "source": [
        "### Another Kind of Mean"
      ]
    },
    {
      "cell_type": "code",
      "execution_count": null,
      "id": "bebd906a-3af8-4e7e-9735-5b677e7455c8",
      "metadata": {},
      "outputs": [
        {
          "name": "stdout",
          "output_type": "stream",
          "text": [
            "14943.577121499638"
          ]
        }
      ],
      "source": [
        "(12000 * 23000 * 15000 * 10000 * 18000) ** (0.2)"
      ]
    },
    {
      "cell_type": "markdown",
      "id": "a87d5b7f-7a4e-474c-aff1-5b7788ee9383",
      "metadata": {},
      "source": [
        "This way of computing mean is the geometric mean. That also gives us a\n",
        "value (though different from that arithmetic mean) we can compare our\n",
        "2021 revenue with. See the mathematical representation below.\n",
        "\n",
        "### To Do\n",
        "\n",
        "1.  Calculate the harmonic mean of the revenues and compare it with the\n",
        "    arithmetic and geometric means. What can you say about the three\n",
        "    means (arithmetic, geometric and harmonic)?"
      ]
    },
    {
      "cell_type": "code",
      "execution_count": null,
      "id": "e1a4b4b0-bfc4-493e-89be-967045024500",
      "metadata": {},
      "outputs": [],
      "source": [
        "# Calculate the harmonic mean of the revenues.\n",
        "# 5 / ((1/12000) + (1/23000) + (1/15000) + (1/10000) + (1/18000))"
      ]
    },
    {
      "cell_type": "markdown",
      "id": "052c1a15-7d8b-46ec-89b5-af64546db076",
      "metadata": {},
      "source": [
        "What have we learned so far about python programming language? We have\n",
        "been exposed to basic python syntax and seen some arithmetic operators\n",
        "like addition (`+`), division (`/`), multiplication (`*`), and exponent\n",
        "(`**`). We encountered some data types. For instance, our revenues are\n",
        "integers (e.g., `12000`), however, the result of our mean calculation is\n",
        "a float (e.g., `15600.0`), typically recognized by the presence of\n",
        "decimal point in the number. You can verify this by typing in the\n",
        "interpreter or console, `type(12000)` and `type(15600.0)`. If we insist\n",
        "that our arithmetic mean should be an integer, know that python has a\n",
        "concept of integer division, thus instead of `/`, we do `//`. Try this:\n",
        "`(12000 + 23000 + 15000 + 10000 + 18000) // 5`.\n",
        "\n",
        "Remember, the idea of operators and data types form the basis of a\n",
        "programming language. If we understand the basis well enough, we can\n",
        "assemble our knowledge into constructing complicated code in python,\n",
        "employing the analytical method of inquiry we talked about.\n",
        "\n",
        "## Persistence - Refer to value in memory\n",
        "\n",
        "If we want to use the result of our geometric mean for instance, we have\n",
        "to compute it again. The initial computation is lost it in the sea of\n",
        "the computer’s memory. To let it persist and hence re-use it, we have to\n",
        "assign it to a variable."
      ]
    },
    {
      "cell_type": "code",
      "execution_count": null,
      "id": "92a7e284-f1f7-4582-995e-9ecc7a979f72",
      "metadata": {},
      "outputs": [
        {
          "name": "stdout",
          "output_type": "stream",
          "text": [
            "14943.577121499638"
          ]
        }
      ],
      "source": [
        "mean_rev = (12000 * 23000 * 15000 * 10000 * 18000) ** (0.2)\n",
        "mean_rev"
      ]
    },
    {
      "cell_type": "markdown",
      "id": "440130a3-998a-4ade-ba44-60b19bc0ad1a",
      "metadata": {},
      "source": [
        "Be mindful of the name of the variable, Python has rules on how to\n",
        "construct a valid variable name. You will get used to the rules very\n",
        "quickly but try and use a descriptive name that to some extent describes\n",
        "the value it contains. For instance, we can infer from `mean_rev` that\n",
        "it refers to the mean of revenues.\n",
        "\n",
        "The assignment operator `=` is used to assign what is on the right hand\n",
        "side (RHS) to the variable on the left hand side (LHS) of the operator.\n",
        "Python will first compute the expression on the RHS and then assign the\n",
        "result to the variable on the LHS of the operator.\n",
        "\n",
        "Remember the integer division `//` that returns an integer after\n",
        "dividing two numbers? A more general way to enforce a numeric value like\n",
        "`mean_rev` (which is a float) to be an integer is by casting it by\n",
        "wrapping it in `int` constructor function."
      ]
    },
    {
      "cell_type": "code",
      "execution_count": null,
      "id": "55bfa51d-9fd2-4754-af45-22405eb6cfe8",
      "metadata": {},
      "outputs": [
        {
          "name": "stdout",
          "output_type": "stream",
          "text": [
            "14943"
          ]
        }
      ],
      "source": [
        "int(mean_rev)"
      ]
    },
    {
      "cell_type": "markdown",
      "id": "b96fb7d9-adf1-4ce1-832d-da47a21bc679",
      "metadata": {},
      "source": [
        "## Comparison and Containment Operators"
      ]
    },
    {
      "cell_type": "code",
      "execution_count": null,
      "id": "f6fb5ef6-a562-44ca-94bc-c0de25a272ef",
      "metadata": {},
      "outputs": [
        {
          "name": "stdout",
          "output_type": "stream",
          "text": [
            "False"
          ]
        },
        {
          "name": "stdout",
          "output_type": "stream",
          "text": [
            "True"
          ]
        }
      ],
      "source": [
        "mean_rev == 16000\n",
        "mean_rev != 16000"
      ]
    },
    {
      "cell_type": "markdown",
      "id": "4be03d82-7a45-4b9b-962a-d99d58bf5e89",
      "metadata": {},
      "source": [
        "### To Do\n",
        "\n",
        "What operators will you use to check if a value is less than or equal to\n",
        "another? Give example."
      ]
    },
    {
      "cell_type": "code",
      "execution_count": null,
      "id": "bc8d52b2-bfc4-4d42-8f71-cf1cd67ba2e4",
      "metadata": {},
      "outputs": [],
      "source": []
    },
    {
      "cell_type": "markdown",
      "id": "b6f16288-a697-41ff-b090-ba8e4be92ffb",
      "metadata": {},
      "source": [
        "## If Statement"
      ]
    },
    {
      "cell_type": "code",
      "execution_count": null,
      "id": "116301bb-17a2-4c4a-b26d-9fc0d2f8478b",
      "metadata": {},
      "outputs": [
        {
          "name": "stdout",
          "output_type": "stream",
          "text": [
            "above typical revenue"
          ]
        }
      ],
      "source": [
        "if 16000 > mean_rev:\n",
        "  print('above typical revenue') "
      ]
    },
    {
      "cell_type": "markdown",
      "id": "657df2e1-f132-483b-adb8-98848ffbf1a6",
      "metadata": {},
      "source": [
        "To specify what happens when the condition is false, we can include the\n",
        "`else` statement."
      ]
    },
    {
      "cell_type": "code",
      "execution_count": null,
      "id": "40ef88b6-83a3-4913-8e8d-5b50fce238e5",
      "metadata": {},
      "outputs": [
        {
          "name": "stdout",
          "output_type": "stream",
          "text": [
            "above typical revenue"
          ]
        }
      ],
      "source": [
        "if 16000 < mean_rev:\n",
        "  print(\"below typical revenue\")\n",
        "else:\n",
        "  print('above typical revenue')"
      ]
    },
    {
      "cell_type": "markdown",
      "id": "7c8f46a7-8214-4f24-889f-bd3c25209ec1",
      "metadata": {},
      "source": [
        "Realize that the `else` part does not take a condition but a way to\n",
        "execute a code when the condition in the `if` statement is `False`.\n",
        "Congratulations, you just added another programming vocabulary or trick\n",
        "to your collections. The `if-else` statement helps in decision making\n",
        "based on a set of conditions being true or false.\n",
        "\n",
        "You just came into contact with the string data type in Python, the\n",
        "value inside the `print()` function. We can do so with either a single\n",
        "`'` or double `\"` quote.\n",
        "\n",
        "### Ternary Operator\n",
        "\n",
        "Python has a concise one-liner for writing if-else statement. I\n",
        "recommend using it when dealing with simple if-else constructs.\n",
        "\n",
        "    [result_when_true] if [condition] else [result_when_false]"
      ]
    },
    {
      "cell_type": "code",
      "execution_count": null,
      "id": "aa799702-c852-4379-a3d7-fc192b8b70d7",
      "metadata": {},
      "outputs": [
        {
          "name": "stdout",
          "output_type": "stream",
          "text": [
            "'below typical revenue'"
          ]
        }
      ],
      "source": [
        "'below typical revenue' if 16000 < mean_rev else 'below typical revenue'"
      ]
    },
    {
      "cell_type": "markdown",
      "id": "832bcdce-053d-4e26-bbe4-e394da554929",
      "metadata": {},
      "source": [
        "## Sequencing Structures and Collection"
      ]
    },
    {
      "cell_type": "code",
      "execution_count": null,
      "id": "a4ba8f57-ed46-4cd4-a310-2723a4b7432f",
      "metadata": {},
      "outputs": [
        {
          "name": "stdout",
          "output_type": "stream",
          "text": [
            "[12000, 23000, 15000, 10000, 18000]"
          ]
        }
      ],
      "source": [
        "revenues = [12000, 23000, 15000, 10000, 18000]\n",
        "revenues"
      ]
    },
    {
      "cell_type": "markdown",
      "id": "25b2a792-b6b7-43e2-a977-0fc54f14d2d1",
      "metadata": {},
      "source": [
        "Using a sequencing data structure like a list to store our revenues give\n",
        "us some super powers. We can employ Python functions that work on\n",
        "`iterable` objects. Two common ones used are the `sum` (which adds up\n",
        "the numbers in the list) and `len` (which finds the number of items in\n",
        "the list). With these two functions, we can compute the arithmetic mean\n",
        "as follows:"
      ]
    },
    {
      "cell_type": "code",
      "execution_count": null,
      "id": "a353cc5f-bf97-42b0-86f8-07703c57fb1a",
      "metadata": {},
      "outputs": [
        {
          "name": "stdout",
          "output_type": "stream",
          "text": [
            "15600.0"
          ]
        }
      ],
      "source": [
        "sum(revenues) / len(revenues)"
      ]
    },
    {
      "cell_type": "markdown",
      "id": "d04e2982-835c-443a-82af-20fe1341f3c9",
      "metadata": {},
      "source": [
        "Check if the company has in the past recorded a `16000` revenue. We do\n",
        "this with the `in` containment operator."
      ]
    },
    {
      "cell_type": "code",
      "execution_count": null,
      "id": "853da495-c16d-4bc3-ad71-d96eb43db863",
      "metadata": {},
      "outputs": [
        {
          "name": "stdout",
          "output_type": "stream",
          "text": [
            "False"
          ]
        },
        {
          "name": "stdout",
          "output_type": "stream",
          "text": [
            "True"
          ]
        }
      ],
      "source": [
        "16000 in revenues"
      ]
    },
    {
      "cell_type": "markdown",
      "id": "89d036fe-794d-440e-a1d7-74656d75770a",
      "metadata": {},
      "source": [
        "### To Do\n",
        "\n",
        "Find the maximum and minimum values in our list."
      ]
    },
    {
      "cell_type": "code",
      "execution_count": null,
      "id": "f2671a41-8cde-45eb-9092-a5e59b13b523",
      "metadata": {},
      "outputs": [],
      "source": [
        "# Find the maximum and minimum values in our list."
      ]
    },
    {
      "cell_type": "markdown",
      "id": "286d8681-a13d-45cc-94ce-3ce2fa60f254",
      "metadata": {},
      "source": [
        "### List Object Methods\n",
        "\n",
        "There are special functions designed to work on lists. Those are called\n",
        "methods. Just a fancy name for functions that belong to a certain class.\n",
        "Use `dir(list)` to see them. Since our `revenues` variable is an\n",
        "instance of a list, we could also do `dir(revenues)`. For now, pay\n",
        "attention to only those objects without two underscores preceding and\n",
        "ending. Let us create a copy of our list:"
      ]
    },
    {
      "cell_type": "code",
      "execution_count": null,
      "id": "ebfd048a-22d7-4686-ad1d-6439d7d44358",
      "metadata": {},
      "outputs": [
        {
          "name": "stdout",
          "output_type": "stream",
          "text": [
            "[12000, 23000, 15000, 10000, 18000]"
          ]
        }
      ],
      "source": [
        "revenues_copy = revenues.copy()\n",
        "revenues_copy"
      ]
    },
    {
      "cell_type": "markdown",
      "id": "f638428a-fa77-4cdb-bbb6-f74bffad789a",
      "metadata": {},
      "source": [
        "Since the `copy()` function is a method (that is belongs to things that\n",
        "are list), we call it differently using the dot accesser. We can add\n",
        "more items to our copied list using the `append()` method."
      ]
    },
    {
      "cell_type": "code",
      "execution_count": null,
      "id": "5d3cdd66-d767-4894-9b5e-60e0013f735e",
      "metadata": {},
      "outputs": [
        {
          "name": "stdout",
          "output_type": "stream",
          "text": [
            "[12000, 23000, 15000, 10000, 18000, 16000]"
          ]
        }
      ],
      "source": [
        "revenues_copy.append(16000)\n",
        "revenues_copy"
      ]
    },
    {
      "cell_type": "markdown",
      "id": "cc93d69f-9b4e-47bd-8069-25bd00a11e29",
      "metadata": {},
      "source": [
        "### Importing Modules\n",
        "\n",
        "It will be nice to have a function that computes mean of list of\n",
        "numbers. Such a function exists but we will have to import it. That is\n",
        "to say, making it available in our working environment. The `statistics`\n",
        "package that comes with vanilla Python has `mean()` function. However,\n",
        "there is a package called `numpy` which because of future work, I want\n",
        "us to begin using.\n",
        "\n",
        "Since, we are using Anaconda distribution, it comes with `numpy` package\n",
        "installed. So we just use the import keyword to get it into our current\n",
        "working environment. To access the `mean()` function from the `numpy`\n",
        "package, we write the name of the package and then the dot accessor\n",
        "followed by the object or function we want from the package."
      ]
    },
    {
      "cell_type": "code",
      "execution_count": null,
      "id": "82ad86f9-c21c-4cd4-b22e-ed992e8bed57",
      "metadata": {},
      "outputs": [
        {
          "name": "stdout",
          "output_type": "stream",
          "text": [
            "15600.0"
          ]
        }
      ],
      "source": [
        "import numpy\n",
        "numpy.mean(revenues)"
      ]
    },
    {
      "cell_type": "markdown",
      "id": "e6d7eb1b-ec73-45dd-bd1c-549cd12df022",
      "metadata": {},
      "source": [
        "Doing `import numpy` brings with it all the objects that come with it.\n",
        "If we are sure that the mean function is the only one we will need from\n",
        "the numpy library, we can import just that."
      ]
    },
    {
      "cell_type": "code",
      "execution_count": null,
      "id": "be9db4aa-9998-4680-828d-f74d7c28b4e1",
      "metadata": {},
      "outputs": [
        {
          "name": "stdout",
          "output_type": "stream",
          "text": [
            "15600.0"
          ]
        }
      ],
      "source": [
        "from numpy import mean\n",
        "mean(revenues)"
      ]
    },
    {
      "cell_type": "markdown",
      "id": "e2fdbc14-7e47-45bc-8be8-e3fe4ee46aea",
      "metadata": {},
      "source": [
        "### Indexing and Slicing\n",
        "\n",
        "The items in our list are ordered. That is to say, we can refer to them\n",
        "by their index (position) in the list. Python is zero-based index. Thus,\n",
        "the first element occupies the $0^{th}$ position in the list. Also,\n",
        "suppose there are 5 elements in a list, the last element will be in the\n",
        "$4^{th}$ position."
      ]
    },
    {
      "cell_type": "code",
      "execution_count": null,
      "id": "290b4979-0c6d-4247-b023-7a7a256484b1",
      "metadata": {},
      "outputs": [
        {
          "name": "stdout",
          "output_type": "stream",
          "text": [
            "12000"
          ]
        },
        {
          "name": "stdout",
          "output_type": "stream",
          "text": [
            "23000"
          ]
        },
        {
          "name": "stdout",
          "output_type": "stream",
          "text": [
            "18000"
          ]
        },
        {
          "name": "stdout",
          "output_type": "stream",
          "text": [
            "18000"
          ]
        },
        {
          "name": "stdout",
          "output_type": "stream",
          "text": [
            "18000"
          ]
        }
      ],
      "source": [
        "revenues[0] # get 1st element"
      ]
    },
    {
      "cell_type": "markdown",
      "id": "505ff06b-1204-49b6-942a-705c4b2214cf",
      "metadata": {},
      "source": [
        "The general slicing structure of a sequence object in python is\n",
        "`x[start:end:step]`. Remember, python does not include the `end` integer\n",
        "in slicing."
      ]
    },
    {
      "cell_type": "code",
      "execution_count": null,
      "id": "c39d56f8-36cd-461e-9462-00839ac3e0eb",
      "metadata": {},
      "outputs": [
        {
          "name": "stdout",
          "output_type": "stream",
          "text": [
            "[12000, 15000]"
          ]
        },
        {
          "name": "stdout",
          "output_type": "stream",
          "text": [
            "[12000, 15000, 18000]"
          ]
        },
        {
          "name": "stdout",
          "output_type": "stream",
          "text": [
            "[12000, 23000, 15000]"
          ]
        },
        {
          "name": "stdout",
          "output_type": "stream",
          "text": [
            "[15000, 10000, 18000]"
          ]
        }
      ],
      "source": [
        "revenues[0:-1:2] # start from the first, to the last (but exclude it) and move every other item"
      ]
    },
    {
      "cell_type": "markdown",
      "id": "982bf61d-2dae-49e9-979c-24ee77ac21fc",
      "metadata": {},
      "source": [
        "### Looping"
      ]
    },
    {
      "cell_type": "code",
      "execution_count": null,
      "id": "5cf6b3c7-6633-4943-9aa8-a3572a7eb8d4",
      "metadata": {},
      "outputs": [
        {
          "name": "stdout",
          "output_type": "stream",
          "text": [
            "[13000, 24000, 16000, 11000, 19000]"
          ]
        }
      ],
      "source": [
        "result = []\n",
        "for rev in revenues: # loop by item\n",
        "  result.append(rev + 1000)\n",
        "  \n",
        "result"
      ]
    },
    {
      "cell_type": "markdown",
      "id": "3f16f92d-2c77-45ec-b9ee-3e5045760e47",
      "metadata": {},
      "source": [
        "Note that `rev` variable used in the `for` loop can be any valid python\n",
        "variable. It is just a placeholder to traverse all the items in the\n",
        "revenues list. When we get an item that is in the list, we add `1000` to\n",
        "it and then append it to our empty list."
      ]
    },
    {
      "cell_type": "code",
      "execution_count": null,
      "id": "44d2cd1b-41a1-4bd6-ac30-35d7d0003151",
      "metadata": {},
      "outputs": [
        {
          "name": "stdout",
          "output_type": "stream",
          "text": [
            "[13000, 24000, 16000, 11000, 19000]"
          ]
        }
      ],
      "source": [
        "result = [] # list initialization\n",
        "i = 0 # counter initialization\n",
        "while i < len(revenues):\n",
        "  result.append(revenues[i] + 1000)\n",
        "  i = i + 1 # i += 1\n",
        "  \n",
        "result"
      ]
    },
    {
      "cell_type": "markdown",
      "id": "1fb7790c-e3d3-453b-9079-b8116f2da2ff",
      "metadata": {},
      "source": [
        "### To Do\n",
        "\n",
        "Re-write the `for` loop above using a counter like we did with the\n",
        "`while` loop"
      ]
    },
    {
      "cell_type": "code",
      "execution_count": null,
      "id": "4a59b3a0-060d-4a98-83f3-60cfdc61f771",
      "metadata": {},
      "outputs": [],
      "source": []
    },
    {
      "cell_type": "markdown",
      "id": "382e9340-aace-4b2c-a1fc-73c202168ccc",
      "metadata": {},
      "source": [
        "### List Comprehension"
      ]
    },
    {
      "cell_type": "code",
      "execution_count": null,
      "id": "293ee404-f7f8-4384-b9ab-beac0acd5c34",
      "metadata": {},
      "outputs": [
        {
          "name": "stdout",
          "output_type": "stream",
          "text": [
            "[24000, 46000, 30000, 20000, 36000]"
          ]
        }
      ],
      "source": [
        "doubled_revenues = []\n",
        "for revenue in revenues:\n",
        "  doubled_revenues.append(2 * revenue)\n",
        "doubled_revenues"
      ]
    },
    {
      "cell_type": "markdown",
      "id": "3df96b3c-19ca-4bbb-9008-e45467289c67",
      "metadata": {},
      "source": [
        "Python has list comprehension construct that helps us achieve the same\n",
        "effect but with less and concise code."
      ]
    },
    {
      "cell_type": "code",
      "execution_count": null,
      "id": "ac967eb0-a76c-4300-8334-81c41b9748f9",
      "metadata": {},
      "outputs": [
        {
          "name": "stdout",
          "output_type": "stream",
          "text": [
            "[24000, 46000, 30000, 20000, 36000]"
          ]
        }
      ],
      "source": [
        "[2 * revenue for revenue in revenues]"
      ]
    },
    {
      "cell_type": "markdown",
      "id": "aee49483-80ef-4335-b382-013a279f6a5a",
      "metadata": {},
      "source": [
        "### To avoid loops"
      ]
    },
    {
      "cell_type": "code",
      "execution_count": null,
      "id": "68df54a5-e799-473e-96be-391538ac370b",
      "metadata": {},
      "outputs": [
        {
          "name": "stdout",
          "output_type": "stream",
          "text": [
            "array([24000, 46000, 30000, 20000, 36000])"
          ]
        }
      ],
      "source": [
        "numpy.array([12000, 23000, 15000, 10000, 18000]) * 2"
      ]
    },
    {
      "cell_type": "markdown",
      "id": "beb20008-84fb-4bba-95ad-0fbcefa71e3a",
      "metadata": {},
      "source": [
        "### To Do\n",
        "\n",
        "1.  Show that the arithmetic mean of `doubled_revenues` is twice the\n",
        "    arithmetic mean of revenues."
      ]
    },
    {
      "cell_type": "code",
      "execution_count": null,
      "id": "f1b2022f-7ad5-4a71-877f-1a58d990f84f",
      "metadata": {},
      "outputs": [
        {
          "name": "stdout",
          "output_type": "stream",
          "text": [
            "True"
          ]
        }
      ],
      "source": [
        "mean(doubled_revenues) == 2 * mean(revenues)"
      ]
    },
    {
      "cell_type": "markdown",
      "id": "a4f96f85-714d-4826-9724-1fc5589fb4a0",
      "metadata": {},
      "source": [
        "1.  Find the arithmetic mean of revenues after adding `1000` to each of\n",
        "    them. Compare with the mean of the original revenues."
      ]
    },
    {
      "cell_type": "code",
      "execution_count": null,
      "id": "7b107481-679d-4c6a-bbdd-ee25a76720cc",
      "metadata": {},
      "outputs": [
        {
          "name": "stdout",
          "output_type": "stream",
          "text": [
            "True"
          ]
        }
      ],
      "source": [
        "result = [revenue + 1000 for revenue in revenues]\n",
        "mean(result) == 1000 + mean(revenues)"
      ]
    },
    {
      "cell_type": "markdown",
      "id": "0b48b101-4c69-49f6-b9ef-71562f582934",
      "metadata": {},
      "source": [
        "### Combining Control and Loop\n",
        "\n",
        "Get all the revenues less than the mean. Or find how many of the revenue\n",
        "are less than the average. Will you say the distribution is skewed?\n",
        "Proportion of revenues below and above the average."
      ]
    },
    {
      "cell_type": "code",
      "execution_count": null,
      "id": "98067e81-d647-4376-9145-b06015206c93",
      "metadata": {},
      "outputs": [
        {
          "name": "stdout",
          "output_type": "stream",
          "text": [
            "([True, False, False, True, False], 2, 0.4)"
          ]
        }
      ],
      "source": [
        "result = []\n",
        "for revenue in revenues:\n",
        "  if revenue < mean_rev:\n",
        "    result.append(True)\n",
        "  else:\n",
        "    result.append(False)\n",
        "    \n",
        "result, sum(result), numpy.mean(result)\n",
        "# find proportion greater using 1 - numpy.mean(result)"
      ]
    },
    {
      "cell_type": "markdown",
      "id": "e30dc8b0-9cc0-4f0c-a065-4efc2f3990d5",
      "metadata": {},
      "source": [
        "We learn about the coercion rule that Python internally treats True as 1\n",
        "and False as 0. Very useful for finding the number and proportion that\n",
        "meet a criteria."
      ]
    },
    {
      "cell_type": "code",
      "execution_count": null,
      "id": "d38c869b-75f0-4197-82f3-e5e6567016fa",
      "metadata": {},
      "outputs": [
        {
          "name": "stdout",
          "output_type": "stream",
          "text": [
            "([True, False, False, True, False], 2, 0.4)"
          ]
        }
      ],
      "source": [
        "result = [True if rev < mean_rev else False for rev in revenues]\n",
        "result, sum(result), numpy.mean(result)"
      ]
    },
    {
      "cell_type": "markdown",
      "id": "a7ae4a08-c70f-496e-886f-1f177060ea82",
      "metadata": {},
      "source": [
        "## All Together with Functions\n",
        "\n",
        "Let us put together all that we have learned to write our own function\n",
        "for computing mean. To define a function in Python we use the def\n",
        "keyword."
      ]
    },
    {
      "cell_type": "code",
      "execution_count": null,
      "id": "a8baa5d4-b116-48ff-ac37-a418a6f1350d",
      "metadata": {},
      "outputs": [
        {
          "name": "stdout",
          "output_type": "stream",
          "text": [
            "15600.0"
          ]
        }
      ],
      "source": [
        "def arithmetic_mean(x):\n",
        "  \"\"\"finds arithmetic mean of a list of numbers\"\"\"\n",
        "  result = sum(x) / len(x)\n",
        "  return result\n",
        "\n",
        "arithmetic_mean(revenues)"
      ]
    },
    {
      "cell_type": "code",
      "execution_count": null,
      "id": "75649ea0-1d09-4955-9917-2fd855e11ea6",
      "metadata": {},
      "outputs": [
        {
          "name": "stdout",
          "output_type": "stream",
          "text": [
            "745200000000000000000"
          ]
        }
      ],
      "source": [
        "def product(x):\n",
        "  \"\"\"finds product of values in a list\"\"\"\n",
        "  result = 1\n",
        "  for val in x:\n",
        "    result *= val\n",
        "  return result\n",
        "\n",
        "product(revenues)"
      ]
    },
    {
      "cell_type": "markdown",
      "id": "a254e643-a6ec-4f64-a960-debad21b0ffa",
      "metadata": {},
      "source": [
        "Now we can use the `product()` function in a new function that computes\n",
        "the geometric mean."
      ]
    },
    {
      "cell_type": "code",
      "execution_count": null,
      "id": "89bc027e-4317-4200-8280-05944073d293",
      "metadata": {},
      "outputs": [
        {
          "name": "stdout",
          "output_type": "stream",
          "text": [
            "14943.577121499638"
          ]
        }
      ],
      "source": [
        "def geometric_mean(x):\n",
        "  result = product(x) ** (1 / len(x))\n",
        "  return result\n",
        "\n",
        "geometric_mean(revenues)"
      ]
    },
    {
      "cell_type": "markdown",
      "id": "956af019-2ca4-4061-a4dd-baa27eb7dd49",
      "metadata": {},
      "source": [
        "Finally, we write a function for computing the harmonic mean. Can you\n",
        "justify why inverting the elements of a list is included in the\n",
        "`harmonic_mean()` function? In other words, we did not write a separate\n",
        "function for that."
      ]
    },
    {
      "cell_type": "code",
      "execution_count": null,
      "id": "14b88260-414e-44c9-bafd-953b55cb5289",
      "metadata": {},
      "outputs": [
        {
          "name": "stdout",
          "output_type": "stream",
          "text": [
            "14325.259515570935"
          ]
        }
      ],
      "source": [
        "def harmonic_mean(x):\n",
        "  x = [1 / val for val in x]\n",
        "  result = len(x) / sum(x)\n",
        "  return result\n",
        "\n",
        "harmonic_mean(revenues)"
      ]
    },
    {
      "cell_type": "markdown",
      "id": "40db2868-6c10-40ea-b05f-211987562dac",
      "metadata": {},
      "source": [
        "Compare the three means."
      ]
    },
    {
      "cell_type": "code",
      "execution_count": null,
      "id": "2a1ef570-4f66-4280-828f-8eb547f56ad9",
      "metadata": {},
      "outputs": [
        {
          "name": "stdout",
          "output_type": "stream",
          "text": [
            "True"
          ]
        }
      ],
      "source": [
        "harmonic_mean(revenues) <= geometric_mean(revenues) <= arithmetic_mean(revenues)"
      ]
    },
    {
      "cell_type": "markdown",
      "id": "96be0224-9495-4ac0-a005-61db76f2bbf6",
      "metadata": {},
      "source": [
        "Put all the functions in a python file. A Python file should have the\n",
        "extension `.py`.\n",
        "\n",
        "## Store the revenue year\n",
        "\n",
        "We can do this by creating another list."
      ]
    },
    {
      "cell_type": "code",
      "execution_count": null,
      "id": "f5a28435-1ede-4c7b-8781-b2f5ce1a8244",
      "metadata": {},
      "outputs": [
        {
          "name": "stdout",
          "output_type": "stream",
          "text": [
            "for the year 2016 revenue was 12000\n",
            "for the year 2017 revenue was 23000\n",
            "for the year 2018 revenue was 15000\n",
            "for the year 2019 revenue was 10000\n",
            "for the year 2020 revenue was 18000"
          ]
        }
      ],
      "source": [
        "years = range(2016, 2021)\n",
        "# list(years)\n",
        "# list(zip(years, revenues))\n",
        "for year, revenue in zip(years, revenues):\n",
        "  print(f\"for the year {year} revenue was {revenue}\")"
      ]
    },
    {
      "cell_type": "markdown",
      "id": "12e7c137-d04b-4b57-961a-803366c890ca",
      "metadata": {},
      "source": [
        "## Dictionary"
      ]
    },
    {
      "cell_type": "code",
      "execution_count": null,
      "id": "ff310534-dd8a-4b58-ac16-7749d75efdd6",
      "metadata": {},
      "outputs": [
        {
          "name": "stdout",
          "output_type": "stream",
          "text": [
            "{'year': range(2016, 2021), 'revenue': [12000, 23000, 15000, 10000, 18000]}"
          ]
        }
      ],
      "source": [
        "year_revenue = {\"year\": range(2016, 2021), \"revenue\": [12000, 23000, 15000, 10000, 18000]}\n",
        "year_revenue"
      ]
    },
    {
      "cell_type": "code",
      "execution_count": null,
      "id": "d3492e4b-979f-44db-8af0-13cb8e710214",
      "metadata": {},
      "outputs": [
        {
          "name": "stdout",
          "output_type": "stream",
          "text": [
            "   year  revenue\n",
            "0  2016    12000\n",
            "1  2017    23000\n",
            "2  2018    15000\n",
            "3  2019    10000\n",
            "4  2020    18000"
          ]
        }
      ],
      "source": [
        "from pandas import DataFrame\n",
        "DataFrame(year_revenue)"
      ]
    },
    {
      "cell_type": "markdown",
      "id": "8005c108-ce20-4aae-b87d-83b7f553430b",
      "metadata": {},
      "source": [
        "## Object Oriented Approach"
      ]
    },
    {
      "cell_type": "code",
      "execution_count": null,
      "id": "efaf643d-85af-4a8b-9ab6-ed9b1e29fb11",
      "metadata": {},
      "outputs": [
        {
          "name": "stdout",
          "output_type": "stream",
          "text": [
            "(15600.0, 14943.577121499638, 14325.259515570935)"
          ]
        }
      ],
      "source": [
        "from ameans import Means\n",
        "  \n",
        "x = Means(revenues)\n",
        "x.arithmetic_mean(), x.geometric_mean(), x.harmonic_mean()"
      ]
    },
    {
      "cell_type": "markdown",
      "id": "63b64467-a885-44d6-8b05-5dec237e77f2",
      "metadata": {},
      "source": [
        "### Functional Approach"
      ]
    },
    {
      "cell_type": "code",
      "execution_count": null,
      "id": "2251b4c5-03d0-4620-8f5b-1470236428aa",
      "metadata": {},
      "outputs": [
        {
          "name": "stdout",
          "output_type": "stream",
          "text": [
            "(14325.259515570935, 14943.577121499638, 15600.0)"
          ]
        }
      ],
      "source": [
        "from ameans import *\n",
        "harmonic_mean(revenues), geometric_mean(revenues), arithmetic_mean(revenues)"
      ]
    }
  ],
  "metadata": {
    "kernelspec": {
      "display_name": "Python 3.10.5 64-bit",
      "language": "python",
      "name": "python3"
    },
    "language_info": {
      "name": "python",
      "version": "3.10.5"
    },
    "vscode": {
      "interpreter": {
        "hash": "1e89775cc5210d2a7dbaca61e33ecb5d42bb4c951c9264d0aa71a9f6e02d0bb6"
      }
    }
  },
  "nbformat": 4,
  "nbformat_minor": 5
}
