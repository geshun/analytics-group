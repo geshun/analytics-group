{
  "cells": [
    {
      "cell_type": "markdown",
      "id": "c7861d94-5dc5-45f8-9f5d-643889f24bad",
      "metadata": {},
      "source": [
        "# Intro to Programming for Data Science\n",
        "\n",
        "geshun"
      ]
    },
    {
      "cell_type": "code",
      "execution_count": null,
      "id": "1225fb89-0319-4102-927f-77b0cd225ae0",
      "metadata": {},
      "outputs": [],
      "source": []
    },
    {
      "cell_type": "markdown",
      "id": "dc4d5359-8db0-4b74-87b0-80e2788f0d19",
      "metadata": {},
      "source": [
        "## Analytic Problem\n",
        "\n",
        "> Between the years 2016 and 2020, $KN^3$ company recorded the following\n",
        "> revenue: `12000, 23000, 15000, 10000, 18000` respectively. How do you\n",
        "> help $KN^3$ understand if it’s 2021 revenue is in line with recent\n",
        "> revenues?\n",
        "\n",
        "## Python as calculator\n",
        "\n",
        "*Probably your first use of python programming language is as a\n",
        "calculator*."
      ]
    },
    {
      "cell_type": "code",
      "execution_count": null,
      "id": "ac21f23d-ecc5-47ab-936d-96f2205586f1",
      "metadata": {},
      "outputs": [
        {
          "name": "stdout",
          "output_type": "stream",
          "text": [
            "15600.0"
          ]
        }
      ],
      "source": [
        "(12000 + 23000 + 15000 + 10000 + 18000) / 5"
      ]
    },
    {
      "cell_type": "markdown",
      "id": "4d17e894-c107-490d-a5eb-84bc4db0e270",
      "metadata": {},
      "source": [
        "## Mean as Linear Combination - Weighted"
      ]
    },
    {
      "cell_type": "code",
      "execution_count": null,
      "id": "48f2d1b4-3035-4e83-97d4-623adb977540",
      "metadata": {},
      "outputs": [
        {
          "name": "stdout",
          "output_type": "stream",
          "text": [
            "15600.0"
          ]
        }
      ],
      "source": [
        "0.2*12000 + 0.2*23000 + 0.2*15000 + 0.2*10000 + 0.2*18000"
      ]
    },
    {
      "cell_type": "markdown",
      "id": "e5c80d42-bc1b-4d7b-8851-c53bdd264815",
      "metadata": {},
      "source": [
        "### Another Kind of Mean"
      ]
    },
    {
      "cell_type": "code",
      "execution_count": null,
      "id": "0e36e3f5-8edd-4eae-b29a-a39257a7f63f",
      "metadata": {},
      "outputs": [
        {
          "name": "stdout",
          "output_type": "stream",
          "text": [
            "14943.577121499638"
          ]
        }
      ],
      "source": [
        "(12000 * 23000 * 15000 * 10000 * 18000) ** (0.2)"
      ]
    },
    {
      "cell_type": "markdown",
      "id": "9bd71dca-466d-403f-b6d2-c189261d831f",
      "metadata": {},
      "source": [
        "This way of computing mean is the geometric mean. That also gives us a\n",
        "value (though different from that arithmetic mean) we can compare our\n",
        "2021 revenue with. See the mathematical representation below.\n",
        "\n",
        "### To Do\n",
        "\n",
        "1.  Calculate the harmonic mean of the revenues and compare it with the\n",
        "    arithmetic and geometric means. What can you say about the three\n",
        "    means (arithmetic, geometric and harmonic)?"
      ]
    },
    {
      "cell_type": "code",
      "execution_count": null,
      "id": "164c0415-1973-445f-823b-24bf9dd89b1d",
      "metadata": {},
      "outputs": [],
      "source": [
        "# Calculate the harmonic mean of the revenues.\n",
        "# 5 / ((1/12000) + (1/23000) + (1/15000) + (1/10000) + (1/18000))"
      ]
    },
    {
      "cell_type": "markdown",
      "id": "55efe96f-1187-47d6-abd3-7f109cbbbac7",
      "metadata": {},
      "source": [
        "What have we learned so far about python programming language? We have\n",
        "been exposed to basic python syntax and seen some arithmetic operators\n",
        "like addition (`+`), division (`/`), multiplication (`*`), and exponent\n",
        "(`**`). We encountered some data types. For instance, our revenues are\n",
        "integers (e.g., `12000`), however, the result of our mean calculation is\n",
        "a float (e.g., `15600.0`), typically recognized by the presence of\n",
        "decimal point in the number. You can verify this by typing in the\n",
        "interpreter or console, `type(12000)` and `type(15600.0)`. If we insist\n",
        "that our arithmetic mean should be an integer, know that python has a\n",
        "concept of integer division, thus instead of `/`, we do `//`. Try this:\n",
        "`(12000 + 23000 + 15000 + 10000 + 18000) // 5`.\n",
        "\n",
        "Remember, the idea of operators and data types form the basis of a\n",
        "programming language. If we understand the basis well enough, we can\n",
        "assemble our knowledge into constructing complicated code in python,\n",
        "employing the analytical method of inquiry we talked about.\n",
        "\n",
        "## Persistence - Refer to value in memory\n",
        "\n",
        "If we want to use the result of our geometric mean for instance, we have\n",
        "to compute it again. The initial computation is lost it in the sea of\n",
        "the computer’s memory. To let it persist and hence re-use it, we have to\n",
        "assign it to a variable."
      ]
    },
    {
      "cell_type": "code",
      "execution_count": null,
      "id": "cb28748e-ce9a-4576-96d6-3ae15f15ba27",
      "metadata": {},
      "outputs": [
        {
          "name": "stdout",
          "output_type": "stream",
          "text": [
            "14943.577121499638"
          ]
        }
      ],
      "source": [
        "mean_rev = (12000 * 23000 * 15000 * 10000 * 18000) ** (0.2)\n",
        "mean_rev"
      ]
    },
    {
      "cell_type": "markdown",
      "id": "bb9a98c8-0590-48e1-8e8e-139cff404319",
      "metadata": {},
      "source": [
        "Be mindful of the name of the variable, Python has rules on how to\n",
        "construct a valid variable name. You will get used to the rules very\n",
        "quickly but try and use a descriptive name that to some extent describes\n",
        "the value it contains. For instance, we can infer from `mean_rev` that\n",
        "it refers to the mean of revenues.\n",
        "\n",
        "The assignment operator `=` is used to assign what is on the right hand\n",
        "side (RHS) to the variable on the left hand side (LHS) of the operator.\n",
        "Python will first compute the expression on the RHS and then assign the\n",
        "result to the variable on the LHS of the operator.\n",
        "\n",
        "Remember the integer division `//` that returns an integer after\n",
        "dividing two numbers? A more general way to enforce a numeric value like\n",
        "`mean_rev` (which is a float) to be an integer is by casting it by\n",
        "wrapping it in `int` constructor function."
      ]
    },
    {
      "cell_type": "code",
      "execution_count": null,
      "id": "e9a68684-39c9-4a1b-ab59-d5b5e0d0051b",
      "metadata": {},
      "outputs": [
        {
          "name": "stdout",
          "output_type": "stream",
          "text": [
            "14943"
          ]
        }
      ],
      "source": [
        "int(mean_rev)"
      ]
    }
  ],
  "metadata": {
    "kernelspec": {
      "display_name": "Python 3.8.10 ('geo')",
      "language": "python",
      "name": "python3"
    },
    "language_info": {
      "name": "python",
      "version": "3.8.10"
    },
    "vscode": {
      "interpreter": {
        "hash": "caf071cfcc2474ea3371ce45158929ae6b8e360bffced7374fcc08f548f5e708"
      }
    }
  },
  "nbformat": 4,
  "nbformat_minor": 5
}
