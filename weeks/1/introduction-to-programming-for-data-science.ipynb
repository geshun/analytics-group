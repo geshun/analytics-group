{
  "cells": [
    {
      "cell_type": "markdown",
      "id": "0412af43",
      "metadata": {},
      "source": [
        "## Introduction to Programming"
      ]
    },
    {
      "cell_type": "markdown",
      "id": "3df489cd",
      "metadata": {},
      "source": [
        "### Analytic Problem"
      ]
    },
    {
      "cell_type": "markdown",
      "id": "7390709e",
      "metadata": {},
      "source": [
        "> In the past 5 years, $KN^3$ company recorded the following revenue: `12000, 23000, 15000, 10000, 18000`. How do you help $KN^3$ understand if it's 2022 revenue will be in line with recent revenues?"
      ]
    },
    {
      "cell_type": "markdown",
      "id": "e7698d48",
      "metadata": {},
      "source": [
        "### Python as Calculator\n"
      ]
    },
    {
      "cell_type": "code",
      "execution_count": null,
      "id": "36e0d774",
      "metadata": {},
      "outputs": [],
      "source": []
    },
    {
      "cell_type": "markdown",
      "id": "455205c9",
      "metadata": {},
      "source": [
        "#### Mean as Linear Combination - Weighted"
      ]
    },
    {
      "cell_type": "code",
      "execution_count": null,
      "id": "cf724d77",
      "metadata": {},
      "outputs": [],
      "source": []
    },
    {
      "cell_type": "markdown",
      "id": "822380da",
      "metadata": {},
      "source": [
        "#### Another Type of Mean"
      ]
    },
    {
      "cell_type": "code",
      "execution_count": null,
      "id": "d92c70f2",
      "metadata": {},
      "outputs": [],
      "source": []
    },
    {
      "cell_type": "markdown",
      "id": "c8392435",
      "metadata": {},
      "source": [
        "### Persistance - Refer to value in memory"
      ]
    },
    {
      "cell_type": "code",
      "execution_count": null,
      "id": "f2fe707a",
      "metadata": {},
      "outputs": [],
      "source": []
    },
    {
      "cell_type": "markdown",
      "id": "0b473977",
      "metadata": {},
      "source": [
        "### Sequencing Structures"
      ]
    },
    {
      "cell_type": "code",
      "execution_count": null,
      "id": "bd2be17b",
      "metadata": {},
      "outputs": [],
      "source": []
    },
    {
      "cell_type": "markdown",
      "id": "5508a6fc",
      "metadata": {},
      "source": [
        "#### Indexing and Slicing"
      ]
    },
    {
      "cell_type": "code",
      "execution_count": null,
      "id": "c293d9c6",
      "metadata": {},
      "outputs": [],
      "source": []
    },
    {
      "cell_type": "markdown",
      "id": "18856d0c",
      "metadata": {},
      "source": [
        "#### Looping"
      ]
    },
    {
      "cell_type": "code",
      "execution_count": null,
      "id": "294dccdc",
      "metadata": {},
      "outputs": [],
      "source": []
    }
  ],
  "metadata": {
    "kernelspec": {
      "display_name": "Python 3.8.10 ('geo')",
      "language": "python",
      "name": "python3"
    },
    "language_info": {
      "name": "python",
      "version": "3.8.10"
    },
    "vscode": {
      "interpreter": {
        "hash": "caf071cfcc2474ea3371ce45158929ae6b8e360bffced7374fcc08f548f5e708"
      }
    }
  },
  "nbformat": 4,
  "nbformat_minor": 5
}
