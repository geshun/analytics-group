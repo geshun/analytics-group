{
  "cells": [
    {
      "cell_type": "markdown",
      "id": "0412af43",
      "metadata": {},
      "source": [
        "## Introduction to Programming"
      ]
    },
    {
      "cell_type": "markdown",
      "id": "3df489cd",
      "metadata": {},
      "source": [
        "### Analytic Problem"
      ]
    },
    {
      "cell_type": "markdown",
      "id": "7390709e",
      "metadata": {},
      "source": [
        "> In the past 5 year, $KN^3$ company recorded the following revenue: `12000, 23000, 15000, 10000, 18000`. How do you help $KN^3$ understand if it's 2022 revenue will be in line with recent revenues?"
      ]
    },
    {
      "cell_type": "raw",
      "id": "28f8fcec",
      "metadata": {},
      "source": [
        "---\n",
        "title: Introduction to Programming for Data Science\n",
        "author: geshun\n",
        "format: html\n",
        "editor: visual\n",
        "---"
      ]
    },
    {
      "cell_type": "markdown",
      "id": "e68f07f3",
      "metadata": {},
      "source": [
        "## Quarto\n",
        "\n",
        "Quarto enables you to weave together content and executable code into a finished document. To learn more about Quarto see <https://quarto.org>.\n",
        "\n",
        "## Running Code\n",
        "\n",
        "When you click the **Render** button a document will be generated that includes both content and the output of embedded code. You can embed code like this:\n"
      ]
    },
    {
      "cell_type": "code",
      "execution_count": null,
      "id": "9712e85b",
      "metadata": {},
      "outputs": [],
      "source": [
        "1 + 1"
      ]
    },
    {
      "cell_type": "markdown",
      "id": "e7698d48",
      "metadata": {},
      "source": [
        "You can add options to executable code like this\n"
      ]
    },
    {
      "cell_type": "code",
      "execution_count": null,
      "id": "d31ae6e2",
      "metadata": {},
      "outputs": [],
      "source": [
        "#| echo: false\n",
        "2 * 2"
      ]
    },
    {
      "cell_type": "markdown",
      "id": "a45864e3",
      "metadata": {},
      "source": [
        "The `echo: false` option disables the printing of code (only output is displayed)."
      ]
    }
  ],
  "metadata": {
    "kernelspec": {
      "display_name": "Python 3.8.10 ('geo')",
      "language": "python",
      "name": "python3"
    },
    "language_info": {
      "name": "python",
      "version": "3.8.10"
    },
    "vscode": {
      "interpreter": {
        "hash": "caf071cfcc2474ea3371ce45158929ae6b8e360bffced7374fcc08f548f5e708"
      }
    }
  },
  "nbformat": 4,
  "nbformat_minor": 5
}
