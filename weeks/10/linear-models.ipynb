{
  "cells": [
    {
      "cell_type": "markdown",
      "metadata": {},
      "source": [
        "# linear-models\n",
        "\n",
        "geshun"
      ],
      "id": "de236c1f-5312-4c84-bcc8-c00407dfcf17"
    },
    {
      "cell_type": "code",
      "execution_count": null,
      "metadata": {},
      "outputs": [],
      "source": [
        "reticulate::use_condaenv(\"base\")"
      ],
      "id": "1adb7df5-c437-4c94-ac41-d292231e716b"
    },
    {
      "cell_type": "code",
      "execution_count": null,
      "metadata": {},
      "outputs": [],
      "source": [
        "import pandas as pd\n",
        "import statsmodels.api as sm\n",
        "from math import sqrt\n",
        "from sklearn.linear_model import LinearRegression\n",
        "from sklearn.metrics import mean_squared_error, r2_score, mean_absolute_error\n",
        "import matplotlib.pyplot as plt\n",
        "import numpy as np\n",
        "from scipy.stats import pearsonr\n",
        "plt.style.use('seaborn-whitegrid')"
      ],
      "id": "9c59d418-ad65-42ac-830c-e1f9551536c8"
    },
    {
      "cell_type": "markdown",
      "metadata": {},
      "source": [
        "## Linear Models\n",
        "\n",
        "A model is a representation of the real world.\n",
        "\n",
        "> A company ($KN^3$) engages Facebook ad as a marketing strategy. The\n",
        "> company wants to find a way to increase its revenue and control the\n",
        "> cost of advertisement.\n",
        "\n",
        "If we can find an association between ad cost and revenue\n",
        "(i.e. $revenue = f(ad\\:cost) + \\epsilon$) the company might be able to\n",
        "achieve its goals. The whole idea is determining what this $f$ is.\n",
        "Realize that our $f$ is just approximating (since it’s a model and not\n",
        "the real thing) so we add the error term $\\epsilon$. The form this\n",
        "function $f$ takes defines if we have a linear model.\n",
        "\n",
        "A linear model can be generally expressed as\n",
        "\n",
        "$$\n",
        "\\hat{y}_i = \\sum_{j=1}^{n}w_jx_{ij} = w_1x_{i1} + \\dots + w_nx_{in}\n",
        "$$\n",
        "\n",
        "where $n$ is the number of features (e.g., cost of advertisement) and\n",
        "$i$ is the number of observations (training examples).\n",
        "\n",
        "1.  $w_j$ weights or parameters to be estimated using data\n",
        "2.  $\\hat{y}_i$ is a linear combination of weighted features\n",
        "3.  the form $\\hat{y}_i$ takes depends on if we have regression or\n",
        "    classification problem\n",
        "\n",
        "In the above setup, we are saying revenue is achieved by scaling cost of\n",
        "advertisement by a factor. However, we can also conceive a scenario\n",
        "where we want to talk about revenue even if no advertisement is made. In\n",
        "that case, we need to include the bias term $w_o$.\n",
        "\n",
        "$$\n",
        "\\sum_{j=1}^{n}w_jx_{ij} + w_o = \\sum_{j=0}^{n}w_jx_{ij}\n",
        "$$\n",
        "\n",
        "where $x_{i0} = 1$\n",
        "\n",
        "Consider a simple case of no intercept/bias:\n",
        "\n",
        "$$\n",
        "\\begin{bmatrix}\n",
        "12000 \\\\ 23000 \\\\ 15000 \\\\ 10000 \\\\ 18000\n",
        "\\end{bmatrix} = \n",
        "w\\begin{bmatrix}\n",
        "300 \\\\ 450 \\\\ 360 \\\\ 300 \\\\ 400\n",
        "\\end{bmatrix}\n",
        "$$\n",
        "\n",
        "where $w$ is the parameter to be estimated.\n",
        "\n",
        "We are saying the revenue ($y$) generated is directly propositional to\n",
        "the cost of ad ($x$). That is $y\\:\\alpha\\: x$. And thus, $y = wx$ . If\n",
        "$y = 12000$ and $x = 300$ we can find the constant of proportionality.\n",
        "\n",
        "$$\n",
        "12000 = 300w \\rightarrow w = 12000 / 300 = 40\n",
        "$$\n",
        "\n",
        "Thus, revenue is 40 folds of cost of ad. For every $1$ Ghana cedis spent\n",
        "on advertisement, $40$ cedis revenue is generated."
      ],
      "id": "e7d5eba1-f687-48a4-9fa8-52251e107587"
    },
    {
      "cell_type": "code",
      "execution_count": null,
      "metadata": {},
      "outputs": [
        {
          "output_type": "stream",
          "name": "stdout",
          "text": [
            "array([12000, 23000, 15000, 10000, 18000])"
          ]
        },
        {
          "output_type": "stream",
          "name": "stdout",
          "text": [
            "array([12000., 18000., 14400., 12000., 16000.])"
          ]
        },
        {
          "output_type": "stream",
          "name": "stdout",
          "text": [
            "array([    0.,  5000.,   600., -2000.,  2000.])"
          ]
        }
      ],
      "source": [
        "revenue = np.array([12000, 23000, 15000, 10000, 18000])\n",
        "ad_cost = np.array([300, 450, 360, 300, 400])\n",
        "\n",
        "def compute_weight(revenue, ad_cost):\n",
        "  return revenue / ad_cost\n",
        "\n",
        "weight = compute_weight(12000, 300)\n",
        "\n",
        "def predict_revenue(ad_cost, weight):\n",
        "  return ad_cost * weight\n",
        "\n",
        "# how we know how our model is doing\n",
        "def find_errors(revenue, prediction):\n",
        "  return revenue - prediction\n",
        "\n",
        "revenue"
      ],
      "id": "6da7bb04-383c-482f-86a6-754d266eba87"
    },
    {
      "cell_type": "markdown",
      "metadata": {},
      "source": [
        "1.  Depending on our choice of revenue and corresponding cost of ad, we\n",
        "    come up with a weight. There are couple of issues. First, we did not\n",
        "    use all our revenues and ad cost and hence what we come up with is\n",
        "    not a reflective of all the revenues we are considering\n",
        "2.  The error is not a single value that we can easily interpret. It is\n",
        "    a vector. Essentially, our error vector asks the question: how is\n",
        "    our prediction similar or close to the actual revenue.\n",
        "\n",
        "Predicting with averages (to make use of all the data points)"
      ],
      "id": "a24741b0-26e5-4659-bebb-3cd710a867d0"
    },
    {
      "cell_type": "code",
      "execution_count": null,
      "metadata": {},
      "outputs": [
        {
          "output_type": "stream",
          "name": "stdout",
          "text": [
            "array([12000, 23000, 15000, 10000, 18000])"
          ]
        },
        {
          "output_type": "stream",
          "name": "stdout",
          "text": [
            "array([12928.17679558, 19392.26519337, 15513.8121547 , 12928.17679558,\n",
            "       17237.56906077])"
          ]
        },
        {
          "output_type": "stream",
          "name": "stdout",
          "text": [
            "array([ -928.17679558,  3607.73480663,  -513.8121547 , -2928.17679558,\n",
            "         762.43093923])"
          ]
        }
      ],
      "source": [
        "avg_revenue = np.mean(revenue)\n",
        "avg_ad_cost = np.mean(ad_cost)\n",
        "\n",
        "weight = compute_weight(avg_revenue, avg_ad_cost)\n",
        "\n",
        "revenue"
      ],
      "id": "d70f2260-b436-4949-b317-4fe2a4687342"
    },
    {
      "cell_type": "code",
      "execution_count": null,
      "metadata": {},
      "outputs": [
        {
          "output_type": "display_data",
          "metadata": {},
          "data": {
            "image/png": "[encoded data removed]"
          }
        }
      ],
      "source": [
        "def plot_model(pred):\n",
        "  plt.clf()\n",
        "  plt.scatter(ad_cost, revenue, label=\"actual\")\n",
        "  plt.scatter(ad_cost, pred, label=\"predicted\")\n",
        "  plt.plot(ad_cost, pred, color=\"orange\")\n",
        "  plt.xlabel('ad cost')\n",
        "  plt.ylabel('revenue')\n",
        "  plt.legend()\n",
        "  plt.show()\n",
        "\n",
        "plot_model(pred)"
      ],
      "id": "7e38cc5c-ecfe-4c5a-b5bc-95147af249c7"
    },
    {
      "cell_type": "markdown",
      "metadata": {},
      "source": [
        "Euclidean Distance\n",
        "\n",
        "$$\n",
        "\\sum_{i=1}^n e_i^2 = \\sum_{i = 1}^{n}(y - \\hat{y})^2\n",
        "$$"
      ],
      "id": "fd399a83-3bdd-4e4c-b991-3757c313025b"
    },
    {
      "cell_type": "code",
      "execution_count": null,
      "metadata": {},
      "outputs": [
        {
          "output_type": "stream",
          "name": "stdout",
          "text": [
            "4826.674405053534"
          ]
        }
      ],
      "source": [
        "def euclidean_error(actual, pred):\n",
        "  return sum((actual - pred) ** 2)\n",
        "\n",
        "euclidean_error(revenue, pred) ** (1/2)"
      ],
      "id": "2ba1f544-b92e-425e-9647-3a8e6707fcaa"
    },
    {
      "cell_type": "markdown",
      "metadata": {},
      "source": [
        "Generalization of norm (how a mathematician talk about distance -\n",
        "$\\mathcal{L}^p$ norm\n",
        "\n",
        "$$\n",
        "||\\vec{e}||_p = \\left(\\sum_{i = 1}^{n}|e_i|^p\\right)^{\\frac{1}{p}}\n",
        "$$\n",
        "\n",
        "Analytic (Normal or Close Form) Solution. This minimizes the Euclidean\n",
        "distance between the actual and predicted."
      ],
      "id": "7994bbfa-c603-43a1-ad76-d8feaad3b2e6"
    },
    {
      "cell_type": "code",
      "execution_count": null,
      "metadata": {},
      "outputs": [
        {
          "output_type": "stream",
          "name": "stdout",
          "text": [
            "array([43.96667163])"
          ]
        }
      ],
      "source": [
        "X, y = ad_cost, revenue\n",
        "X = X.reshape(-1, 1)\n",
        "w = np.linalg.inv(X.T.dot(X)).dot(X.T).dot(y)\n",
        "w"
      ],
      "id": "5c1bf376-3656-4785-a2ed-9e5b9c67fd81"
    },
    {
      "cell_type": "markdown",
      "metadata": {},
      "source": [
        "$$\n",
        "y = Xb \\\\ X^Ty = X^TXb \\\\ \\therefore b = (X^TX)^{-1}X^Ty\n",
        "$$"
      ],
      "id": "271b12cd-a6d1-4176-a0f4-eafec5ed2ab3"
    },
    {
      "cell_type": "code",
      "execution_count": null,
      "metadata": {},
      "outputs": [
        {
          "output_type": "stream",
          "name": "stdout",
          "text": [
            "          ad_cost   revenue\n",
            "ad_cost  1.000000  0.986055\n",
            "revenue  0.986055  1.000000"
          ]
        }
      ],
      "source": [
        "df = pd.DataFrame({\"ad_cost\": ad_cost, \"revenue\": revenue})\n",
        "df.corr()"
      ],
      "id": "d65248d6-5734-4937-a89e-46378fcbd934"
    },
    {
      "cell_type": "code",
      "execution_count": null,
      "metadata": {},
      "outputs": [
        {
          "output_type": "stream",
          "name": "stdout",
          "text": [
            "LinearRegression()"
          ]
        },
        {
          "output_type": "stream",
          "name": "stdout",
          "text": [
            "0.9723050655037573"
          ]
        }
      ],
      "source": [
        "reg = LinearRegression()\n",
        "reg.fit(df[[\"ad_cost\"]], df.revenue)"
      ],
      "id": "d02d6315-54c4-403a-906c-69b77ac93bf8"
    },
    {
      "cell_type": "code",
      "execution_count": null,
      "metadata": {},
      "outputs": [
        {
          "output_type": "stream",
          "name": "stdout",
          "text": [
            "0.9723050655037573"
          ]
        },
        {
          "output_type": "stream",
          "name": "stdout",
          "text": [
            "763.3488205276457"
          ]
        },
        {
          "output_type": "stream",
          "name": "stdout",
          "text": [
            "710.42654028436"
          ]
        }
      ],
      "source": [
        "y_pred = reg.predict(df.drop(['revenue'], axis=1))\n",
        "r2_score(df.revenue, y_pred)"
      ],
      "id": "e3b1c354-599c-45fe-8aed-48716f16bd24"
    },
    {
      "cell_type": "code",
      "execution_count": null,
      "metadata": {},
      "outputs": [
        {
          "output_type": "stream",
          "name": "stdout",
          "text": [
            "<class 'statsmodels.iolib.summary.Summary'>\n",
            "\"\"\"\n",
            "                                 OLS Regression Results                                \n",
            "=======================================================================================\n",
            "Dep. Variable:                revenue   R-squared (uncentered):                   0.983\n",
            "Model:                            OLS   Adj. R-squared (uncentered):              0.978\n",
            "Method:                 Least Squares   F-statistic:                              228.1\n",
            "Date:                Sat, 19 Nov 2022   Prob (F-statistic):                    0.000112\n",
            "Time:                        08:55:54   Log-Likelihood:                         -45.425\n",
            "No. Observations:                   5   AIC:                                      92.85\n",
            "Df Residuals:                       4   BIC:                                      92.46\n",
            "Df Model:                           1                                                  \n",
            "Covariance Type:            nonrobust                                                  \n",
            "==============================================================================\n",
            "                 coef    std err          t      P>|t|      [0.025      0.975]\n",
            "------------------------------------------------------------------------------\n",
            "ad_cost       43.9667      2.911     15.102      0.000      35.884      52.050\n",
            "==============================================================================\n",
            "Omnibus:                          nan   Durbin-Watson:                   2.384\n",
            "Prob(Omnibus):                    nan   Jarque-Bera (JB):                0.262\n",
            "Skew:                           0.422   Prob(JB):                        0.877\n",
            "Kurtosis:                       2.261   Cond. No.                         1.00\n",
            "==============================================================================\n",
            "\n",
            "Notes:\n",
            "[1] R² is computed without centering (uncentered) since the model does not contain a constant.\n",
            "[2] Standard Errors assume that the covariance matrix of the errors is correctly specified.\n",
            "\"\"\"\n",
            "\n",
            "C:\\Users\\gideo\\ANACON~1\\lib\\site-packages\\statsmodels\\stats\\stattools.py:74: ValueWarning: omni_normtest is not valid with less than 8 observations; 5 samples were given.\n",
            "  warn(\"omni_normtest is not valid with less than 8 observations; %i \""
          ]
        }
      ],
      "source": [
        "mod = sm.OLS(df[[\"revenue\"]], df[[\"ad_cost\"]])\n",
        "reg = mod.fit()\n",
        "reg.summary()"
      ],
      "id": "fb3dc506-579f-4924-b508-f816f970451e"
    },
    {
      "cell_type": "code",
      "execution_count": null,
      "metadata": {},
      "outputs": [
        {
          "output_type": "display_data",
          "metadata": {},
          "data": {
            "image/png": "[encoded data removed]"
          }
        }
      ],
      "source": [
        "df.plot.scatter(x=\"ad_cost\", y=\"revenue\")\n",
        "plt.show()"
      ],
      "id": "9baf03a9-927b-4b95-b833-81b50d6871f9"
    },
    {
      "cell_type": "markdown",
      "metadata": {},
      "source": [
        "### Question\n",
        "\n",
        "From what has been discussed so far, what will be your recommendation?\n",
        "\n",
        "> The question can be framed as linear optimization problem. We maximize\n",
        "> the revenue and subject the cost of advertisement to some constraint."
      ],
      "id": "020f78b4-b1af-411c-be1d-67b0aabeb62c"
    },
    {
      "cell_type": "code",
      "execution_count": null,
      "metadata": {},
      "outputs": [
        {
          "output_type": "display_data",
          "metadata": {},
          "data": {
            "image/png": "[encoded data removed]"
          }
        }
      ],
      "source": [
        "plt.clf()\n",
        "plt.scatter(df.ad_cost, df.revenue)\n",
        "plt.plot(df.ad_cost.sort_values(), df.revenue.sort_values())\n",
        "plt.show()"
      ],
      "id": "5bab9b91-ec7c-4ae4-a655-2494d7ca0877"
    }
  ],
  "nbformat": 4,
  "nbformat_minor": 5,
  "metadata": {
    "kernelspec": {
      "display_name": "Python 3",
      "language": "python",
      "name": "python3"
    }
  }
}