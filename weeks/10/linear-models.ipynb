{
  "cells": [
    {
      "cell_type": "markdown",
      "id": "d26246c2-50f3-42ea-9c06-5154064cf1f7",
      "metadata": {},
      "source": [
        "# linear-models\n",
        "\n",
        "geshun"
      ]
    },
    {
      "cell_type": "code",
      "execution_count": null,
      "id": "d669fedc-fd93-4ea9-8c17-6f882eae9266",
      "metadata": {},
      "outputs": [],
      "source": [
        "reticulate::use_condaenv(\"base\")"
      ]
    },
    {
      "cell_type": "markdown",
      "id": "ae73ab79-605e-4c3d-a205-91d9deb44445",
      "metadata": {},
      "source": [
        "## Linear Models\n",
        "\n",
        "A model is a representation of the real world. A company ($KN^3$)\n",
        "engages Facebook ad as a marketing strategy. The company wants to find a\n",
        "way to increase its revenue and control the cost of advertisement. If we\n",
        "can find an association between ad and revenue\n",
        "(i.e. $revenue = f(ad) + \\epsilon$) the company might be able to achieve\n",
        "its goals. The whole idea is determining what this $f$ is. Realize that\n",
        "our $f$ is just approximating (since it’s a model and not the real\n",
        "thing) so we add the error term \\$\\epsilon\\$. The form this function $f$\n",
        "takes defines if we have a linear model."
      ]
    },
    {
      "cell_type": "code",
      "execution_count": 4,
      "id": "155ee95c",
      "metadata": {},
      "outputs": [],
      "source": [
        "revenue = [12000, 23000, 15000, 10000, 18000]\n",
        "ad_cost = [300, 450, 360, 300, 400]"
      ]
    },
    {
      "cell_type": "code",
      "execution_count": null,
      "id": "403340d8",
      "metadata": {},
      "outputs": [],
      "source": []
    },
    {
      "cell_type": "code",
      "execution_count": 2,
      "id": "3d43a9c0",
      "metadata": {},
      "outputs": [
        {
          "data": {
            "text/plain": [
              "15600.0"
            ]
          },
          "execution_count": 2,
          "metadata": {},
          "output_type": "execute_result"
        }
      ],
      "source": [
        "sum(revenue) / len(revenue)"
      ]
    },
    {
      "cell_type": "code",
      "execution_count": 3,
      "id": "7c797c66",
      "metadata": {},
      "outputs": [
        {
          "data": {
            "text/plain": [
              "15600.0"
            ]
          },
          "execution_count": 3,
          "metadata": {},
          "output_type": "execute_result"
        }
      ],
      "source": [
        "(12000 + 23000 + 15000 + 10000 + 18000) / 5"
      ]
    },
    {
      "cell_type": "code",
      "execution_count": 1,
      "id": "8cb8b18f-1abd-44b2-98d9-23786fed3cf0",
      "metadata": {},
      "outputs": [],
      "source": [
        "import pandas as pd\n",
        "import statsmodels.api as sm\n",
        "from math import sqrt\n",
        "from sklearn.linear_model import LinearRegression\n",
        "from sklearn.metrics import mean_squared_error, r2_score, mean_absolute_error"
      ]
    },
    {
      "cell_type": "code",
      "execution_count": 3,
      "id": "08c9a245-a8ff-4c1e-8a6d-b010b1e7bfdb",
      "metadata": {},
      "outputs": [
        {
          "data": {
            "text/html": [
              "<div>\n",
              "<style scoped>\n",
              "    .dataframe tbody tr th:only-of-type {\n",
              "        vertical-align: middle;\n",
              "    }\n",
              "\n",
              "    .dataframe tbody tr th {\n",
              "        vertical-align: top;\n",
              "    }\n",
              "\n",
              "    .dataframe thead th {\n",
              "        text-align: right;\n",
              "    }\n",
              "</style>\n",
              "<table border=\"1\" class=\"dataframe\">\n",
              "  <thead>\n",
              "    <tr style=\"text-align: right;\">\n",
              "      <th></th>\n",
              "      <th>ad_cost</th>\n",
              "      <th>revenue</th>\n",
              "    </tr>\n",
              "  </thead>\n",
              "  <tbody>\n",
              "    <tr>\n",
              "      <th>ad_cost</th>\n",
              "      <td>1.000000</td>\n",
              "      <td>0.986055</td>\n",
              "    </tr>\n",
              "    <tr>\n",
              "      <th>revenue</th>\n",
              "      <td>0.986055</td>\n",
              "      <td>1.000000</td>\n",
              "    </tr>\n",
              "  </tbody>\n",
              "</table>\n",
              "</div>"
            ],
            "text/plain": [
              "          ad_cost   revenue\n",
              "ad_cost  1.000000  0.986055\n",
              "revenue  0.986055  1.000000"
            ]
          },
          "execution_count": 3,
          "metadata": {},
          "output_type": "execute_result"
        }
      ],
      "source": [
        "revenue = [12000, 23000, 15000, 10000, 18000]\n",
        "ad_cost = [300, 450, 360, 300, 400]\n",
        "df = pd.DataFrame({\"ad_cost\": ad_cost, \"revenue\": revenue})\n",
        "df.corr()"
      ]
    },
    {
      "cell_type": "code",
      "execution_count": null,
      "id": "280241ed-faf1-44f5-8270-a9bb20651a29",
      "metadata": {},
      "outputs": [
        {
          "name": "stdout",
          "output_type": "stream",
          "text": [
            "LinearRegression()"
          ]
        },
        {
          "name": "stdout",
          "output_type": "stream",
          "text": [
            "0.9723050655037573"
          ]
        }
      ],
      "source": [
        "reg = LinearRegression()\n",
        "reg.fit(df[[\"ad_cost\"]], df.revenue)"
      ]
    },
    {
      "cell_type": "code",
      "execution_count": null,
      "id": "45aaec19-1b8a-493b-a437-5d2e59b0522e",
      "metadata": {},
      "outputs": [
        {
          "name": "stdout",
          "output_type": "stream",
          "text": [
            "0.9723050655037573"
          ]
        },
        {
          "name": "stdout",
          "output_type": "stream",
          "text": [
            "763.3488205276457"
          ]
        },
        {
          "name": "stdout",
          "output_type": "stream",
          "text": [
            "710.42654028436"
          ]
        }
      ],
      "source": [
        "y_pred = reg.predict(df.drop(['revenue'], axis=1))\n",
        "r2_score(df.revenue, y_pred)"
      ]
    },
    {
      "cell_type": "code",
      "execution_count": 4,
      "id": "252b20e2-42f0-49a1-8329-e08f8e531b29",
      "metadata": {},
      "outputs": [],
      "source": [
        "mod = sm.OLS(df[[\"revenue\"]], df[[\"ad_cost\"]]).fit()"
      ]
    },
    {
      "cell_type": "code",
      "execution_count": 5,
      "id": "b181d9cf",
      "metadata": {},
      "outputs": [
        {
          "name": "stderr",
          "output_type": "stream",
          "text": [
            "c:\\Users\\gideo\\Anaconda3\\lib\\site-packages\\statsmodels\\stats\\stattools.py:74: ValueWarning: omni_normtest is not valid with less than 8 observations; 5 samples were given.\n",
            "  warn(\"omni_normtest is not valid with less than 8 observations; %i \"\n"
          ]
        },
        {
          "data": {
            "text/html": [
              "<table class=\"simpletable\">\n",
              "<caption>OLS Regression Results</caption>\n",
              "<tr>\n",
              "  <th>Dep. Variable:</th>         <td>revenue</td>     <th>  R-squared (uncentered):</th>      <td>   0.983</td>\n",
              "</tr>\n",
              "<tr>\n",
              "  <th>Model:</th>                   <td>OLS</td>       <th>  Adj. R-squared (uncentered):</th> <td>   0.978</td>\n",
              "</tr>\n",
              "<tr>\n",
              "  <th>Method:</th>             <td>Least Squares</td>  <th>  F-statistic:       </th>          <td>   228.1</td>\n",
              "</tr>\n",
              "<tr>\n",
              "  <th>Date:</th>             <td>Sat, 12 Nov 2022</td> <th>  Prob (F-statistic):</th>          <td>0.000112</td>\n",
              "</tr>\n",
              "<tr>\n",
              "  <th>Time:</th>                 <td>10:57:28</td>     <th>  Log-Likelihood:    </th>          <td> -45.425</td>\n",
              "</tr>\n",
              "<tr>\n",
              "  <th>No. Observations:</th>      <td>     5</td>      <th>  AIC:               </th>          <td>   92.85</td>\n",
              "</tr>\n",
              "<tr>\n",
              "  <th>Df Residuals:</th>          <td>     4</td>      <th>  BIC:               </th>          <td>   92.46</td>\n",
              "</tr>\n",
              "<tr>\n",
              "  <th>Df Model:</th>              <td>     1</td>      <th>                     </th>              <td> </td>   \n",
              "</tr>\n",
              "<tr>\n",
              "  <th>Covariance Type:</th>      <td>nonrobust</td>    <th>                     </th>              <td> </td>   \n",
              "</tr>\n",
              "</table>\n",
              "<table class=\"simpletable\">\n",
              "<tr>\n",
              "     <td></td>        <th>coef</th>     <th>std err</th>      <th>t</th>      <th>P>|t|</th>  <th>[0.025</th>    <th>0.975]</th>  \n",
              "</tr>\n",
              "<tr>\n",
              "  <th>ad_cost</th> <td>   43.9667</td> <td>    2.911</td> <td>   15.102</td> <td> 0.000</td> <td>   35.884</td> <td>   52.050</td>\n",
              "</tr>\n",
              "</table>\n",
              "<table class=\"simpletable\">\n",
              "<tr>\n",
              "  <th>Omnibus:</th>       <td>   nan</td> <th>  Durbin-Watson:     </th> <td>   2.384</td>\n",
              "</tr>\n",
              "<tr>\n",
              "  <th>Prob(Omnibus):</th> <td>   nan</td> <th>  Jarque-Bera (JB):  </th> <td>   0.262</td>\n",
              "</tr>\n",
              "<tr>\n",
              "  <th>Skew:</th>          <td> 0.422</td> <th>  Prob(JB):          </th> <td>   0.877</td>\n",
              "</tr>\n",
              "<tr>\n",
              "  <th>Kurtosis:</th>      <td> 2.261</td> <th>  Cond. No.          </th> <td>    1.00</td>\n",
              "</tr>\n",
              "</table><br/><br/>Notes:<br/>[1] R² is computed without centering (uncentered) since the model does not contain a constant.<br/>[2] Standard Errors assume that the covariance matrix of the errors is correctly specified."
            ],
            "text/plain": [
              "<class 'statsmodels.iolib.summary.Summary'>\n",
              "\"\"\"\n",
              "                                 OLS Regression Results                                \n",
              "=======================================================================================\n",
              "Dep. Variable:                revenue   R-squared (uncentered):                   0.983\n",
              "Model:                            OLS   Adj. R-squared (uncentered):              0.978\n",
              "Method:                 Least Squares   F-statistic:                              228.1\n",
              "Date:                Sat, 12 Nov 2022   Prob (F-statistic):                    0.000112\n",
              "Time:                        10:57:28   Log-Likelihood:                         -45.425\n",
              "No. Observations:                   5   AIC:                                      92.85\n",
              "Df Residuals:                       4   BIC:                                      92.46\n",
              "Df Model:                           1                                                  \n",
              "Covariance Type:            nonrobust                                                  \n",
              "==============================================================================\n",
              "                 coef    std err          t      P>|t|      [0.025      0.975]\n",
              "------------------------------------------------------------------------------\n",
              "ad_cost       43.9667      2.911     15.102      0.000      35.884      52.050\n",
              "==============================================================================\n",
              "Omnibus:                          nan   Durbin-Watson:                   2.384\n",
              "Prob(Omnibus):                    nan   Jarque-Bera (JB):                0.262\n",
              "Skew:                           0.422   Prob(JB):                        0.877\n",
              "Kurtosis:                       2.261   Cond. No.                         1.00\n",
              "==============================================================================\n",
              "\n",
              "Notes:\n",
              "[1] R² is computed without centering (uncentered) since the model does not contain a constant.\n",
              "[2] Standard Errors assume that the covariance matrix of the errors is correctly specified.\n",
              "\"\"\""
            ]
          },
          "execution_count": 5,
          "metadata": {},
          "output_type": "execute_result"
        }
      ],
      "source": [
        "mod.summary()"
      ]
    }
  ],
  "metadata": {
    "kernelspec": {
      "display_name": "Python 3.8.8 ('base')",
      "language": "python",
      "name": "python3"
    },
    "language_info": {
      "codemirror_mode": {
        "name": "ipython",
        "version": 3
      },
      "file_extension": ".py",
      "mimetype": "text/x-python",
      "name": "python",
      "nbconvert_exporter": "python",
      "pygments_lexer": "ipython3",
      "version": "3.8.8"
    },
    "vscode": {
      "interpreter": {
        "hash": "8602ab2c3388629891678afcd302d55cf8f09071ac181019a4e33980ecf48fe4"
      }
    }
  },
  "nbformat": 4,
  "nbformat_minor": 5
}
