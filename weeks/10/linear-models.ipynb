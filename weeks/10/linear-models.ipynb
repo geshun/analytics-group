{
  "cells": [
    {
      "cell_type": "markdown",
      "metadata": {},
      "source": [
        "# linear-models\n",
        "\n",
        "geshun"
      ],
      "id": "c361fb14-8de5-41f4-b430-0adc1967d86a"
    },
    {
      "cell_type": "code",
      "execution_count": null,
      "metadata": {},
      "outputs": [],
      "source": [
        "reticulate::use_condaenv(\"base\")"
      ],
      "id": "3bfc983a-6c88-47f9-96dc-7fe0c0c364df"
    },
    {
      "cell_type": "code",
      "execution_count": null,
      "metadata": {},
      "outputs": [],
      "source": [
        "import pandas as pd\n",
        "import statsmodels.api as sm\n",
        "from math import sqrt\n",
        "from sklearn.linear_model import LinearRegression\n",
        "from sklearn.metrics import mean_squared_error, r2_score, mean_absolute_error\n",
        "import matplotlib.pyplot as plt\n",
        "import numpy as np\n",
        "from scipy.stats import pearsonr\n",
        "plt.style.use('seaborn-whitegrid')"
      ],
      "id": "7d718847-23ad-45f5-945e-b798c035dd8d"
    },
    {
      "cell_type": "markdown",
      "metadata": {},
      "source": [
        "## Linear Models\n",
        "\n",
        "A model is a representation of the real world. A company ($KN^3$)\n",
        "engages Facebook ad as a marketing strategy. The company wants to find a\n",
        "way to increase its revenue and control the cost of advertisement. If we\n",
        "can find an association between ad cost and revenue\n",
        "(i.e. $revenue = f(ad) + \\epsilon$) the company might be able to achieve\n",
        "its goals. The whole idea is determining what this $f$ is. Realize that\n",
        "our $f$ is just approximating (since it’s a model and not the real\n",
        "thing) so we add the error term $\\epsilon$. The form this function $f$\n",
        "takes defines if we have a linear model.\n",
        "\n",
        "A linear model can be generally expressed as\n",
        "\n",
        "$$\n",
        "\\hat{y}_i = \\sum_{j=1}^{n}w_jx_{ij} = w_1x_{i1} + \\dots + w_nx_{in}\n",
        "$$\n",
        "\n",
        "where $n$ is the number of features and $i$ is the number of\n",
        "observations (examples).\n",
        "\n",
        "1.  $w_j$ weights or parameters to be estimated using data\n",
        "2.  $\\hat{y}_i$ is a linear combination of weighted features\n",
        "3.  the form $\\hat{y}_i$ takes depends on if we have regression or\n",
        "    classification problem\n",
        "\n",
        "We are saying revenue is just achieved if we scale our cost of\n",
        "advertisement by a factor. However, we can also conceive a scenario\n",
        "where we want to talk about revenue even if no advertisement is made. In\n",
        "that case, we need to include the bias term $w_o$.\n",
        "\n",
        "$$\n",
        "\\sum_{j=1}^{n}w_jx_{ij} + w_o = \\sum_{j=0}^{n}w_jx_{ij}\n",
        "$$\n",
        "\n",
        "where $x_{i0} = 1$\n",
        "\n",
        "Consider a simple case of no intercept:\n",
        "\n",
        "$$\n",
        "\\begin{bmatrix}\n",
        "12000 \\\\ 23000 \\\\ 15000 \\\\ 10000 \\\\ 18000\n",
        "\\end{bmatrix} = \n",
        "w\\begin{bmatrix}\n",
        "300 \\\\ 450 \\\\ 360 \\\\ 300 \\\\ 400\n",
        "\\end{bmatrix}\n",
        "$$\n",
        "\n",
        "$w$ is the parameter to be estimated\n",
        "\n",
        "Suppose we assume that the revenue generated is directly propositional\n",
        "to the cost of ad. That is $y\\:\\alpha\\: x$. And thus, $y = wx$ . If\n",
        "$y = 12000$ and $x = 300$ find the constant of proportionality.\n",
        "\n",
        "$12000 = 300w \\rightarrow w = 12000 / 300 = 40$. Thus, revenue is 40\n",
        "folds of cost of ad."
      ],
      "id": "e592d393-ea46-458a-aa10-e09d488b40a0"
    },
    {
      "cell_type": "code",
      "execution_count": null,
      "metadata": {},
      "outputs": [
        {
          "output_type": "stream",
          "name": "stdout",
          "text": [
            "array([12000, 23000, 15000, 10000, 18000])"
          ]
        },
        {
          "output_type": "stream",
          "name": "stdout",
          "text": [
            "array([    0.,  5000.,   600., -2000.,  2000.])"
          ]
        }
      ],
      "source": [
        "def compute_weight(revenue, ad_cost):\n",
        "  return revenue / ad_cost\n",
        "\n",
        "weight = compute_weight(12000, 300)\n",
        "\n",
        "def predict_revenue(ad_cost, weight):\n",
        "  return ad_cost * weight\n",
        "\n",
        "# how we know how our model is doing\n",
        "def find_errors(revenue, prediction):\n",
        "  return revenue - prediction\n",
        "\n",
        "revenue = np.array([12000, 23000, 15000, 10000, 18000])\n",
        "ad_cost = np.array([300, 450, 360, 300, 400])\n",
        "\n",
        "revenue"
      ],
      "id": "6fbd9e93-9e3a-49e3-9d63-5b2cb89f33f0"
    },
    {
      "cell_type": "markdown",
      "metadata": {},
      "source": [
        "1.  Depending on our choice of revenue and corresponding cost of ad, we\n",
        "    come up with a weight. There are couple of issues. First, we did not\n",
        "    use all our revenues and ad cost and hence what we come up with is\n",
        "    not a reflective of all the revenues we are considering\n",
        "2.  The error is not a single value that we can easily interpret. It is\n",
        "    a vector. Essentially, our error vector asks the question: how is\n",
        "    our prediction similar or close to the actual revenue.\n",
        "\n",
        "Predicting with averages"
      ],
      "id": "b78ff98f-d23b-425d-8397-9d8fb296036e"
    },
    {
      "cell_type": "code",
      "execution_count": null,
      "metadata": {},
      "outputs": [
        {
          "output_type": "stream",
          "name": "stdout",
          "text": [
            "array([12000, 23000, 15000, 10000, 18000])"
          ]
        },
        {
          "output_type": "stream",
          "name": "stdout",
          "text": [
            "array([ -928.17679558,  3607.73480663,  -513.8121547 , -2928.17679558,\n",
            "         762.43093923])"
          ]
        }
      ],
      "source": [
        "avg_revenue = np.mean(revenue)\n",
        "avg_ad_cost = np.mean(ad_cost)\n",
        "\n",
        "weight = compute_weight(avg_revenue, avg_ad_cost)\n",
        "\n",
        "revenue"
      ],
      "id": "db3139e5-c513-465c-827f-9184752be37f"
    },
    {
      "cell_type": "code",
      "execution_count": null,
      "metadata": {},
      "outputs": [
        {
          "output_type": "display_data",
          "metadata": {},
          "data": {
            "image/png": "[encoded data removed]"
          }
        }
      ],
      "source": [
        "def plot_model(pred):\n",
        "  plt.clf()\n",
        "  plt.scatter(ad_cost, revenue, label=\"actual\")\n",
        "  plt.scatter(ad_cost, pred, label=\"predicted\")\n",
        "  plt.plot(ad_cost, pred, color=\"orange\")\n",
        "  plt.xlabel('ad cost')\n",
        "  plt.ylabel('revenue')\n",
        "  plt.legend()\n",
        "  plt.show()\n",
        "\n",
        "plot_model(pred)"
      ],
      "id": "5d20fefa-f4e9-4367-a39d-69b0affd3018"
    },
    {
      "cell_type": "markdown",
      "metadata": {},
      "source": [
        "Euclidean Distance\n",
        "\n",
        "$$\n",
        "\\sum_{i=1}^n e_i^2 = \\sum_{i = 1}^{n}(y - \\hat{y})^2\n",
        "$$"
      ],
      "id": "db3e9adb-e990-460a-a8ce-2d16ef5a682e"
    },
    {
      "cell_type": "code",
      "execution_count": null,
      "metadata": {},
      "outputs": [
        {
          "output_type": "stream",
          "name": "stdout",
          "text": [
            "4826.674405053534"
          ]
        }
      ],
      "source": [
        "def euclidean_error(actual, pred):\n",
        "  return sum((actual - pred) ** 2)\n",
        "\n",
        "euclidean_error(revenue, pred) ** (1/2)"
      ],
      "id": "609b327e-47e9-4d0b-9e7e-3a15b983b5e1"
    },
    {
      "cell_type": "markdown",
      "metadata": {},
      "source": [
        "Generalization of norm (how a mathematician talk about distance -\n",
        "$\\mathcal{L}^p$ norm\n",
        "\n",
        "$$\n",
        "||\\hat{e}|| = \\left(\\sum_{i = 1}^{n}|e_i|^p\\right)^{\\frac{1}{p}}\n",
        "$$\n",
        "\n",
        "Analytic (Normal or Close Form) Solution. This minimizes the Euclidean\n",
        "distance between the actual and predicted."
      ],
      "id": "eb60ef5c-df2a-411f-9fd6-dc981fc59395"
    },
    {
      "cell_type": "code",
      "execution_count": null,
      "metadata": {},
      "outputs": [
        {
          "output_type": "stream",
          "name": "stdout",
          "text": [
            "array([43.96667163])"
          ]
        }
      ],
      "source": [
        "X, y = ad_cost, revenue\n",
        "X = X.reshape(-1, 1)\n",
        "w = np.linalg.inv(X.T.dot(X)).dot(X.T).dot(y)\n",
        "w"
      ],
      "id": "2d4c6326-3f42-4631-afd4-009b3335a63d"
    },
    {
      "cell_type": "markdown",
      "metadata": {},
      "source": [
        "$$\n",
        "y = Xb\n",
        "$$\n",
        "\n",
        "$$\n",
        "X^Ty = X^TXb \\rightarrow b = (X^TX)^{-1}X^Ty\n",
        "$$"
      ],
      "id": "933d6757-f391-47a6-b78d-4b58f798f6c0"
    },
    {
      "cell_type": "code",
      "execution_count": null,
      "metadata": {},
      "outputs": [
        {
          "output_type": "stream",
          "name": "stdout",
          "text": [
            "          ad_cost   revenue\n",
            "ad_cost  1.000000  0.986055\n",
            "revenue  0.986055  1.000000"
          ]
        }
      ],
      "source": [
        "df = pd.DataFrame({\"ad_cost\": ad_cost, \"revenue\": revenue})\n",
        "df.corr()"
      ],
      "id": "08a7b7e0-147f-413b-b6a3-c9d91ffca865"
    },
    {
      "cell_type": "code",
      "execution_count": null,
      "metadata": {},
      "outputs": [
        {
          "output_type": "stream",
          "name": "stdout",
          "text": [
            "LinearRegression()"
          ]
        },
        {
          "output_type": "stream",
          "name": "stdout",
          "text": [
            "0.9723050655037573"
          ]
        }
      ],
      "source": [
        "reg = LinearRegression()\n",
        "reg.fit(df[[\"ad_cost\"]], df.revenue)"
      ],
      "id": "3e903b34-4525-4968-aee6-3da78eed7594"
    },
    {
      "cell_type": "code",
      "execution_count": null,
      "metadata": {},
      "outputs": [
        {
          "output_type": "stream",
          "name": "stdout",
          "text": [
            "0.9723050655037573"
          ]
        },
        {
          "output_type": "stream",
          "name": "stdout",
          "text": [
            "763.3488205276457"
          ]
        },
        {
          "output_type": "stream",
          "name": "stdout",
          "text": [
            "710.42654028436"
          ]
        }
      ],
      "source": [
        "y_pred = reg.predict(df.drop(['revenue'], axis=1))\n",
        "r2_score(df.revenue, y_pred)"
      ],
      "id": "72f0a6c2-522a-405c-a7b6-56d2f0ea3a9e"
    },
    {
      "cell_type": "code",
      "execution_count": null,
      "metadata": {},
      "outputs": [
        {
          "output_type": "stream",
          "name": "stdout",
          "text": [
            "<class 'statsmodels.iolib.summary.Summary'>\n",
            "\"\"\"\n",
            "                                 OLS Regression Results                                \n",
            "=======================================================================================\n",
            "Dep. Variable:                revenue   R-squared (uncentered):                   0.983\n",
            "Model:                            OLS   Adj. R-squared (uncentered):              0.978\n",
            "Method:                 Least Squares   F-statistic:                              228.1\n",
            "Date:                Fri, 18 Nov 2022   Prob (F-statistic):                    0.000112\n",
            "Time:                        10:46:38   Log-Likelihood:                         -45.425\n",
            "No. Observations:                   5   AIC:                                      92.85\n",
            "Df Residuals:                       4   BIC:                                      92.46\n",
            "Df Model:                           1                                                  \n",
            "Covariance Type:            nonrobust                                                  \n",
            "==============================================================================\n",
            "                 coef    std err          t      P>|t|      [0.025      0.975]\n",
            "------------------------------------------------------------------------------\n",
            "ad_cost       43.9667      2.911     15.102      0.000      35.884      52.050\n",
            "==============================================================================\n",
            "Omnibus:                          nan   Durbin-Watson:                   2.384\n",
            "Prob(Omnibus):                    nan   Jarque-Bera (JB):                0.262\n",
            "Skew:                           0.422   Prob(JB):                        0.877\n",
            "Kurtosis:                       2.261   Cond. No.                         1.00\n",
            "==============================================================================\n",
            "\n",
            "Notes:\n",
            "[1] R² is computed without centering (uncentered) since the model does not contain a constant.\n",
            "[2] Standard Errors assume that the covariance matrix of the errors is correctly specified.\n",
            "\"\"\"\n",
            "\n",
            "C:\\Users\\gideo\\ANACON~1\\lib\\site-packages\\statsmodels\\stats\\stattools.py:74: ValueWarning: omni_normtest is not valid with less than 8 observations; 5 samples were given.\n",
            "  warn(\"omni_normtest is not valid with less than 8 observations; %i \""
          ]
        }
      ],
      "source": [
        "mod = sm.OLS(df[[\"revenue\"]], df[[\"ad_cost\"]])\n",
        "reg = mod.fit()\n",
        "reg.summary()"
      ],
      "id": "fdefc747-aae2-4494-8026-5c06214b9f46"
    },
    {
      "cell_type": "code",
      "execution_count": null,
      "metadata": {},
      "outputs": [
        {
          "output_type": "display_data",
          "metadata": {},
          "data": {
            "image/png": "[encoded data removed]"
          }
        }
      ],
      "source": [
        "df.plot.scatter(x=\"ad_cost\", y=\"revenue\")\n",
        "plt.show()"
      ],
      "id": "ae33f33d-64d7-47c1-b727-38218f11cf06"
    }
  ],
  "nbformat": 4,
  "nbformat_minor": 5,
  "metadata": {
    "kernelspec": {
      "display_name": "Python 3",
      "language": "python",
      "name": "python3"
    }
  }
}